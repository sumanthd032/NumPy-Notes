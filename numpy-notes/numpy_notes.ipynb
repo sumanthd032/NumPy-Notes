{
 "cells": [
  {
   "cell_type": "markdown",
   "id": "031807a1-85c0-47e6-b1d3-f70c203d13f5",
   "metadata": {},
   "source": [
    "# NumPy - Numerical Python\n",
    "\n",
    "- **Foundational package for numerical computing in Python**  \n",
    "- It is widely used because of its following capabilities:\n",
    "\n",
    "  - `ndarray` is an **efficient multidimensional array** for storing and manipulating numerical data.\n",
    "  - Enables **faster mathematical operations** on entire arrays without writing explicit loops.\n",
    "  - Supports **linear algebra, random number generation, and Fourier transform capabilities**.\n",
    "  - Provides a **C API** for connecting NumPy with libraries written in C, C++, or FORTRAN.\n"
   ]
  },
  {
   "cell_type": "markdown",
   "id": "dfa9f4fe-a5b9-49f4-9d15-98fcb311b32a",
   "metadata": {},
   "source": [
    "## Why NumPy is Efficient for Large Array Data\n",
    "\n",
    "- **NumPy is majorly used for its efficient handling of large amounts of array data.**\n",
    "- It provides this efficiency because:\n",
    "  - NumPy stores data internally in **contiguous memory blocks**, unlike other Python data structures.\n",
    "  - The **NumPy library is written in C**, allowing it to use memory directly without type checks or other overhead.\n",
    "  - Its operations perform **complex computations on entire arrays without the need for Python `for` loops.**\n",
    "  - It **uses less memory** compared to other Python sequences.\n",
    "    \n",
    "Example on **how NumPy performs these optimizations will be demonstrated with a small example** in the next section.\n"
   ]
  },
  {
   "cell_type": "code",
   "execution_count": 74,
   "id": "010ecf40-290d-48ee-b412-26e725434b9d",
   "metadata": {},
   "outputs": [
    {
     "name": "stdout",
     "output_type": "stream",
     "text": [
      "Time take to multiply entire array with 2: \n",
      "CPU times: user 25.3 ms, sys: 3.87 ms, total: 29.2 ms\n",
      "Wall time: 30.1 ms\n",
      "Time take to multiply entire list with 2: \n",
      "CPU times: user 381 ms, sys: 164 ms, total: 545 ms\n",
      "Wall time: 550 ms\n"
     ]
    }
   ],
   "source": [
    "import numpy as np\n",
    "\n",
    "my_arr = np.arange(1000000)\n",
    "my_list = list(range(1000000))\n",
    "\n",
    "print(\"Time take to multiply entire array with 2: \")\n",
    "%time for _ in range(10): my_arr2 = my_arr * 2\n",
    "\n",
    "print(\"Time take to multiply entire list with 2: \")\n",
    "%time for _ in range(10): my_list2 = [x * 2 for x in my_list]"
   ]
  },
  {
   "cell_type": "markdown",
   "id": "8b643caf-e8e4-4ab2-870c-6a6796d94491",
   "metadata": {},
   "source": [
    "## The NumPy `ndarray`: A Multidimensional Array Object\n",
    "\n",
    "One of the **key features of NumPy** is its **N-dimensional array object (`ndarray`)**, which is a **fast and flexible container for large datasets in Python**.\n",
    "\n",
    "- An `ndarray` is a **generic multidimensional container for homogeneous data**:\n",
    "  - All elements in the array must be of the **same data type**.\n",
    "  \n",
    "- **Every array has:**\n",
    "  - **`shape`**: A tuple indicating the **size of each dimension** of the array.\n",
    "  - **`dtype`**: An object describing the **data type of the array**.\n"
   ]
  },
  {
   "cell_type": "code",
   "execution_count": 75,
   "id": "2460b859-f256-4962-bf0d-7e130dc6bec8",
   "metadata": {},
   "outputs": [
    {
     "name": "stdout",
     "output_type": "stream",
     "text": [
      "[[ 0.7347131  -0.86720006  0.91134969]\n",
      " [ 1.31663266 -1.11798033  1.12641784]]\n",
      "Shape: (2, 3)\n",
      "Datatype: float64\n"
     ]
    },
    {
     "data": {
      "text/plain": [
       "(None,)"
      ]
     },
     "execution_count": 75,
     "metadata": {},
     "output_type": "execute_result"
    }
   ],
   "source": [
    "#Simple demonstration of numpy\n",
    "\n",
    "import numpy as np\n",
    "\n",
    "data = np.random.randn(2,3) #This will create a random array of dimension 2*3\n",
    "print(data)\n",
    "\n",
    "#Print the shape\n",
    "print(f\"Shape: {data.shape}\")\n",
    "\n",
    "#Print the datatype\n",
    "print(f\"Datatype: {data.dtype}\"),"
   ]
  },
  {
   "cell_type": "markdown",
   "id": "c0925770-6a13-4303-9b84-adfba9663acd",
   "metadata": {},
   "source": [
    "## Creating `ndarray`s\n",
    "\n",
    "There are many ways to create `ndarray`s in NumPy:\n",
    "\n",
    "1. **Using the `array` function**  \n",
    "   - Pass a **list or any sequence-like object** (including another array) to generate a new `ndarray`.\n",
    "   - **Note:** Nested sequences (like a list of equal-length lists) will be converted into a **multidimensional array**.\n",
    "\n",
    "2. **Arrays of zeros and ones**  \n",
    "   - Use `np.zeros(shape)` to create an array filled with **zeros**.\n",
    "   - Use `np.ones(shape)` to create an array filled with **ones**.\n",
    "\n",
    "3. **Creating an empty array**  \n",
    "   - Use `np.empty(shape)` to create an array that **may contain zeros or garbage values**, depending on the state of the memory.\n",
    "\n",
    "4. **Using `arange`**  \n",
    "   - `np.arange` is an **array-valued version of the built-in Python `range` function**.\n",
    "\n",
    "**Note:**  \n",
    "The **number of dimensions** of an array can be found using the **`ndim` attribute**.\n"
   ]
  },
  {
   "cell_type": "code",
   "execution_count": 76,
   "id": "85669697-e362-436f-af29-eb782e00972d",
   "metadata": {},
   "outputs": [
    {
     "name": "stdout",
     "output_type": "stream",
     "text": [
      "Array 1: [1 2 3 4 5]\n",
      "Multidimensional array: [[3 4 5]\n",
      " [2 3 4]]\n",
      "Number of dimensions: 2\n",
      "Array 2: [[0. 0. 0.]\n",
      " [0. 0. 0.]]\n",
      "Array 2: [[1. 1. 1.]\n",
      " [1. 1. 1.]]\n",
      "Array 3: [[1. 1. 1.]\n",
      " [1. 1. 1.]]\n",
      "Array 4: [ 0  1  2  3  4  5  6  7  8  9 10 11 12 13 14]\n"
     ]
    }
   ],
   "source": [
    "#Method 1\n",
    "list_data = [1,2,3,4,5]\n",
    "arr1 = np.array(list_data)\n",
    "print(f\"Array 1: {arr1}\")\n",
    "\n",
    "#Multidimensional array\n",
    "multidim_arr = np.array([[3,4,5],[2,3,4]])\n",
    "print(f\"Multidimensional array: {multidim_arr}\")\n",
    "print(f\"Number of dimensions: {multidim_arr.ndim}\")\n",
    "\n",
    "#Method 2\n",
    "arr2 = np.zeros((2,3))    #Here remember we have to pass tuple of dimension\n",
    "print(f\"Array 2: {arr2}\")\n",
    "arr2 = np.ones((2,3))\n",
    "print(f\"Array 2: {arr2}\")\n",
    "\n",
    "#Method 3\n",
    "arr3 = np.empty((2,3))\n",
    "print(f\"Array 3: {arr3}\")\n",
    "\n",
    "#Method 4\n",
    "arr4 = np.arange(15)\n",
    "print(f\"Array 4: {arr4}\")"
   ]
  },
  {
   "cell_type": "markdown",
   "id": "10b8653a-f72d-46a1-add1-0bd6e2752c87",
   "metadata": {},
   "source": [
    "## Array Creation Functions in NumPy\n",
    "\n",
    "| **Name**        | **Syntax**                                | **Description**                                                                                                                                 |\n",
    "|-----------------|-------------------------------------------|-------------------------------------------------------------------------------------------------------------------------------------------------|\n",
    "| `array`         | `np.array(data, dtype=None)`             | Converts input data (list, tuple, array, or other sequence) to an `ndarray` by inferring or explicitly specifying `dtype`; copies data by default. |\n",
    "| `asarray`       | `np.asarray(data, dtype=None)`           | Converts input to `ndarray`, **does not copy** if the input is already an `ndarray`.                                                            |\n",
    "| `arange`        | `np.arange(start, stop, step)`           | Like the built-in `range` but returns an `ndarray` instead of a list.                                                                          |\n",
    "| `ones`, `ones_like` | `np.ones(shape, dtype=None)`, `np.ones_like(a)` | Produces an array of all 1s with the given shape and dtype; `ones_like` creates a ones array of the **same shape and dtype as another array**.  |\n",
    "| `zeros`, `zeros_like` | `np.zeros(shape, dtype=None)`, `np.zeros_like(a)` | Like `ones` and `ones_like` but producing arrays of 0s instead.                                                                                |\n",
    "| `empty`, `empty_like` | `np.empty(shape, dtype=None)`, `np.empty_like(a)` | Creates new arrays by allocating memory without populating values (may contain garbage values).                                                |\n",
    "| `full`, `full_like`   | `np.full(shape, fill_value, dtype=None)`, `np.full_like(a, fill_value)` | Produces an array of the given shape and dtype with all values set to the indicated “fill value”; `full_like` uses another array’s shape and dtype. |\n",
    "| `eye`, `identity`     | `np.eye(N)`, `np.identity(N)`       | Creates a square N × N **identity matrix** (1s on the diagonal, 0s elsewhere).                                                                 |\n"
   ]
  },
  {
   "cell_type": "markdown",
   "id": "e8f261ff-07fa-42c7-b0b5-d8ded17d4a1b",
   "metadata": {},
   "source": [
    "## Data Types of NumPy `ndarray`s\n",
    "\n",
    "NumPy provides a **rich set of data types (`dtype`)** for efficient and precise storage of numerical and other data within `ndarray`s. Choosing the right `dtype` helps in:\n",
    "\n",
    "✅ **Memory optimization** when working with large datasets  \n",
    "✅ **Ensuring compatibility** with C and FORTRAN libraries  \n",
    "✅ **Precision control** in numerical computations\n",
    "\n",
    "---\n",
    "\n",
    "### Table: Common NumPy Data Types\n",
    "\n",
    "| **Type** | **Type Code** | **Description** |\n",
    "|----------|---------------|-----------------|\n",
    "| `int8`, `uint8` | `i1`, `u1` | Signed and unsigned 8-bit (1 byte) integer types |\n",
    "| `int16`, `uint16` | `i2`, `u2` | Signed and unsigned 16-bit integer types |\n",
    "| `int32`, `uint32` | `i4`, `u4` | Signed and unsigned 32-bit integer types |\n",
    "| `int64`, `uint64` | `i8`, `u8` | Signed and unsigned 64-bit integer types |\n",
    "| `float16` | `f2` | Half-precision floating point |\n",
    "| `float32` | `f4` or `f` | Standard single-precision floating point (compatible with C `float`) |\n",
    "| `float64` | `f8` or `d` | Standard double-precision floating point (compatible with C `double` and Python `float`) |\n",
    "| `float128` | `f16` or `g` | Extended-precision floating point |\n",
    "| `complex64`, `complex128`, `complex256` | `c8`, `c16`, `c32` | Complex numbers represented by two 32, 64, or 128-bit floats respectively |\n",
    "| `bool` | `?` | Boolean type storing `True` and `False` values |\n",
    "| `object` | `O` | Python object type; elements can be any Python object |\n",
    "| `string_` | `S` | Fixed-length ASCII string type (1 byte per character); e.g., `'S10'` for 10-character strings |\n",
    "| `unicode_` | `U` | Fixed-length Unicode string type; platform-dependent byte size; e.g., `'U10'` for 10-character Unicode strings |\n",
    "\n",
    "---\n",
    "\n",
    "### Additional Notes\n",
    "\n",
    "✅ The **`dtype` attribute** of an `ndarray` shows the data type of its elements:\n",
    "```python\n",
    "import numpy as np\n",
    "arr = np.array([1, 2, 3], dtype=np.int32)\n",
    "print(arr.dtype)  # Output: int32\n"
   ]
  },
  {
   "cell_type": "code",
   "execution_count": 77,
   "id": "d32e7898-49d6-4fb9-a99f-9b6fe34c1fe2",
   "metadata": {},
   "outputs": [
    {
     "name": "stdout",
     "output_type": "stream",
     "text": [
      "float64\n",
      "int32\n"
     ]
    }
   ],
   "source": [
    "arr1 = np.array([1,2,3,4], dtype= np.float64)\n",
    "print(arr1.dtype)\n",
    "arr2 = np.array([1,2,3,4], dtype= np.int32)\n",
    "print(arr2.dtype)"
   ]
  },
  {
   "cell_type": "markdown",
   "id": "20e8848b-f190-4163-99d7-0218d3c31341",
   "metadata": {},
   "source": [
    "## Type Casting with `astype` in NumPy\n",
    "\n",
    "You can **explicitly convert (cast) an array from one `dtype` to another** using the **`astype` method** of `ndarray`.\n",
    "\n",
    "### Key Points:\n",
    "\n",
    "✅ If you **cast floating-point numbers to an integer `dtype`**, the **decimal part will be truncated** (not rounded).  \n",
    "✅ If you have an **array of strings representing numbers**, you can use `astype` to convert them to **numeric form** for computations.\n",
    "\n",
    "### Note:\n",
    "- Caution on numpy.string_ Type\n",
    "- The numpy.string_ type has a fixed size and may truncate input strings without warning.\n",
    "- For handling non-numeric or text data, it is often better to use pandas, which provides more intuitive behavior for variable-length string data.\n",
    "\n",
    "**Calling astype always creates a new array (a copy of the data), even if the new dtype is the same as the old dtype.**"
   ]
  },
  {
   "cell_type": "code",
   "execution_count": 78,
   "id": "13172331-fb31-4cfd-aa8a-848ce4bee518",
   "metadata": {},
   "outputs": [
    {
     "name": "stdout",
     "output_type": "stream",
     "text": [
      "[ 3  1 -2]\n",
      "[1.5 2.3 3.7]\n"
     ]
    }
   ],
   "source": [
    "import numpy as np\n",
    "\n",
    "# Floating-point to integer (decimal part truncated)\n",
    "arr_float = np.array([3.7, 1.2, -2.8])\n",
    "arr_int = arr_float.astype(np.int32)\n",
    "print(arr_int)\n",
    "\n",
    "# Strings representing numbers to numeric\n",
    "arr_str = np.array(['1.5', '2.3', '3.7'])\n",
    "arr_float_from_str = arr_str.astype(np.float64)\n",
    "print(arr_float_from_str)"
   ]
  },
  {
   "cell_type": "markdown",
   "id": "b8185bb7-4d5d-4781-91a2-697460182456",
   "metadata": {},
   "source": [
    "## Vectorization and Broadcasting in NumPy\n",
    "\n",
    "Arrays are important in NumPy because they **enable you to express batch operations on data without writing explicit `for` loops.** This makes your code:\n",
    "\n",
    "✅ Faster  \n",
    "✅ Cleaner  \n",
    "✅ Closer to mathematical notation\n",
    "\n",
    "---\n",
    "\n",
    "### Vectorization\n",
    "\n",
    "✅ **Vectorization** refers to **performing operations on entire arrays without explicit loops**.\n",
    "\n",
    "✅ Any **arithmetic operations between equal-size arrays apply the operation element-wise.**\n",
    "\n",
    "### Broadcasting\n",
    "\n",
    "✅ **Broadcasting** refers to **performing operations on arrays of different shapes and sizes by stretching the smaller array across the larger one automatically to perform element-wise operations**.\n",
    "\n",
    "This allows:\n",
    "\n",
    "- Operations between differently shaped arrays without making unnecessary copies.\n",
    "\n",
    "- Efficient memory and computation for operations like adding a scalar or row/column to an entire matrix.\n"
   ]
  },
  {
   "cell_type": "code",
   "execution_count": 79,
   "id": "d8301fbf-392c-4cf3-ad59-5c5a7a458796",
   "metadata": {},
   "outputs": [
    {
     "data": {
      "text/plain": [
       "array([[1, 2, 3],\n",
       "       [4, 5, 6]])"
      ]
     },
     "execution_count": 79,
     "metadata": {},
     "output_type": "execute_result"
    }
   ],
   "source": [
    "arr = np.array([[1,2,3], [4,5,6]])\n",
    "arr"
   ]
  },
  {
   "cell_type": "code",
   "execution_count": 80,
   "id": "ce572a4c-2afe-4903-8401-15f06001826c",
   "metadata": {},
   "outputs": [
    {
     "data": {
      "text/plain": [
       "array([[ 1,  4,  9],\n",
       "       [16, 25, 36]])"
      ]
     },
     "execution_count": 80,
     "metadata": {},
     "output_type": "execute_result"
    }
   ],
   "source": [
    "arr * arr"
   ]
  },
  {
   "cell_type": "code",
   "execution_count": 81,
   "id": "fd7aec70-368f-47de-bd76-7561368997d6",
   "metadata": {},
   "outputs": [
    {
     "data": {
      "text/plain": [
       "array([[ 2,  4,  6],\n",
       "       [ 8, 10, 12]])"
      ]
     },
     "execution_count": 81,
     "metadata": {},
     "output_type": "execute_result"
    }
   ],
   "source": [
    "arr + arr"
   ]
  },
  {
   "cell_type": "code",
   "execution_count": 82,
   "id": "6e2a3cd5-a52d-4f26-860d-ddef5b39e9ae",
   "metadata": {},
   "outputs": [
    {
     "data": {
      "text/plain": [
       "array([[0, 0, 0],\n",
       "       [0, 0, 0]])"
      ]
     },
     "execution_count": 82,
     "metadata": {},
     "output_type": "execute_result"
    }
   ],
   "source": [
    "arr - arr"
   ]
  },
  {
   "cell_type": "code",
   "execution_count": 83,
   "id": "dcda008f-3e6b-43ff-80d6-8a5504df6b81",
   "metadata": {},
   "outputs": [
    {
     "data": {
      "text/plain": [
       "array([[1.        , 0.5       , 0.33333333],\n",
       "       [0.25      , 0.2       , 0.16666667]])"
      ]
     },
     "execution_count": 83,
     "metadata": {},
     "output_type": "execute_result"
    }
   ],
   "source": [
    "1/ arr"
   ]
  },
  {
   "cell_type": "code",
   "execution_count": 84,
   "id": "ca3a4941-48af-4aa9-bfc7-09100dcefcd5",
   "metadata": {},
   "outputs": [
    {
     "data": {
      "text/plain": [
       "array([[1.        , 1.41421356, 1.73205081],\n",
       "       [2.        , 2.23606798, 2.44948974]])"
      ]
     },
     "execution_count": 84,
     "metadata": {},
     "output_type": "execute_result"
    }
   ],
   "source": [
    "arr ** 0.5"
   ]
  },
  {
   "cell_type": "code",
   "execution_count": 85,
   "id": "ffc542b4-a8be-4d91-93ee-e634e8a5a2e0",
   "metadata": {},
   "outputs": [
    {
     "data": {
      "text/plain": [
       "array([[False, False, False],\n",
       "       [ True,  True,  True]])"
      ]
     },
     "execution_count": 85,
     "metadata": {},
     "output_type": "execute_result"
    }
   ],
   "source": [
    "arr > 3"
   ]
  },
  {
   "cell_type": "markdown",
   "id": "844327c5-a623-459f-8305-fdd2d92e00db",
   "metadata": {},
   "source": [
    "## Basic Indexing and Slicing in NumPy\n",
    "\n",
    "NumPy provides **powerful and intuitive indexing and slicing capabilities** for working with arrays efficiently.\n",
    "\n",
    "---\n",
    "\n",
    "### Assigning Values to Slices\n",
    "\n",
    "✅ If you assign a **scalar value to a slice**, the value is **propagated (broadcasted) to the entire selection**.\n",
    "\n",
    "**Example:**\n",
    "```python\n",
    "arr[5:8] = 12\n"
   ]
  },
  {
   "cell_type": "code",
   "execution_count": 86,
   "id": "4179708b-4cb7-4448-9842-ea7638b23a42",
   "metadata": {},
   "outputs": [
    {
     "data": {
      "text/plain": [
       "array([0, 1, 2, 3, 4, 5, 6, 7, 8, 9])"
      ]
     },
     "execution_count": 86,
     "metadata": {},
     "output_type": "execute_result"
    }
   ],
   "source": [
    "arr = np.arange(10)\n",
    "arr"
   ]
  },
  {
   "cell_type": "code",
   "execution_count": 87,
   "id": "db7af2eb-6ff7-471f-a1b9-f348353b4366",
   "metadata": {},
   "outputs": [
    {
     "name": "stdout",
     "output_type": "stream",
     "text": [
      "5\n"
     ]
    }
   ],
   "source": [
    "print(arr[5])"
   ]
  },
  {
   "cell_type": "code",
   "execution_count": 88,
   "id": "218a3912-2cda-4885-bd19-ef505c5348ab",
   "metadata": {},
   "outputs": [
    {
     "name": "stdout",
     "output_type": "stream",
     "text": [
      "[4 5 6]\n"
     ]
    }
   ],
   "source": [
    "#slice indexing\n",
    "print(arr[4:7])"
   ]
  },
  {
   "cell_type": "code",
   "execution_count": 89,
   "id": "0e1ac874-b3a5-4384-9618-405951bfa892",
   "metadata": {},
   "outputs": [
    {
     "name": "stdout",
     "output_type": "stream",
     "text": [
      "[ 0  1  2 12 12 12  6  7  8  9]\n"
     ]
    }
   ],
   "source": [
    "#assining value to slice\n",
    "arr[3:6] = 12\n",
    "print(arr)"
   ]
  },
  {
   "cell_type": "markdown",
   "id": "fcdcbac7-caf1-45ea-a5be-c906b3208cd5",
   "metadata": {},
   "source": [
    "## Difference Between NumPy Views and Python List Copies\n",
    "\n",
    "Understanding how **slicing behaves in NumPy arrays vs. Python lists** is essential for efficient data manipulation.\n",
    "\n",
    "---\n",
    "\n",
    "### Python Lists: Slicing Creates Copies\n",
    "\n",
    "✅ When you slice a Python list, it **creates a new independent copy** of the data.\n",
    "\n",
    "✅ Modifying the slice **does *not* affect the original list.**\n",
    "\n"
   ]
  },
  {
   "cell_type": "code",
   "execution_count": 90,
   "id": "9d69bd53-8297-45f3-986a-ee05075e6757",
   "metadata": {},
   "outputs": [
    {
     "name": "stdout",
     "output_type": "stream",
     "text": [
      "[1, 2, 3, 4, 5]\n",
      "[99, 3, 4]\n"
     ]
    }
   ],
   "source": [
    "lst = [1, 2, 3, 4, 5]\n",
    "sub_lst = lst[1:4]\n",
    "sub_lst[0] = 99\n",
    "\n",
    "print(lst)       # [1, 2, 3, 4, 5]\n",
    "print(sub_lst)   # [99, 3, 4]"
   ]
  },
  {
   "cell_type": "markdown",
   "id": "be395092-a273-4c7f-b6f4-7eb32d57c623",
   "metadata": {},
   "source": [
    "### NumPy Arrays: Slicing Creates Views\n",
    "\n",
    "✅ When you slice a NumPy array, it **creates a view on the same data**, not a copy.\n",
    "\n",
    "✅ Modifying the *slice also modifies* the original array.\n",
    "\n",
    "✅ NumPy’s behavior is more memory-efficient when working with large datasets, allowing you to modify subarrays without duplicating data.\n",
    "\n",
    "⚠️ Be cautious: Changes to a slice in NumPy will affect the original array unless you explicitly create a copy using arr.copy()."
   ]
  },
  {
   "cell_type": "code",
   "execution_count": 91,
   "id": "0a296c43-d7e7-47b7-858f-91ecaf82fe18",
   "metadata": {},
   "outputs": [
    {
     "name": "stdout",
     "output_type": "stream",
     "text": [
      "[ 1 99  3  4  5]\n",
      "[99  3  4]\n"
     ]
    }
   ],
   "source": [
    "arr = np.array([1, 2, 3, 4, 5])\n",
    "sub_arr = arr[1:4]\n",
    "sub_arr[0] = 99\n",
    "\n",
    "print(arr)       \n",
    "print(sub_arr) "
   ]
  },
  {
   "cell_type": "code",
   "execution_count": 92,
   "id": "07731e6c-b7dc-4696-9eb3-5edd7cf6e13d",
   "metadata": {},
   "outputs": [
    {
     "name": "stdout",
     "output_type": "stream",
     "text": [
      "[1 2 3 4 5]\n",
      "[99  3  4]\n"
     ]
    }
   ],
   "source": [
    "#Creating copy in numpy\n",
    "arr = np.array([1,2,3,4,5])\n",
    "sub_arr = arr[1:4].copy()\n",
    "sub_arr[0] = 99\n",
    "\n",
    "print(arr)       \n",
    "print(sub_arr)   # [99, 3, 4"
   ]
  },
  {
   "cell_type": "markdown",
   "id": "99788771-cc00-4bbd-8fb6-3bdbc047f1f3",
   "metadata": {},
   "source": [
    "### Indexing in higher dimensions\n",
    "\n",
    "- With higher dimensional arrays, you have many more options. In a two-dimensional array, the elements at each index are no longer scalars but rather one-dimensional arrays.\n",
    "- Thus, individual elements can be accessed recursively. But that is a bit too much\n",
    "work, so you can pass a comma-separated list of indices to select individual elements."
   ]
  },
  {
   "cell_type": "code",
   "execution_count": 93,
   "id": "1fbe147f-286b-4d03-bb47-c69bb917bbff",
   "metadata": {},
   "outputs": [
    {
     "data": {
      "text/plain": [
       "array([[1, 2, 3, 4],\n",
       "       [2, 3, 4, 5],\n",
       "       [2, 3, 4, 5]])"
      ]
     },
     "execution_count": 93,
     "metadata": {},
     "output_type": "execute_result"
    }
   ],
   "source": [
    "arr = np.array([[1,2,3,4],[2,3,4,5],[2,3,4,5]])\n",
    "arr"
   ]
  },
  {
   "cell_type": "code",
   "execution_count": 94,
   "id": "b080396b-799b-4498-924e-9313da208775",
   "metadata": {},
   "outputs": [
    {
     "data": {
      "text/plain": [
       "array([2, 3, 4, 5])"
      ]
     },
     "execution_count": 94,
     "metadata": {},
     "output_type": "execute_result"
    }
   ],
   "source": [
    "arr[2]"
   ]
  },
  {
   "cell_type": "code",
   "execution_count": 95,
   "id": "ec4b0ee8-c3c9-4ca8-a834-ad9b3a498023",
   "metadata": {},
   "outputs": [
    {
     "data": {
      "text/plain": [
       "np.int64(5)"
      ]
     },
     "execution_count": 95,
     "metadata": {},
     "output_type": "execute_result"
    }
   ],
   "source": [
    "arr[2][3]"
   ]
  },
  {
   "cell_type": "code",
   "execution_count": 96,
   "id": "93dcb8cc-449b-420a-940c-8c148351245e",
   "metadata": {},
   "outputs": [
    {
     "data": {
      "text/plain": [
       "array([[[ 1,  2,  3],\n",
       "        [ 4,  5,  6]],\n",
       "\n",
       "       [[ 7,  8,  9],\n",
       "        [10, 11, 12]]])"
      ]
     },
     "execution_count": 96,
     "metadata": {},
     "output_type": "execute_result"
    }
   ],
   "source": [
    "arr3d = np.array([[[1, 2, 3], [4, 5, 6]], [[7, 8, 9], [10, 11, 12]]])\n",
    "arr3d"
   ]
  },
  {
   "cell_type": "code",
   "execution_count": 97,
   "id": "cdd2250e-7540-415a-993f-6bddc08008d1",
   "metadata": {},
   "outputs": [
    {
     "data": {
      "text/plain": [
       "array([4, 5, 6])"
      ]
     },
     "execution_count": 97,
     "metadata": {},
     "output_type": "execute_result"
    }
   ],
   "source": [
    "# Although arr3d[0][1] produces same result, it is efficient as it not invloves creating intermidiate array\n",
    "arr3d[0,1] "
   ]
  },
  {
   "cell_type": "code",
   "execution_count": 98,
   "id": "77d3467f-69a0-4914-b158-e2e472168a02",
   "metadata": {},
   "outputs": [
    {
     "name": "stdout",
     "output_type": "stream",
     "text": [
      "[[1 2 3]\n",
      " [2 3 4]]\n",
      "[[ 7  8  9]\n",
      " [10 22 12]]\n"
     ]
    }
   ],
   "source": [
    "# Slicing to next level\n",
    "arr = np.array([[1,2,3],[2,3,4],[7,8,9],[10,22,12]])\n",
    "#This is same like select first two rows\n",
    "print(arr[:2])\n",
    "#This is same like select last two rows\n",
    "print(arr[2:])"
   ]
  },
  {
   "cell_type": "code",
   "execution_count": 99,
   "id": "f5f6b210-1e02-46de-9248-00cb29102296",
   "metadata": {},
   "outputs": [
    {
     "name": "stdout",
     "output_type": "stream",
     "text": [
      "[[2 3]\n",
      " [3 4]]\n"
     ]
    }
   ],
   "source": [
    "#By mixing integer indexes and slices, you get lower dimensional slices.\n",
    "print(arr[:2, 1:])"
   ]
  },
  {
   "cell_type": "code",
   "execution_count": 100,
   "id": "296154a8-661d-4c5d-b434-d49539f9cc93",
   "metadata": {},
   "outputs": [
    {
     "name": "stdout",
     "output_type": "stream",
     "text": [
      "[3 4]\n"
     ]
    }
   ],
   "source": [
    "print(arr[:2, 2])"
   ]
  },
  {
   "cell_type": "markdown",
   "id": "795c3f93-484d-48c9-a5c6-f30c3ffbca89",
   "metadata": {},
   "source": [
    "## Boolean Indexing"
   ]
  },
  {
   "cell_type": "code",
   "execution_count": 101,
   "id": "0bc9c254-f444-4bf7-abc2-717464d43fa0",
   "metadata": {},
   "outputs": [
    {
     "data": {
      "text/plain": [
       "array(['Bob', 'Joe', 'Will', 'Bob', 'Will', 'Joe', 'Joe'], dtype='<U4')"
      ]
     },
     "execution_count": 101,
     "metadata": {},
     "output_type": "execute_result"
    }
   ],
   "source": [
    "names = np.array(['Bob', 'Joe', 'Will', 'Bob', 'Will', 'Joe', 'Joe'])\n",
    "names"
   ]
  },
  {
   "cell_type": "code",
   "execution_count": 102,
   "id": "776b49c5-f654-4949-866f-964577c43734",
   "metadata": {},
   "outputs": [
    {
     "data": {
      "text/plain": [
       "array([[-1.02893324,  1.53800869, -0.61695107,  1.85992477],\n",
       "       [ 0.77088104, -0.6962631 , -2.11491483, -0.20484649],\n",
       "       [-0.63544551, -1.45422133,  0.12000618, -0.32408359],\n",
       "       [-2.06215417,  0.42129949,  0.45508316,  0.09199927],\n",
       "       [ 2.23133134,  0.65344792,  0.35691249, -0.728247  ],\n",
       "       [-0.13548186, -0.6659837 , -1.61020347, -0.05931129],\n",
       "       [-1.05294886,  0.72340392,  0.55991779, -0.21583404]])"
      ]
     },
     "execution_count": 102,
     "metadata": {},
     "output_type": "execute_result"
    }
   ],
   "source": [
    "data = np.random.randn(7, 4)\n",
    "data"
   ]
  },
  {
   "cell_type": "code",
   "execution_count": 103,
   "id": "1db8d23c-95fb-4f60-8901-5b1d4e81f4c1",
   "metadata": {},
   "outputs": [
    {
     "data": {
      "text/plain": [
       "array([ True, False, False,  True, False, False, False])"
      ]
     },
     "execution_count": 103,
     "metadata": {},
     "output_type": "execute_result"
    }
   ],
   "source": [
    "names == 'Bob'"
   ]
  },
  {
   "cell_type": "code",
   "execution_count": 104,
   "id": "e485b85b-a2e5-4266-937e-9778d2aa5da6",
   "metadata": {},
   "outputs": [
    {
     "data": {
      "text/plain": [
       "array([[-1.02893324,  1.53800869, -0.61695107,  1.85992477],\n",
       "       [-2.06215417,  0.42129949,  0.45508316,  0.09199927]])"
      ]
     },
     "execution_count": 104,
     "metadata": {},
     "output_type": "execute_result"
    }
   ],
   "source": [
    "data[names=='Bob']"
   ]
  },
  {
   "cell_type": "code",
   "execution_count": 105,
   "id": "432799c1-07a5-463e-8a1c-1a47aa843312",
   "metadata": {},
   "outputs": [
    {
     "data": {
      "text/plain": [
       "array([[ 0.77088104, -0.6962631 , -2.11491483, -0.20484649],\n",
       "       [-0.63544551, -1.45422133,  0.12000618, -0.32408359],\n",
       "       [ 2.23133134,  0.65344792,  0.35691249, -0.728247  ],\n",
       "       [-0.13548186, -0.6659837 , -1.61020347, -0.05931129],\n",
       "       [-1.05294886,  0.72340392,  0.55991779, -0.21583404]])"
      ]
     },
     "execution_count": 105,
     "metadata": {},
     "output_type": "execute_result"
    }
   ],
   "source": [
    "data[~(names=='Bob')]"
   ]
  },
  {
   "cell_type": "code",
   "execution_count": 70,
   "id": "d1ba6bae-4682-454a-8aaa-0422596436b4",
   "metadata": {},
   "outputs": [
    {
     "data": {
      "text/plain": [
       "array([[-1.45099971, -1.18867856, -1.32114016,  0.79269043],\n",
       "       [ 0.28286129,  1.12797942, -0.75316113, -0.29184351],\n",
       "       [ 0.96496895,  0.79280858, -0.3460665 , -0.24722648],\n",
       "       [ 1.53054507,  0.27077   , -2.0078455 ,  1.88069991]])"
      ]
     },
     "execution_count": 70,
     "metadata": {},
     "output_type": "execute_result"
    }
   ],
   "source": [
    "#In numpy we use | and &, not normal and, or\n",
    "mask = (names == 'Bob') | (names == 'Will')\n",
    "data[mask]"
   ]
  },
  {
   "cell_type": "code",
   "execution_count": 106,
   "id": "858a6b50-1476-49d8-85f5-74b236944de5",
   "metadata": {},
   "outputs": [
    {
     "data": {
      "text/plain": [
       "array([[0.        , 1.53800869, 0.        , 1.85992477],\n",
       "       [0.77088104, 0.        , 0.        , 0.        ],\n",
       "       [0.        , 0.        , 0.12000618, 0.        ],\n",
       "       [0.        , 0.42129949, 0.45508316, 0.09199927],\n",
       "       [2.23133134, 0.65344792, 0.35691249, 0.        ],\n",
       "       [0.        , 0.        , 0.        , 0.        ],\n",
       "       [0.        , 0.72340392, 0.55991779, 0.        ]])"
      ]
     },
     "execution_count": 106,
     "metadata": {},
     "output_type": "execute_result"
    }
   ],
   "source": [
    "#To set all of the negative values in data to 0\n",
    "data[data<0] = 0\n",
    "data"
   ]
  },
  {
   "cell_type": "markdown",
   "id": "8ad84a0a-1fe2-4d27-9b0f-cdba7e629d30",
   "metadata": {},
   "source": [
    "## Fancy Indexing\n",
    "\n",
    "Fancy indexing is a term adopted by NumPy to describe indexing using integer arrays."
   ]
  },
  {
   "cell_type": "code",
   "execution_count": 107,
   "id": "0abdad1c-0ccd-40ea-9b58-16b1d33d346d",
   "metadata": {},
   "outputs": [
    {
     "data": {
      "text/plain": [
       "array([[0., 0., 0., 0.],\n",
       "       [1., 1., 1., 1.],\n",
       "       [2., 2., 2., 2.],\n",
       "       [3., 3., 3., 3.],\n",
       "       [4., 4., 4., 4.],\n",
       "       [5., 5., 5., 5.],\n",
       "       [6., 6., 6., 6.],\n",
       "       [7., 7., 7., 7.]])"
      ]
     },
     "execution_count": 107,
     "metadata": {},
     "output_type": "execute_result"
    }
   ],
   "source": [
    "arr = np.empty((8, 4))\n",
    "for i in range(8):\n",
    "    arr[i] = i\n",
    "arr"
   ]
  },
  {
   "cell_type": "code",
   "execution_count": 110,
   "id": "766222e3-80b0-4db6-8be5-8d6b8c2a073f",
   "metadata": {},
   "outputs": [
    {
     "data": {
      "text/plain": [
       "array([[4., 4., 4., 4.],\n",
       "       [3., 3., 3., 3.],\n",
       "       [0., 0., 0., 0.],\n",
       "       [6., 6., 6., 6.]])"
      ]
     },
     "execution_count": 110,
     "metadata": {},
     "output_type": "execute_result"
    }
   ],
   "source": [
    "#To select out a subset of the rows in a particular order, you can simply pass a list or ndarray of integers specifying the desired order\n",
    "arr[[4, 3, 0, 6]]"
   ]
  },
  {
   "cell_type": "code",
   "execution_count": 112,
   "id": "cbb1f2cb-1671-4895-a600-748daa7f85ff",
   "metadata": {},
   "outputs": [
    {
     "data": {
      "text/plain": [
       "array([[5., 5., 5., 5.],\n",
       "       [3., 3., 3., 3.],\n",
       "       [1., 1., 1., 1.]])"
      ]
     },
     "execution_count": 112,
     "metadata": {},
     "output_type": "execute_result"
    }
   ],
   "source": [
    "#Using negative indices selects rows from the end\n",
    "arr[[-3, -5, -7]]"
   ]
  },
  {
   "cell_type": "code",
   "execution_count": 113,
   "id": "f62a869d-a5d5-4a8c-a4dc-45edf9b37b38",
   "metadata": {},
   "outputs": [
    {
     "data": {
      "text/plain": [
       "array([[ 0,  1,  2,  3],\n",
       "       [ 4,  5,  6,  7],\n",
       "       [ 8,  9, 10, 11],\n",
       "       [12, 13, 14, 15],\n",
       "       [16, 17, 18, 19],\n",
       "       [20, 21, 22, 23],\n",
       "       [24, 25, 26, 27],\n",
       "       [28, 29, 30, 31]])"
      ]
     },
     "execution_count": 113,
     "metadata": {},
     "output_type": "execute_result"
    }
   ],
   "source": [
    "#Passing multiple index arrays does something slightly different\n",
    "#it selects a one-dimensional array of elements corresponding to each tuple of indices\n",
    "arr = np.arange(32).reshape((8, 4))\n",
    "arr"
   ]
  },
  {
   "cell_type": "code",
   "execution_count": 114,
   "id": "099134c5-66e7-4bdc-9402-6d089f4ca69b",
   "metadata": {},
   "outputs": [
    {
     "data": {
      "text/plain": [
       "array([ 4, 23, 29, 10])"
      ]
     },
     "execution_count": 114,
     "metadata": {},
     "output_type": "execute_result"
    }
   ],
   "source": [
    "arr[[1, 5, 7, 2], [0, 3, 1, 2]]\n",
    "#Here the elements (1, 0), (5, 3), (7, 1), and (2, 2) were selected"
   ]
  },
  {
   "cell_type": "code",
   "execution_count": 115,
   "id": "bae12bb4-b474-4f90-a823-a2b68bb62215",
   "metadata": {},
   "outputs": [
    {
     "data": {
      "text/plain": [
       "array([[ 4,  7,  5,  6],\n",
       "       [20, 23, 21, 22],\n",
       "       [28, 31, 29, 30],\n",
       "       [ 8, 11,  9, 10]])"
      ]
     },
     "execution_count": 115,
     "metadata": {},
     "output_type": "execute_result"
    }
   ],
   "source": [
    "#The behavior of fancy indexing in this case is a bit different from what some users might have expected\n",
    "arr[[1, 5, 7, 2]][:, [0, 3, 1, 2]]"
   ]
  },
  {
   "cell_type": "markdown",
   "id": "1c69e7ae-76b5-448f-8e4f-00ab20c29d26",
   "metadata": {},
   "source": [
    "## Transposing Arrays and Swapping Axes\n",
    "\n",
    "### Transposing Arrays\n",
    "\n",
    "✅ **Transposing** is a **special form of reshaping** in NumPy that **returns a *view* on the underlying data without copying anything**.\n",
    "\n",
    "✅ This allows you to **rearrange the axes of an array efficiently for numerical computations** without additional memory overhead.\n",
    "\n",
    "---\n",
    "\n",
    "### Methods to Transpose\n",
    "\n",
    "1️⃣ **Using the `transpose` method**\n",
    "2️⃣ **Using the special `.T` attribute**\n",
    "\n",
    "- Both methods swap the axes of the array to produce the transposed view.\n",
    "\n",
    "✅ **Transposing and swapping axes are essential when**:\n",
    "\n",
    "- Performing matrix operations.\n",
    "\n",
    "- Adjusting axes to match expected input shapes for functions.\n",
    "\n",
    "- Rearranging data layouts without copying, ensuring efficient memory usage."
   ]
  },
  {
   "cell_type": "code",
   "execution_count": 116,
   "id": "02a1e68e-4cfd-4921-aad7-8bc2777a3431",
   "metadata": {},
   "outputs": [
    {
     "data": {
      "text/plain": [
       "array([[ 0,  1,  2,  3,  4],\n",
       "       [ 5,  6,  7,  8,  9],\n",
       "       [10, 11, 12, 13, 14]])"
      ]
     },
     "execution_count": 116,
     "metadata": {},
     "output_type": "execute_result"
    }
   ],
   "source": [
    "arr = np.arange(15).reshape((3, 5))\n",
    "arr"
   ]
  },
  {
   "cell_type": "code",
   "execution_count": 117,
   "id": "deecf8e4-edee-47dd-9f63-d9961a3f5a18",
   "metadata": {},
   "outputs": [
    {
     "data": {
      "text/plain": [
       "array([[ 0,  5, 10],\n",
       "       [ 1,  6, 11],\n",
       "       [ 2,  7, 12],\n",
       "       [ 3,  8, 13],\n",
       "       [ 4,  9, 14]])"
      ]
     },
     "execution_count": 117,
     "metadata": {},
     "output_type": "execute_result"
    }
   ],
   "source": [
    "arr.T"
   ]
  },
  {
   "cell_type": "code",
   "execution_count": 118,
   "id": "b930bd6f-0140-418d-9bbf-705d84e6e6aa",
   "metadata": {},
   "outputs": [
    {
     "data": {
      "text/plain": [
       "array([[ 0,  5, 10],\n",
       "       [ 1,  6, 11],\n",
       "       [ 2,  7, 12],\n",
       "       [ 3,  8, 13],\n",
       "       [ 4,  9, 14]])"
      ]
     },
     "execution_count": 118,
     "metadata": {},
     "output_type": "execute_result"
    }
   ],
   "source": [
    "arr.transpose()"
   ]
  },
  {
   "cell_type": "code",
   "execution_count": 119,
   "id": "379db9ff-a43d-4a03-a479-77beab37bec3",
   "metadata": {},
   "outputs": [
    {
     "data": {
      "text/plain": [
       "array([[[ 0,  1,  2,  3],\n",
       "        [ 8,  9, 10, 11]],\n",
       "\n",
       "       [[ 4,  5,  6,  7],\n",
       "        [12, 13, 14, 15]]])"
      ]
     },
     "execution_count": 119,
     "metadata": {},
     "output_type": "execute_result"
    }
   ],
   "source": [
    "# For higher dimensional arrays, transpose will accept a tuple of axis numbers to per‐ mute the axes\n",
    "arr = np.arange(16).reshape((2, 2, 4))\n",
    "arr.transpose((1, 0, 2))\n",
    "# Here, the axes have been reordered with the second axis first, the first axis second,and the last axis unchanged."
   ]
  },
  {
   "cell_type": "code",
   "execution_count": 121,
   "id": "37d80628-dfd0-4792-b627-a26b1a8d6569",
   "metadata": {},
   "outputs": [
    {
     "data": {
      "text/plain": [
       "array([[[ 0,  4],\n",
       "        [ 1,  5],\n",
       "        [ 2,  6],\n",
       "        [ 3,  7]],\n",
       "\n",
       "       [[ 8, 12],\n",
       "        [ 9, 13],\n",
       "        [10, 14],\n",
       "        [11, 15]]])"
      ]
     },
     "execution_count": 121,
     "metadata": {},
     "output_type": "execute_result"
    }
   ],
   "source": [
    "# Simple transposing with .T is a special case of swapping axes\n",
    "# ndarray has the method swapaxes, which takes a pair of axis numbers and switches the indicated axes to rearrange the data\n",
    "arr.swapaxes(1, 2)\n",
    "#swapaxes similarly returns a view on the data without making a copy."
   ]
  },
  {
   "cell_type": "markdown",
   "id": "9396723b-f2c4-4ee4-aaf1-99ececec1c3f",
   "metadata": {},
   "source": [
    "## Universal Functions (ufuncs): Fast Element-Wise Array Functions\n",
    "\n",
    "A **universal function (ufunc)** in NumPy is a **function that performs fast, element-wise operations on `ndarray` data.**\n",
    "\n",
    "You can think of ufuncs as **fast, vectorized wrappers around functions that take one or more scalar inputs and produce one or more scalar outputs.**\n",
    "\n",
    "Ufuncs help in:\n",
    "✅ Writing cleaner, loop-free numerical code  \n",
    "✅ Utilizing optimized, compiled C backend for speed  \n",
    "✅ Expressing element-wise operations naturally\n",
    "\n",
    "---\n",
    "\n",
    "## Table: Unary Universal Functions\n",
    "\n",
    "| **Function** | **Description** |\n",
    "|--------------|-----------------|\n",
    "| `abs`, `fabs` | Compute the absolute value element-wise for integer, float, or complex values |\n",
    "| `sqrt` | Compute the square root of each element (`arr ** 0.5`) |\n",
    "| `square` | Compute the square of each element (`arr ** 2`) |\n",
    "| `exp` | Compute the exponent *e^x* of each element |\n",
    "| `log`, `log10`, `log2`, `log1p` | Natural log, log base 10, log base 2, log(1 + x) |\n",
    "| `sign` | Compute the sign of each element: 1 (positive), 0 (zero), -1 (negative) |\n",
    "| `ceil` | Compute the ceiling (smallest integer >= element) |\n",
    "| `floor` | Compute the floor (largest integer <= element) |\n",
    "| `rint` | Round to nearest integer, preserving dtype |\n",
    "| `modf` | Return fractional and integral parts of each element as separate arrays |\n",
    "| `isnan` | Boolean array indicating whether each value is NaN |\n",
    "| `isfinite`, `isinf` | Boolean array indicating whether each value is finite or infinite |\n",
    "| `cos`, `cosh`, `sin`, `sinh`, `tan`, `tanh` | Regular and hyperbolic trigonometric functions |\n",
    "| `arccos`, `arccosh`, `arcsin`, `arcsinh`, `arctan`, `arctanh` | Inverse trigonometric functions |\n",
    "| `logical_not` | Compute truth value of `not x` element-wise (equivalent to `~arr`) |\n",
    "\n",
    "---\n",
    "\n",
    "## Table: Binary Universal Functions\n",
    "\n",
    "| **Function** | **Description** |\n",
    "|--------------|-----------------|\n",
    "| `add` | Element-wise addition |\n",
    "| `subtract` | Element-wise subtraction (first - second) |\n",
    "| `multiply` | Element-wise multiplication |\n",
    "| `divide`, `floor_divide` | Element-wise division or floor division (truncating remainder) |\n",
    "| `power` | Raise elements in first array to powers in second array |\n",
    "| `maximum`, `fmax` | Element-wise maximum (`fmax` ignores NaN) |\n",
    "| `minimum`, `fmin` | Element-wise minimum (`fmin` ignores NaN) |\n",
    "| `mod` | Element-wise modulus (remainder after division) |\n",
    "| `copysign` | Copy sign of values in second array to first array |\n",
    "| `greater`, `greater_equal`, `less`, `less_equal`, `equal`, `not_equal` | Element-wise comparison, returning boolean arrays (equivalent to `>`, `>=`, `<`, `<=`, `==`, `!=`) |\n",
    "| `logical_and`, `logical_or`, `logical_xor` | Compute element-wise logical operations |\n",
    "\n",
    "---\n"
   ]
  },
  {
   "cell_type": "code",
   "execution_count": 123,
   "id": "208087f6-53f0-4309-be1a-748ee965274d",
   "metadata": {},
   "outputs": [
    {
     "data": {
      "text/plain": [
       "array([0.        , 1.        , 1.41421356, 1.73205081, 2.        ,\n",
       "       2.23606798, 2.44948974, 2.64575131, 2.82842712, 3.        ])"
      ]
     },
     "execution_count": 123,
     "metadata": {},
     "output_type": "execute_result"
    }
   ],
   "source": [
    "arr = np.arange(10)\n",
    "np.sqrt(arr)"
   ]
  },
  {
   "cell_type": "code",
   "execution_count": 124,
   "id": "5592b562-d51b-4d0a-82ec-c7818a101c0d",
   "metadata": {},
   "outputs": [
    {
     "data": {
      "text/plain": [
       "array([1.00000000e+00, 2.71828183e+00, 7.38905610e+00, 2.00855369e+01,\n",
       "       5.45981500e+01, 1.48413159e+02, 4.03428793e+02, 1.09663316e+03,\n",
       "       2.98095799e+03, 8.10308393e+03])"
      ]
     },
     "execution_count": 124,
     "metadata": {},
     "output_type": "execute_result"
    }
   ],
   "source": [
    "np.exp(arr)"
   ]
  },
  {
   "cell_type": "code",
   "execution_count": 125,
   "id": "a68b8049-a61e-4b66-a2d9-991aa8c20cb6",
   "metadata": {},
   "outputs": [
    {
     "data": {
      "text/plain": [
       "array([ 0.76936807, -0.84868543, -0.21508022,  1.45636284,  1.10227754,\n",
       "        0.33110027,  1.25922736,  0.02411657])"
      ]
     },
     "execution_count": 125,
     "metadata": {},
     "output_type": "execute_result"
    }
   ],
   "source": [
    "x = np.random.randn(8)\n",
    "y = np.random.randn(8)\n",
    "np.maximum(x, y)"
   ]
  },
  {
   "cell_type": "code",
   "execution_count": 127,
   "id": "45e0df43-17eb-4c8b-bc4c-fca2b61b4b09",
   "metadata": {},
   "outputs": [
    {
     "name": "stdout",
     "output_type": "stream",
     "text": [
      "[-1.53019902  0.67623332 -2.32039274  4.09955165 -0.15427852 10.28065319\n",
      "  1.28714643]\n",
      "[-0.53019902  0.67623332 -0.32039274  0.09955165 -0.15427852  0.28065319\n",
      "  0.28714643]\n",
      "[-1.  0. -2.  4. -0. 10.  1.]\n"
     ]
    }
   ],
   "source": [
    "# While not common, a ufunc can return multiple arrays. modf is one example, a vectorized version of the built-in Python divmod; it returns the fractional and integral parts of a floating-point array\n",
    "arr = np.random.randn(7) * 5\n",
    "print(arr)\n",
    "remainder, whole_part = np.modf(arr)\n",
    "print(remainder)\n",
    "print(whole_part)"
   ]
  },
  {
   "cell_type": "code",
   "execution_count": 128,
   "id": "3b359d74-57d8-4715-9748-2d45dbd0cb10",
   "metadata": {},
   "outputs": [
    {
     "name": "stdout",
     "output_type": "stream",
     "text": [
      "[-1.53019902  0.67623332 -2.32039274  4.09955165 -0.15427852 10.28065319\n",
      "  1.28714643]\n"
     ]
    },
    {
     "name": "stderr",
     "output_type": "stream",
     "text": [
      "/tmp/ipykernel_5808/1663797801.py:3: RuntimeWarning: invalid value encountered in sqrt\n",
      "  np.sqrt(arr)\n"
     ]
    },
    {
     "data": {
      "text/plain": [
       "array([       nan, 0.82233407,        nan, 2.02473496,        nan,\n",
       "       3.20634577, 1.13452476])"
      ]
     },
     "execution_count": 128,
     "metadata": {},
     "output_type": "execute_result"
    }
   ],
   "source": [
    "#Ufuncs accept an optional out argument that allows them to operate in-place on arrays\n",
    "print(arr)\n",
    "np.sqrt(arr)"
   ]
  },
  {
   "cell_type": "code",
   "execution_count": 129,
   "id": "7c4854ce-b41d-4aa0-959b-5f804fd44312",
   "metadata": {},
   "outputs": [
    {
     "name": "stderr",
     "output_type": "stream",
     "text": [
      "/tmp/ipykernel_5808/269955669.py:1: RuntimeWarning: invalid value encountered in sqrt\n",
      "  np.sqrt(arr, arr)\n"
     ]
    },
    {
     "data": {
      "text/plain": [
       "array([       nan, 0.82233407,        nan, 2.02473496,        nan,\n",
       "       3.20634577, 1.13452476])"
      ]
     },
     "execution_count": 129,
     "metadata": {},
     "output_type": "execute_result"
    }
   ],
   "source": [
    "np.sqrt(arr, arr)"
   ]
  },
  {
   "cell_type": "code",
   "execution_count": 130,
   "id": "63013e0e-bbd8-4808-8f5a-076e8da38f9b",
   "metadata": {},
   "outputs": [
    {
     "data": {
      "text/plain": [
       "array([       nan, 0.82233407,        nan, 2.02473496,        nan,\n",
       "       3.20634577, 1.13452476])"
      ]
     },
     "execution_count": 130,
     "metadata": {},
     "output_type": "execute_result"
    }
   ],
   "source": [
    "arr"
   ]
  },
  {
   "cell_type": "code",
   "execution_count": null,
   "id": "6b2eee42-46ac-49e0-bcf2-3ee29ff56f82",
   "metadata": {},
   "outputs": [],
   "source": []
  }
 ],
 "metadata": {
  "kernelspec": {
   "display_name": "Python 3 (ipykernel)",
   "language": "python",
   "name": "python3"
  },
  "language_info": {
   "codemirror_mode": {
    "name": "ipython",
    "version": 3
   },
   "file_extension": ".py",
   "mimetype": "text/x-python",
   "name": "python",
   "nbconvert_exporter": "python",
   "pygments_lexer": "ipython3",
   "version": "3.13.5"
  }
 },
 "nbformat": 4,
 "nbformat_minor": 5
}
