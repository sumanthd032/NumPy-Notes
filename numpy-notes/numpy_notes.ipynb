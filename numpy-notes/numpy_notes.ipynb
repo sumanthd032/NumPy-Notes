{
 "cells": [
  {
   "cell_type": "markdown",
   "id": "031807a1-85c0-47e6-b1d3-f70c203d13f5",
   "metadata": {},
   "source": [
    "# NumPy - Numerical Python\n",
    "\n",
    "- **Foundational package for numerical computing in Python**  \n",
    "- It is widely used because of its following capabilities:\n",
    "\n",
    "  - `ndarray` is an **efficient multidimensional array** for storing and manipulating numerical data.\n",
    "  - Enables **faster mathematical operations** on entire arrays without writing explicit loops.\n",
    "  - Supports **linear algebra, random number generation, and Fourier transform capabilities**.\n",
    "  - Provides a **C API** for connecting NumPy with libraries written in C, C++, or FORTRAN.\n"
   ]
  },
  {
   "cell_type": "markdown",
   "id": "dfa9f4fe-a5b9-49f4-9d15-98fcb311b32a",
   "metadata": {},
   "source": [
    "## Why NumPy is Efficient for Large Array Data\n",
    "\n",
    "- **NumPy is majorly used for its efficient handling of large amounts of array data.**\n",
    "- It provides this efficiency because:\n",
    "  - NumPy stores data internally in **contiguous memory blocks**, unlike other Python data structures.\n",
    "  - The **NumPy library is written in C**, allowing it to use memory directly without type checks or other overhead.\n",
    "  - Its operations perform **complex computations on entire arrays without the need for Python `for` loops.**\n",
    "  - It **uses less memory** compared to other Python sequences.\n",
    "    \n",
    "Example on **how NumPy performs these optimizations will be demonstrated with a small example** in the next section.\n"
   ]
  },
  {
   "cell_type": "code",
   "execution_count": 2,
   "id": "010ecf40-290d-48ee-b412-26e725434b9d",
   "metadata": {},
   "outputs": [
    {
     "name": "stdout",
     "output_type": "stream",
     "text": [
      "Time take to multiply entire array with 2: \n",
      "CPU times: user 32.1 ms, sys: 12.7 ms, total: 44.8 ms\n",
      "Wall time: 46.2 ms\n",
      "Time take to multiply entire list with 2: \n",
      "CPU times: user 527 ms, sys: 363 ms, total: 890 ms\n",
      "Wall time: 912 ms\n"
     ]
    }
   ],
   "source": [
    "import numpy as np\n",
    "\n",
    "my_arr = np.arange(1000000)\n",
    "my_list = list(range(1000000))\n",
    "\n",
    "print(\"Time take to multiply entire array with 2: \")\n",
    "%time for _ in range(10): my_arr2 = my_arr * 2\n",
    "\n",
    "print(\"Time take to multiply entire list with 2: \")\n",
    "%time for _ in range(10): my_list2 = [x * 2 for x in my_list]"
   ]
  },
  {
   "cell_type": "markdown",
   "id": "8b643caf-e8e4-4ab2-870c-6a6796d94491",
   "metadata": {},
   "source": [
    "## The NumPy `ndarray`: A Multidimensional Array Object\n",
    "\n",
    "One of the **key features of NumPy** is its **N-dimensional array object (`ndarray`)**, which is a **fast and flexible container for large datasets in Python**.\n",
    "\n",
    "- An `ndarray` is a **generic multidimensional container for homogeneous data**:\n",
    "  - All elements in the array must be of the **same data type**.\n",
    "  \n",
    "- **Every array has:**\n",
    "  - **`shape`**: A tuple indicating the **size of each dimension** of the array.\n",
    "  - **`dtype`**: An object describing the **data type of the array**.\n"
   ]
  },
  {
   "cell_type": "code",
   "execution_count": 3,
   "id": "2460b859-f256-4962-bf0d-7e130dc6bec8",
   "metadata": {},
   "outputs": [
    {
     "name": "stdout",
     "output_type": "stream",
     "text": [
      "[[-0.8630654   0.47843727 -0.09398477]\n",
      " [-0.95014735  2.24061672 -1.80952752]]\n",
      "Shape: (2, 3)\n",
      "Datatype: float64\n"
     ]
    },
    {
     "data": {
      "text/plain": [
       "(None,)"
      ]
     },
     "execution_count": 3,
     "metadata": {},
     "output_type": "execute_result"
    }
   ],
   "source": [
    "#Simple demonstration of numpy\n",
    "\n",
    "import numpy as np\n",
    "\n",
    "data = np.random.randn(2,3) #This will create a random array of dimension 2*3\n",
    "print(data)\n",
    "\n",
    "#Print the shape\n",
    "print(f\"Shape: {data.shape}\")\n",
    "\n",
    "#Print the datatype\n",
    "print(f\"Datatype: {data.dtype}\"),"
   ]
  },
  {
   "cell_type": "markdown",
   "id": "c0925770-6a13-4303-9b84-adfba9663acd",
   "metadata": {},
   "source": [
    "## Creating `ndarray`s\n",
    "\n",
    "There are many ways to create `ndarray`s in NumPy:\n",
    "\n",
    "1. **Using the `array` function**  \n",
    "   - Pass a **list or any sequence-like object** (including another array) to generate a new `ndarray`.\n",
    "   - **Note:** Nested sequences (like a list of equal-length lists) will be converted into a **multidimensional array**.\n",
    "\n",
    "2. **Arrays of zeros and ones**  \n",
    "   - Use `np.zeros(shape)` to create an array filled with **zeros**.\n",
    "   - Use `np.ones(shape)` to create an array filled with **ones**.\n",
    "\n",
    "3. **Creating an empty array**  \n",
    "   - Use `np.empty(shape)` to create an array that **may contain zeros or garbage values**, depending on the state of the memory.\n",
    "\n",
    "4. **Using `arange`**  \n",
    "   - `np.arange` is an **array-valued version of the built-in Python `range` function**.\n",
    "\n",
    "**Note:**  \n",
    "The **number of dimensions** of an array can be found using the **`ndim` attribute**.\n"
   ]
  },
  {
   "cell_type": "code",
   "execution_count": 4,
   "id": "85669697-e362-436f-af29-eb782e00972d",
   "metadata": {},
   "outputs": [
    {
     "name": "stdout",
     "output_type": "stream",
     "text": [
      "Array 1: [1 2 3 4 5]\n",
      "Multidimensional array: [[3 4 5]\n",
      " [2 3 4]]\n",
      "Number of dimensions: 2\n",
      "Array 2: [[0. 0. 0.]\n",
      " [0. 0. 0.]]\n",
      "Array 2: [[1. 1. 1.]\n",
      " [1. 1. 1.]]\n",
      "Array 3: [[1. 1. 1.]\n",
      " [1. 1. 1.]]\n",
      "Array 4: [ 0  1  2  3  4  5  6  7  8  9 10 11 12 13 14]\n"
     ]
    }
   ],
   "source": [
    "#Method 1\n",
    "list_data = [1,2,3,4,5]\n",
    "arr1 = np.array(list_data)\n",
    "print(f\"Array 1: {arr1}\")\n",
    "\n",
    "#Multidimensional array\n",
    "multidim_arr = np.array([[3,4,5],[2,3,4]])\n",
    "print(f\"Multidimensional array: {multidim_arr}\")\n",
    "print(f\"Number of dimensions: {multidim_arr.ndim}\")\n",
    "\n",
    "#Method 2\n",
    "arr2 = np.zeros((2,3))    #Here remember we have to pass tuple of dimension\n",
    "print(f\"Array 2: {arr2}\")\n",
    "arr2 = np.ones((2,3))\n",
    "print(f\"Array 2: {arr2}\")\n",
    "\n",
    "#Method 3\n",
    "arr3 = np.empty((2,3))\n",
    "print(f\"Array 3: {arr3}\")\n",
    "\n",
    "#Method 4\n",
    "arr4 = np.arange(15)\n",
    "print(f\"Array 4: {arr4}\")"
   ]
  },
  {
   "cell_type": "markdown",
   "id": "10b8653a-f72d-46a1-add1-0bd6e2752c87",
   "metadata": {},
   "source": [
    "## Array Creation Functions in NumPy\n",
    "\n",
    "| **Name**        | **Syntax**                                | **Description**                                                                                                                                 |\n",
    "|-----------------|-------------------------------------------|-------------------------------------------------------------------------------------------------------------------------------------------------|\n",
    "| `array`         | `np.array(data, dtype=None)`             | Converts input data (list, tuple, array, or other sequence) to an `ndarray` by inferring or explicitly specifying `dtype`; copies data by default. |\n",
    "| `asarray`       | `np.asarray(data, dtype=None)`           | Converts input to `ndarray`, **does not copy** if the input is already an `ndarray`.                                                            |\n",
    "| `arange`        | `np.arange(start, stop, step)`           | Like the built-in `range` but returns an `ndarray` instead of a list.                                                                          |\n",
    "| `ones`, `ones_like` | `np.ones(shape, dtype=None)`, `np.ones_like(a)` | Produces an array of all 1s with the given shape and dtype; `ones_like` creates a ones array of the **same shape and dtype as another array**.  |\n",
    "| `zeros`, `zeros_like` | `np.zeros(shape, dtype=None)`, `np.zeros_like(a)` | Like `ones` and `ones_like` but producing arrays of 0s instead.                                                                                |\n",
    "| `empty`, `empty_like` | `np.empty(shape, dtype=None)`, `np.empty_like(a)` | Creates new arrays by allocating memory without populating values (may contain garbage values).                                                |\n",
    "| `full`, `full_like`   | `np.full(shape, fill_value, dtype=None)`, `np.full_like(a, fill_value)` | Produces an array of the given shape and dtype with all values set to the indicated “fill value”; `full_like` uses another array’s shape and dtype. |\n",
    "| `eye`, `identity`     | `np.eye(N)`, `np.identity(N)`       | Creates a square N × N **identity matrix** (1s on the diagonal, 0s elsewhere).                                                                 |\n"
   ]
  },
  {
   "cell_type": "markdown",
   "id": "e8f261ff-07fa-42c7-b0b5-d8ded17d4a1b",
   "metadata": {},
   "source": [
    "## Data Types of NumPy `ndarray`s\n",
    "\n",
    "NumPy provides a **rich set of data types (`dtype`)** for efficient and precise storage of numerical and other data within `ndarray`s. Choosing the right `dtype` helps in:\n",
    "\n",
    "- **Memory optimization** when working with large datasets  \n",
    "- **Ensuring compatibility** with C and FORTRAN libraries  \n",
    "- **Precision control** in numerical computations\n",
    "\n",
    "---\n",
    "\n",
    "### Table: Common NumPy Data Types\n",
    "\n",
    "| **Type** | **Type Code** | **Description** |\n",
    "|----------|---------------|-----------------|\n",
    "| `int8`, `uint8` | `i1`, `u1` | Signed and unsigned 8-bit (1 byte) integer types |\n",
    "| `int16`, `uint16` | `i2`, `u2` | Signed and unsigned 16-bit integer types |\n",
    "| `int32`, `uint32` | `i4`, `u4` | Signed and unsigned 32-bit integer types |\n",
    "| `int64`, `uint64` | `i8`, `u8` | Signed and unsigned 64-bit integer types |\n",
    "| `float16` | `f2` | Half-precision floating point |\n",
    "| `float32` | `f4` or `f` | Standard single-precision floating point (compatible with C `float`) |\n",
    "| `float64` | `f8` or `d` | Standard double-precision floating point (compatible with C `double` and Python `float`) |\n",
    "| `float128` | `f16` or `g` | Extended-precision floating point |\n",
    "| `complex64`, `complex128`, `complex256` | `c8`, `c16`, `c32` | Complex numbers represented by two 32, 64, or 128-bit floats respectively |\n",
    "| `bool` | `?` | Boolean type storing `True` and `False` values |\n",
    "| `object` | `O` | Python object type; elements can be any Python object |\n",
    "| `string_` | `S` | Fixed-length ASCII string type (1 byte per character); e.g., `'S10'` for 10-character strings |\n",
    "| `unicode_` | `U` | Fixed-length Unicode string type; platform-dependent byte size; e.g., `'U10'` for 10-character Unicode strings |\n",
    "\n",
    "---\n",
    "\n",
    "### Additional Notes\n",
    "\n",
    "✅ The **`dtype` attribute** of an `ndarray` shows the data type of its elements:\n",
    "```python\n",
    "import numpy as np\n",
    "arr = np.array([1, 2, 3], dtype=np.int32)\n",
    "print(arr.dtype)  # Output: int32\n"
   ]
  },
  {
   "cell_type": "code",
   "execution_count": 5,
   "id": "d32e7898-49d6-4fb9-a99f-9b6fe34c1fe2",
   "metadata": {},
   "outputs": [
    {
     "name": "stdout",
     "output_type": "stream",
     "text": [
      "float64\n",
      "int32\n"
     ]
    }
   ],
   "source": [
    "arr1 = np.array([1,2,3,4], dtype= np.float64)\n",
    "print(arr1.dtype)\n",
    "arr2 = np.array([1,2,3,4], dtype= np.int32)\n",
    "print(arr2.dtype)"
   ]
  },
  {
   "cell_type": "markdown",
   "id": "20e8848b-f190-4163-99d7-0218d3c31341",
   "metadata": {},
   "source": [
    "## Type Casting with `astype` in NumPy\n",
    "\n",
    "You can **explicitly convert (cast) an array from one `dtype` to another** using the **`astype` method** of `ndarray`.\n",
    "\n",
    "### Key Points:\n",
    "\n",
    "- If you **cast floating-point numbers to an integer `dtype`**, the **decimal part will be truncated** (not rounded).  \n",
    "- If you have an **array of strings representing numbers**, you can use `astype` to convert them to **numeric form** for computations.\n",
    "\n",
    "### Note:\n",
    "- Caution on numpy.string_ Type\n",
    "- The numpy.string_ type has a fixed size and may truncate input strings without warning.\n",
    "- For handling non-numeric or text data, it is often better to use pandas, which provides more intuitive behavior for variable-length string data.\n",
    "\n",
    "**Calling astype always creates a new array (a copy of the data), even if the new dtype is the same as the old dtype.**"
   ]
  },
  {
   "cell_type": "code",
   "execution_count": 6,
   "id": "13172331-fb31-4cfd-aa8a-848ce4bee518",
   "metadata": {},
   "outputs": [
    {
     "name": "stdout",
     "output_type": "stream",
     "text": [
      "[ 3  1 -2]\n",
      "[1.5 2.3 3.7]\n"
     ]
    }
   ],
   "source": [
    "import numpy as np\n",
    "\n",
    "# Floating-point to integer (decimal part truncated)\n",
    "arr_float = np.array([3.7, 1.2, -2.8])\n",
    "arr_int = arr_float.astype(np.int32)\n",
    "print(arr_int)\n",
    "\n",
    "# Strings representing numbers to numeric\n",
    "arr_str = np.array(['1.5', '2.3', '3.7'])\n",
    "arr_float_from_str = arr_str.astype(np.float64)\n",
    "print(arr_float_from_str)"
   ]
  },
  {
   "cell_type": "markdown",
   "id": "b8185bb7-4d5d-4781-91a2-697460182456",
   "metadata": {},
   "source": [
    "## Vectorization and Broadcasting in NumPy\n",
    "\n",
    "Arrays are important in NumPy because they **enable you to express batch operations on data without writing explicit `for` loops.** This makes your code:\n",
    "\n",
    "- Faster  \n",
    "- Cleaner  \n",
    "- Closer to mathematical notation\n",
    "\n",
    "---\n",
    "\n",
    "### Vectorization\n",
    "\n",
    "**Vectorization** refers to **performing operations on entire arrays without explicit loops**.\n",
    "\n",
    "Any **arithmetic operations between equal-size arrays apply the operation element-wise.**\n",
    "\n",
    "### Broadcasting\n",
    "\n",
    "**Broadcasting** refers to **performing operations on arrays of different shapes and sizes by stretching the smaller array across the larger one automatically to perform element-wise operations**.\n",
    "\n",
    "This allows:\n",
    "\n",
    "- Operations between differently shaped arrays without making unnecessary copies.\n",
    "\n",
    "- Efficient memory and computation for operations like adding a scalar or row/column to an entire matrix.\n"
   ]
  },
  {
   "cell_type": "code",
   "execution_count": 7,
   "id": "d8301fbf-392c-4cf3-ad59-5c5a7a458796",
   "metadata": {},
   "outputs": [
    {
     "data": {
      "text/plain": [
       "array([[1, 2, 3],\n",
       "       [4, 5, 6]])"
      ]
     },
     "execution_count": 7,
     "metadata": {},
     "output_type": "execute_result"
    }
   ],
   "source": [
    "arr = np.array([[1,2,3], [4,5,6]])\n",
    "arr"
   ]
  },
  {
   "cell_type": "code",
   "execution_count": 8,
   "id": "ce572a4c-2afe-4903-8401-15f06001826c",
   "metadata": {},
   "outputs": [
    {
     "data": {
      "text/plain": [
       "array([[ 1,  4,  9],\n",
       "       [16, 25, 36]])"
      ]
     },
     "execution_count": 8,
     "metadata": {},
     "output_type": "execute_result"
    }
   ],
   "source": [
    "arr * arr"
   ]
  },
  {
   "cell_type": "code",
   "execution_count": 9,
   "id": "fd7aec70-368f-47de-bd76-7561368997d6",
   "metadata": {},
   "outputs": [
    {
     "data": {
      "text/plain": [
       "array([[ 2,  4,  6],\n",
       "       [ 8, 10, 12]])"
      ]
     },
     "execution_count": 9,
     "metadata": {},
     "output_type": "execute_result"
    }
   ],
   "source": [
    "arr + arr"
   ]
  },
  {
   "cell_type": "code",
   "execution_count": 10,
   "id": "6e2a3cd5-a52d-4f26-860d-ddef5b39e9ae",
   "metadata": {},
   "outputs": [
    {
     "data": {
      "text/plain": [
       "array([[0, 0, 0],\n",
       "       [0, 0, 0]])"
      ]
     },
     "execution_count": 10,
     "metadata": {},
     "output_type": "execute_result"
    }
   ],
   "source": [
    "arr - arr"
   ]
  },
  {
   "cell_type": "code",
   "execution_count": 11,
   "id": "dcda008f-3e6b-43ff-80d6-8a5504df6b81",
   "metadata": {},
   "outputs": [
    {
     "data": {
      "text/plain": [
       "array([[1.        , 0.5       , 0.33333333],\n",
       "       [0.25      , 0.2       , 0.16666667]])"
      ]
     },
     "execution_count": 11,
     "metadata": {},
     "output_type": "execute_result"
    }
   ],
   "source": [
    "1/ arr"
   ]
  },
  {
   "cell_type": "code",
   "execution_count": 12,
   "id": "ca3a4941-48af-4aa9-bfc7-09100dcefcd5",
   "metadata": {},
   "outputs": [
    {
     "data": {
      "text/plain": [
       "array([[1.        , 1.41421356, 1.73205081],\n",
       "       [2.        , 2.23606798, 2.44948974]])"
      ]
     },
     "execution_count": 12,
     "metadata": {},
     "output_type": "execute_result"
    }
   ],
   "source": [
    "arr ** 0.5"
   ]
  },
  {
   "cell_type": "code",
   "execution_count": 13,
   "id": "ffc542b4-a8be-4d91-93ee-e634e8a5a2e0",
   "metadata": {},
   "outputs": [
    {
     "data": {
      "text/plain": [
       "array([[False, False, False],\n",
       "       [ True,  True,  True]])"
      ]
     },
     "execution_count": 13,
     "metadata": {},
     "output_type": "execute_result"
    }
   ],
   "source": [
    "arr > 3"
   ]
  },
  {
   "cell_type": "markdown",
   "id": "844327c5-a623-459f-8305-fdd2d92e00db",
   "metadata": {},
   "source": [
    "## Basic Indexing and Slicing in NumPy\n",
    "\n",
    "NumPy provides **powerful and intuitive indexing and slicing capabilities** for working with arrays efficiently.\n",
    "\n",
    "---\n",
    "\n",
    "### Assigning Values to Slices\n",
    "\n",
    "- If you assign a **scalar value to a slice**, the value is **propagated (broadcasted) to the entire selection**.\n",
    "\n",
    "**Example:**\n",
    "```python\n",
    "arr[5:8] = 12\n"
   ]
  },
  {
   "cell_type": "code",
   "execution_count": 14,
   "id": "4179708b-4cb7-4448-9842-ea7638b23a42",
   "metadata": {},
   "outputs": [
    {
     "data": {
      "text/plain": [
       "array([0, 1, 2, 3, 4, 5, 6, 7, 8, 9])"
      ]
     },
     "execution_count": 14,
     "metadata": {},
     "output_type": "execute_result"
    }
   ],
   "source": [
    "arr = np.arange(10)\n",
    "arr"
   ]
  },
  {
   "cell_type": "code",
   "execution_count": 15,
   "id": "db7af2eb-6ff7-471f-a1b9-f348353b4366",
   "metadata": {},
   "outputs": [
    {
     "name": "stdout",
     "output_type": "stream",
     "text": [
      "5\n"
     ]
    }
   ],
   "source": [
    "print(arr[5])"
   ]
  },
  {
   "cell_type": "code",
   "execution_count": 16,
   "id": "218a3912-2cda-4885-bd19-ef505c5348ab",
   "metadata": {},
   "outputs": [
    {
     "name": "stdout",
     "output_type": "stream",
     "text": [
      "[4 5 6]\n"
     ]
    }
   ],
   "source": [
    "#slice indexing\n",
    "print(arr[4:7])"
   ]
  },
  {
   "cell_type": "code",
   "execution_count": 17,
   "id": "0e1ac874-b3a5-4384-9618-405951bfa892",
   "metadata": {},
   "outputs": [
    {
     "name": "stdout",
     "output_type": "stream",
     "text": [
      "[ 0  1  2 12 12 12  6  7  8  9]\n"
     ]
    }
   ],
   "source": [
    "#assining value to slice\n",
    "arr[3:6] = 12\n",
    "print(arr)"
   ]
  },
  {
   "cell_type": "markdown",
   "id": "fcdcbac7-caf1-45ea-a5be-c906b3208cd5",
   "metadata": {},
   "source": [
    "## Difference Between NumPy Views and Python List Copies\n",
    "\n",
    "Understanding how **slicing behaves in NumPy arrays vs. Python lists** is essential for efficient data manipulation.\n",
    "\n",
    "---\n",
    "\n",
    "### Python Lists: Slicing Creates Copies\n",
    "\n",
    "- When you slice a Python list, it **creates a new independent copy** of the data.\n",
    "\n",
    "- Modifying the slice **does *not* affect the original list.**\n",
    "\n"
   ]
  },
  {
   "cell_type": "code",
   "execution_count": 18,
   "id": "9d69bd53-8297-45f3-986a-ee05075e6757",
   "metadata": {},
   "outputs": [
    {
     "name": "stdout",
     "output_type": "stream",
     "text": [
      "[1, 2, 3, 4, 5]\n",
      "[99, 3, 4]\n"
     ]
    }
   ],
   "source": [
    "lst = [1, 2, 3, 4, 5]\n",
    "sub_lst = lst[1:4]\n",
    "sub_lst[0] = 99\n",
    "\n",
    "print(lst)       # [1, 2, 3, 4, 5]\n",
    "print(sub_lst)   # [99, 3, 4]"
   ]
  },
  {
   "cell_type": "markdown",
   "id": "be395092-a273-4c7f-b6f4-7eb32d57c623",
   "metadata": {},
   "source": [
    "### NumPy Arrays: Slicing Creates Views\n",
    "\n",
    "- When you slice a NumPy array, it **creates a view on the same data**, not a copy.\n",
    "\n",
    "- Modifying the *slice also modifies* the original array.\n",
    "\n",
    "- NumPy’s behavior is more memory-efficient when working with large datasets, allowing you to modify subarrays without duplicating data.\n",
    "\n",
    "!! Be cautious: Changes to a slice in NumPy will affect the original array unless you explicitly create a copy using arr.copy()."
   ]
  },
  {
   "cell_type": "code",
   "execution_count": 19,
   "id": "0a296c43-d7e7-47b7-858f-91ecaf82fe18",
   "metadata": {},
   "outputs": [
    {
     "name": "stdout",
     "output_type": "stream",
     "text": [
      "[ 1 99  3  4  5]\n",
      "[99  3  4]\n"
     ]
    }
   ],
   "source": [
    "arr = np.array([1, 2, 3, 4, 5])\n",
    "sub_arr = arr[1:4]\n",
    "sub_arr[0] = 99\n",
    "\n",
    "print(arr)       \n",
    "print(sub_arr) "
   ]
  },
  {
   "cell_type": "code",
   "execution_count": 20,
   "id": "07731e6c-b7dc-4696-9eb3-5edd7cf6e13d",
   "metadata": {},
   "outputs": [
    {
     "name": "stdout",
     "output_type": "stream",
     "text": [
      "[1 2 3 4 5]\n",
      "[99  3  4]\n"
     ]
    }
   ],
   "source": [
    "#Creating copy in numpy\n",
    "arr = np.array([1,2,3,4,5])\n",
    "sub_arr = arr[1:4].copy()\n",
    "sub_arr[0] = 99\n",
    "\n",
    "print(arr)       \n",
    "print(sub_arr)   # [99, 3, 4"
   ]
  },
  {
   "cell_type": "markdown",
   "id": "99788771-cc00-4bbd-8fb6-3bdbc047f1f3",
   "metadata": {},
   "source": [
    "### Indexing in higher dimensions\n",
    "\n",
    "- With higher dimensional arrays, you have many more options. In a two-dimensional array, the elements at each index are no longer scalars but rather one-dimensional arrays.\n",
    "- Thus, individual elements can be accessed recursively. But that is a bit too much\n",
    "work, so you can pass a comma-separated list of indices to select individual elements."
   ]
  },
  {
   "cell_type": "code",
   "execution_count": 21,
   "id": "1fbe147f-286b-4d03-bb47-c69bb917bbff",
   "metadata": {},
   "outputs": [
    {
     "data": {
      "text/plain": [
       "array([[1, 2, 3, 4],\n",
       "       [2, 3, 4, 5],\n",
       "       [2, 3, 4, 5]])"
      ]
     },
     "execution_count": 21,
     "metadata": {},
     "output_type": "execute_result"
    }
   ],
   "source": [
    "arr = np.array([[1,2,3,4],[2,3,4,5],[2,3,4,5]])\n",
    "arr"
   ]
  },
  {
   "cell_type": "code",
   "execution_count": 22,
   "id": "b080396b-799b-4498-924e-9313da208775",
   "metadata": {},
   "outputs": [
    {
     "data": {
      "text/plain": [
       "array([2, 3, 4, 5])"
      ]
     },
     "execution_count": 22,
     "metadata": {},
     "output_type": "execute_result"
    }
   ],
   "source": [
    "arr[2]"
   ]
  },
  {
   "cell_type": "code",
   "execution_count": 23,
   "id": "ec4b0ee8-c3c9-4ca8-a834-ad9b3a498023",
   "metadata": {},
   "outputs": [
    {
     "data": {
      "text/plain": [
       "np.int64(5)"
      ]
     },
     "execution_count": 23,
     "metadata": {},
     "output_type": "execute_result"
    }
   ],
   "source": [
    "arr[2][3]"
   ]
  },
  {
   "cell_type": "code",
   "execution_count": 24,
   "id": "93dcb8cc-449b-420a-940c-8c148351245e",
   "metadata": {},
   "outputs": [
    {
     "data": {
      "text/plain": [
       "array([[[ 1,  2,  3],\n",
       "        [ 4,  5,  6]],\n",
       "\n",
       "       [[ 7,  8,  9],\n",
       "        [10, 11, 12]]])"
      ]
     },
     "execution_count": 24,
     "metadata": {},
     "output_type": "execute_result"
    }
   ],
   "source": [
    "arr3d = np.array([[[1, 2, 3], [4, 5, 6]], [[7, 8, 9], [10, 11, 12]]])\n",
    "arr3d"
   ]
  },
  {
   "cell_type": "code",
   "execution_count": 25,
   "id": "cdd2250e-7540-415a-993f-6bddc08008d1",
   "metadata": {},
   "outputs": [
    {
     "data": {
      "text/plain": [
       "array([4, 5, 6])"
      ]
     },
     "execution_count": 25,
     "metadata": {},
     "output_type": "execute_result"
    }
   ],
   "source": [
    "# Although arr3d[0][1] produces same result, it is efficient as it not invloves creating intermidiate array\n",
    "arr3d[0,1] "
   ]
  },
  {
   "cell_type": "code",
   "execution_count": 26,
   "id": "77d3467f-69a0-4914-b158-e2e472168a02",
   "metadata": {},
   "outputs": [
    {
     "name": "stdout",
     "output_type": "stream",
     "text": [
      "[[1 2 3]\n",
      " [2 3 4]]\n",
      "[[ 7  8  9]\n",
      " [10 22 12]]\n"
     ]
    }
   ],
   "source": [
    "# Slicing to next level\n",
    "arr = np.array([[1,2,3],[2,3,4],[7,8,9],[10,22,12]])\n",
    "#This is same like select first two rows\n",
    "print(arr[:2])\n",
    "#This is same like select last two rows\n",
    "print(arr[2:])"
   ]
  },
  {
   "cell_type": "code",
   "execution_count": 27,
   "id": "f5f6b210-1e02-46de-9248-00cb29102296",
   "metadata": {},
   "outputs": [
    {
     "name": "stdout",
     "output_type": "stream",
     "text": [
      "[[2 3]\n",
      " [3 4]]\n"
     ]
    }
   ],
   "source": [
    "#By mixing integer indexes and slices, you get lower dimensional slices.\n",
    "print(arr[:2, 1:])"
   ]
  },
  {
   "cell_type": "code",
   "execution_count": 28,
   "id": "296154a8-661d-4c5d-b434-d49539f9cc93",
   "metadata": {},
   "outputs": [
    {
     "name": "stdout",
     "output_type": "stream",
     "text": [
      "[3 4]\n"
     ]
    }
   ],
   "source": [
    "print(arr[:2, 2])"
   ]
  },
  {
   "cell_type": "markdown",
   "id": "795c3f93-484d-48c9-a5c6-f30c3ffbca89",
   "metadata": {},
   "source": [
    "## Boolean Indexing"
   ]
  },
  {
   "cell_type": "code",
   "execution_count": 29,
   "id": "0bc9c254-f444-4bf7-abc2-717464d43fa0",
   "metadata": {},
   "outputs": [
    {
     "data": {
      "text/plain": [
       "array(['Bob', 'Joe', 'Will', 'Bob', 'Will', 'Joe', 'Joe'], dtype='<U4')"
      ]
     },
     "execution_count": 29,
     "metadata": {},
     "output_type": "execute_result"
    }
   ],
   "source": [
    "names = np.array(['Bob', 'Joe', 'Will', 'Bob', 'Will', 'Joe', 'Joe'])\n",
    "names"
   ]
  },
  {
   "cell_type": "code",
   "execution_count": 30,
   "id": "776b49c5-f654-4949-866f-964577c43734",
   "metadata": {},
   "outputs": [
    {
     "data": {
      "text/plain": [
       "array([[-0.28273789, -1.11208525, -0.37231548,  0.31306062],\n",
       "       [-0.44194162, -1.54063316, -1.05036211,  0.58080929],\n",
       "       [ 1.11222845,  0.27647194,  1.48104476,  1.56377178],\n",
       "       [ 0.35253815, -0.59100801, -0.42571688, -0.52159654],\n",
       "       [ 0.77240543,  1.2324345 ,  0.70002945, -0.00208388],\n",
       "       [ 0.85497889,  1.11829505,  0.47427978,  0.76630675],\n",
       "       [ 1.14187451, -0.425524  , -0.72642112,  0.20043184]])"
      ]
     },
     "execution_count": 30,
     "metadata": {},
     "output_type": "execute_result"
    }
   ],
   "source": [
    "data = np.random.randn(7, 4)\n",
    "data"
   ]
  },
  {
   "cell_type": "code",
   "execution_count": 31,
   "id": "1db8d23c-95fb-4f60-8901-5b1d4e81f4c1",
   "metadata": {},
   "outputs": [
    {
     "data": {
      "text/plain": [
       "array([ True, False, False,  True, False, False, False])"
      ]
     },
     "execution_count": 31,
     "metadata": {},
     "output_type": "execute_result"
    }
   ],
   "source": [
    "names == 'Bob'"
   ]
  },
  {
   "cell_type": "code",
   "execution_count": 32,
   "id": "e485b85b-a2e5-4266-937e-9778d2aa5da6",
   "metadata": {},
   "outputs": [
    {
     "data": {
      "text/plain": [
       "array([[-0.28273789, -1.11208525, -0.37231548,  0.31306062],\n",
       "       [ 0.35253815, -0.59100801, -0.42571688, -0.52159654]])"
      ]
     },
     "execution_count": 32,
     "metadata": {},
     "output_type": "execute_result"
    }
   ],
   "source": [
    "data[names=='Bob']"
   ]
  },
  {
   "cell_type": "code",
   "execution_count": 33,
   "id": "432799c1-07a5-463e-8a1c-1a47aa843312",
   "metadata": {},
   "outputs": [
    {
     "data": {
      "text/plain": [
       "array([[-0.44194162, -1.54063316, -1.05036211,  0.58080929],\n",
       "       [ 1.11222845,  0.27647194,  1.48104476,  1.56377178],\n",
       "       [ 0.77240543,  1.2324345 ,  0.70002945, -0.00208388],\n",
       "       [ 0.85497889,  1.11829505,  0.47427978,  0.76630675],\n",
       "       [ 1.14187451, -0.425524  , -0.72642112,  0.20043184]])"
      ]
     },
     "execution_count": 33,
     "metadata": {},
     "output_type": "execute_result"
    }
   ],
   "source": [
    "data[~(names=='Bob')]"
   ]
  },
  {
   "cell_type": "code",
   "execution_count": 34,
   "id": "d1ba6bae-4682-454a-8aaa-0422596436b4",
   "metadata": {},
   "outputs": [
    {
     "data": {
      "text/plain": [
       "array([[-0.28273789, -1.11208525, -0.37231548,  0.31306062],\n",
       "       [ 1.11222845,  0.27647194,  1.48104476,  1.56377178],\n",
       "       [ 0.35253815, -0.59100801, -0.42571688, -0.52159654],\n",
       "       [ 0.77240543,  1.2324345 ,  0.70002945, -0.00208388]])"
      ]
     },
     "execution_count": 34,
     "metadata": {},
     "output_type": "execute_result"
    }
   ],
   "source": [
    "#In numpy we use | and &, not normal and, or\n",
    "mask = (names == 'Bob') | (names == 'Will')\n",
    "data[mask]"
   ]
  },
  {
   "cell_type": "code",
   "execution_count": 35,
   "id": "858a6b50-1476-49d8-85f5-74b236944de5",
   "metadata": {},
   "outputs": [
    {
     "data": {
      "text/plain": [
       "array([[0.        , 0.        , 0.        , 0.31306062],\n",
       "       [0.        , 0.        , 0.        , 0.58080929],\n",
       "       [1.11222845, 0.27647194, 1.48104476, 1.56377178],\n",
       "       [0.35253815, 0.        , 0.        , 0.        ],\n",
       "       [0.77240543, 1.2324345 , 0.70002945, 0.        ],\n",
       "       [0.85497889, 1.11829505, 0.47427978, 0.76630675],\n",
       "       [1.14187451, 0.        , 0.        , 0.20043184]])"
      ]
     },
     "execution_count": 35,
     "metadata": {},
     "output_type": "execute_result"
    }
   ],
   "source": [
    "#To set all of the negative values in data to 0\n",
    "data[data<0] = 0\n",
    "data"
   ]
  },
  {
   "cell_type": "markdown",
   "id": "8ad84a0a-1fe2-4d27-9b0f-cdba7e629d30",
   "metadata": {},
   "source": [
    "## Fancy Indexing\n",
    "\n",
    "Fancy indexing is a term adopted by NumPy to describe indexing using integer arrays."
   ]
  },
  {
   "cell_type": "code",
   "execution_count": 36,
   "id": "0abdad1c-0ccd-40ea-9b58-16b1d33d346d",
   "metadata": {},
   "outputs": [
    {
     "data": {
      "text/plain": [
       "array([[0., 0., 0., 0.],\n",
       "       [1., 1., 1., 1.],\n",
       "       [2., 2., 2., 2.],\n",
       "       [3., 3., 3., 3.],\n",
       "       [4., 4., 4., 4.],\n",
       "       [5., 5., 5., 5.],\n",
       "       [6., 6., 6., 6.],\n",
       "       [7., 7., 7., 7.]])"
      ]
     },
     "execution_count": 36,
     "metadata": {},
     "output_type": "execute_result"
    }
   ],
   "source": [
    "arr = np.empty((8, 4))\n",
    "for i in range(8):\n",
    "    arr[i] = i\n",
    "arr"
   ]
  },
  {
   "cell_type": "code",
   "execution_count": 37,
   "id": "766222e3-80b0-4db6-8be5-8d6b8c2a073f",
   "metadata": {},
   "outputs": [
    {
     "data": {
      "text/plain": [
       "array([[4., 4., 4., 4.],\n",
       "       [3., 3., 3., 3.],\n",
       "       [0., 0., 0., 0.],\n",
       "       [6., 6., 6., 6.]])"
      ]
     },
     "execution_count": 37,
     "metadata": {},
     "output_type": "execute_result"
    }
   ],
   "source": [
    "#To select out a subset of the rows in a particular order, you can simply pass a list or ndarray of integers specifying the desired order\n",
    "arr[[4, 3, 0, 6]]"
   ]
  },
  {
   "cell_type": "code",
   "execution_count": 38,
   "id": "cbb1f2cb-1671-4895-a600-748daa7f85ff",
   "metadata": {},
   "outputs": [
    {
     "data": {
      "text/plain": [
       "array([[5., 5., 5., 5.],\n",
       "       [3., 3., 3., 3.],\n",
       "       [1., 1., 1., 1.]])"
      ]
     },
     "execution_count": 38,
     "metadata": {},
     "output_type": "execute_result"
    }
   ],
   "source": [
    "#Using negative indices selects rows from the end\n",
    "arr[[-3, -5, -7]]"
   ]
  },
  {
   "cell_type": "code",
   "execution_count": 39,
   "id": "f62a869d-a5d5-4a8c-a4dc-45edf9b37b38",
   "metadata": {},
   "outputs": [
    {
     "data": {
      "text/plain": [
       "array([[ 0,  1,  2,  3],\n",
       "       [ 4,  5,  6,  7],\n",
       "       [ 8,  9, 10, 11],\n",
       "       [12, 13, 14, 15],\n",
       "       [16, 17, 18, 19],\n",
       "       [20, 21, 22, 23],\n",
       "       [24, 25, 26, 27],\n",
       "       [28, 29, 30, 31]])"
      ]
     },
     "execution_count": 39,
     "metadata": {},
     "output_type": "execute_result"
    }
   ],
   "source": [
    "#Passing multiple index arrays does something slightly different\n",
    "#it selects a one-dimensional array of elements corresponding to each tuple of indices\n",
    "arr = np.arange(32).reshape((8, 4))\n",
    "arr"
   ]
  },
  {
   "cell_type": "code",
   "execution_count": 40,
   "id": "099134c5-66e7-4bdc-9402-6d089f4ca69b",
   "metadata": {},
   "outputs": [
    {
     "data": {
      "text/plain": [
       "array([ 4, 23, 29, 10])"
      ]
     },
     "execution_count": 40,
     "metadata": {},
     "output_type": "execute_result"
    }
   ],
   "source": [
    "arr[[1, 5, 7, 2], [0, 3, 1, 2]]\n",
    "#Here the elements (1, 0), (5, 3), (7, 1), and (2, 2) were selected"
   ]
  },
  {
   "cell_type": "code",
   "execution_count": 41,
   "id": "bae12bb4-b474-4f90-a823-a2b68bb62215",
   "metadata": {},
   "outputs": [
    {
     "data": {
      "text/plain": [
       "array([[ 4,  7,  5,  6],\n",
       "       [20, 23, 21, 22],\n",
       "       [28, 31, 29, 30],\n",
       "       [ 8, 11,  9, 10]])"
      ]
     },
     "execution_count": 41,
     "metadata": {},
     "output_type": "execute_result"
    }
   ],
   "source": [
    "#The behavior of fancy indexing in this case is a bit different from what some users might have expected\n",
    "arr[[1, 5, 7, 2]][:, [0, 3, 1, 2]]"
   ]
  },
  {
   "cell_type": "markdown",
   "id": "1c69e7ae-76b5-448f-8e4f-00ab20c29d26",
   "metadata": {},
   "source": [
    "## Transposing Arrays and Swapping Axes\n",
    "\n",
    "### Transposing Arrays\n",
    "\n",
    "- **Transposing** is a **special form of reshaping** in NumPy that **returns a *view* on the underlying data without copying anything**.\n",
    "\n",
    "- This allows you to **rearrange the axes of an array efficiently for numerical computations** without additional memory overhead.\n",
    "\n",
    "---\n",
    "\n",
    "### Methods to Transpose\n",
    "\n",
    "1. **Using the `transpose` method**\n",
    "2.  **Using the special `.T` attribute**\n",
    "\n",
    "- Both methods swap the axes of the array to produce the transposed view.\n",
    "\n",
    "**Transposing and swapping axes are essential when**:\n",
    "\n",
    "- Performing matrix operations.\n",
    "\n",
    "- Adjusting axes to match expected input shapes for functions.\n",
    "\n",
    "- Rearranging data layouts without copying, ensuring efficient memory usage."
   ]
  },
  {
   "cell_type": "code",
   "execution_count": 42,
   "id": "02a1e68e-4cfd-4921-aad7-8bc2777a3431",
   "metadata": {},
   "outputs": [
    {
     "data": {
      "text/plain": [
       "array([[ 0,  1,  2,  3,  4],\n",
       "       [ 5,  6,  7,  8,  9],\n",
       "       [10, 11, 12, 13, 14]])"
      ]
     },
     "execution_count": 42,
     "metadata": {},
     "output_type": "execute_result"
    }
   ],
   "source": [
    "arr = np.arange(15).reshape((3, 5))\n",
    "arr"
   ]
  },
  {
   "cell_type": "code",
   "execution_count": 43,
   "id": "deecf8e4-edee-47dd-9f63-d9961a3f5a18",
   "metadata": {},
   "outputs": [
    {
     "data": {
      "text/plain": [
       "array([[ 0,  5, 10],\n",
       "       [ 1,  6, 11],\n",
       "       [ 2,  7, 12],\n",
       "       [ 3,  8, 13],\n",
       "       [ 4,  9, 14]])"
      ]
     },
     "execution_count": 43,
     "metadata": {},
     "output_type": "execute_result"
    }
   ],
   "source": [
    "arr.T"
   ]
  },
  {
   "cell_type": "code",
   "execution_count": 44,
   "id": "b930bd6f-0140-418d-9bbf-705d84e6e6aa",
   "metadata": {},
   "outputs": [
    {
     "data": {
      "text/plain": [
       "array([[ 0,  5, 10],\n",
       "       [ 1,  6, 11],\n",
       "       [ 2,  7, 12],\n",
       "       [ 3,  8, 13],\n",
       "       [ 4,  9, 14]])"
      ]
     },
     "execution_count": 44,
     "metadata": {},
     "output_type": "execute_result"
    }
   ],
   "source": [
    "arr.transpose()"
   ]
  },
  {
   "cell_type": "code",
   "execution_count": 45,
   "id": "379db9ff-a43d-4a03-a479-77beab37bec3",
   "metadata": {},
   "outputs": [
    {
     "data": {
      "text/plain": [
       "array([[[ 0,  1,  2,  3],\n",
       "        [ 8,  9, 10, 11]],\n",
       "\n",
       "       [[ 4,  5,  6,  7],\n",
       "        [12, 13, 14, 15]]])"
      ]
     },
     "execution_count": 45,
     "metadata": {},
     "output_type": "execute_result"
    }
   ],
   "source": [
    "# For higher dimensional arrays, transpose will accept a tuple of axis numbers to per‐ mute the axes\n",
    "arr = np.arange(16).reshape((2, 2, 4))\n",
    "arr.transpose((1, 0, 2))\n",
    "# Here, the axes have been reordered with the second axis first, the first axis second,and the last axis unchanged."
   ]
  },
  {
   "cell_type": "code",
   "execution_count": 46,
   "id": "37d80628-dfd0-4792-b627-a26b1a8d6569",
   "metadata": {},
   "outputs": [
    {
     "data": {
      "text/plain": [
       "array([[[ 0,  4],\n",
       "        [ 1,  5],\n",
       "        [ 2,  6],\n",
       "        [ 3,  7]],\n",
       "\n",
       "       [[ 8, 12],\n",
       "        [ 9, 13],\n",
       "        [10, 14],\n",
       "        [11, 15]]])"
      ]
     },
     "execution_count": 46,
     "metadata": {},
     "output_type": "execute_result"
    }
   ],
   "source": [
    "# Simple transposing with .T is a special case of swapping axes\n",
    "# ndarray has the method swapaxes, which takes a pair of axis numbers and switches the indicated axes to rearrange the data\n",
    "arr.swapaxes(1, 2)\n",
    "#swapaxes similarly returns a view on the data without making a copy."
   ]
  },
  {
   "cell_type": "markdown",
   "id": "9396723b-f2c4-4ee4-aaf1-99ececec1c3f",
   "metadata": {},
   "source": [
    "## Universal Functions (ufuncs): Fast Element-Wise Array Functions\n",
    "\n",
    "A **universal function (ufunc)** in NumPy is a **function that performs fast, element-wise operations on `ndarray` data.**\n",
    "\n",
    "You can think of ufuncs as **fast, vectorized wrappers around functions that take one or more scalar inputs and produce one or more scalar outputs.**\n",
    "\n",
    "Ufuncs help in:\n",
    "- Writing cleaner, loop-free numerical code  \n",
    "- Utilizing optimized, compiled C backend for speed  \n",
    "- Expressing element-wise operations naturally\n",
    "\n",
    "---\n",
    "\n",
    "## Table: Unary Universal Functions\n",
    "\n",
    "| **Function** | **Description** |\n",
    "|--------------|-----------------|\n",
    "| `abs`, `fabs` | Compute the absolute value element-wise for integer, float, or complex values |\n",
    "| `sqrt` | Compute the square root of each element (`arr ** 0.5`) |\n",
    "| `square` | Compute the square of each element (`arr ** 2`) |\n",
    "| `exp` | Compute the exponent *e^x* of each element |\n",
    "| `log`, `log10`, `log2`, `log1p` | Natural log, log base 10, log base 2, log(1 + x) |\n",
    "| `sign` | Compute the sign of each element: 1 (positive), 0 (zero), -1 (negative) |\n",
    "| `ceil` | Compute the ceiling (smallest integer >= element) |\n",
    "| `floor` | Compute the floor (largest integer <= element) |\n",
    "| `rint` | Round to nearest integer, preserving dtype |\n",
    "| `modf` | Return fractional and integral parts of each element as separate arrays |\n",
    "| `isnan` | Boolean array indicating whether each value is NaN |\n",
    "| `isfinite`, `isinf` | Boolean array indicating whether each value is finite or infinite |\n",
    "| `cos`, `cosh`, `sin`, `sinh`, `tan`, `tanh` | Regular and hyperbolic trigonometric functions |\n",
    "| `arccos`, `arccosh`, `arcsin`, `arcsinh`, `arctan`, `arctanh` | Inverse trigonometric functions |\n",
    "| `logical_not` | Compute truth value of `not x` element-wise (equivalent to `~arr`) |\n",
    "\n",
    "---\n",
    "\n",
    "## Table: Binary Universal Functions\n",
    "\n",
    "| **Function** | **Description** |\n",
    "|--------------|-----------------|\n",
    "| `add` | Element-wise addition |\n",
    "| `subtract` | Element-wise subtraction (first - second) |\n",
    "| `multiply` | Element-wise multiplication |\n",
    "| `divide`, `floor_divide` | Element-wise division or floor division (truncating remainder) |\n",
    "| `power` | Raise elements in first array to powers in second array |\n",
    "| `maximum`, `fmax` | Element-wise maximum (`fmax` ignores NaN) |\n",
    "| `minimum`, `fmin` | Element-wise minimum (`fmin` ignores NaN) |\n",
    "| `mod` | Element-wise modulus (remainder after division) |\n",
    "| `copysign` | Copy sign of values in second array to first array |\n",
    "| `greater`, `greater_equal`, `less`, `less_equal`, `equal`, `not_equal` | Element-wise comparison, returning boolean arrays (equivalent to `>`, `>=`, `<`, `<=`, `==`, `!=`) |\n",
    "| `logical_and`, `logical_or`, `logical_xor` | Compute element-wise logical operations |\n",
    "\n",
    "---\n"
   ]
  },
  {
   "cell_type": "code",
   "execution_count": 47,
   "id": "208087f6-53f0-4309-be1a-748ee965274d",
   "metadata": {},
   "outputs": [
    {
     "data": {
      "text/plain": [
       "array([0.        , 1.        , 1.41421356, 1.73205081, 2.        ,\n",
       "       2.23606798, 2.44948974, 2.64575131, 2.82842712, 3.        ])"
      ]
     },
     "execution_count": 47,
     "metadata": {},
     "output_type": "execute_result"
    }
   ],
   "source": [
    "arr = np.arange(10)\n",
    "np.sqrt(arr)"
   ]
  },
  {
   "cell_type": "code",
   "execution_count": 48,
   "id": "5592b562-d51b-4d0a-82ec-c7818a101c0d",
   "metadata": {},
   "outputs": [
    {
     "data": {
      "text/plain": [
       "array([1.00000000e+00, 2.71828183e+00, 7.38905610e+00, 2.00855369e+01,\n",
       "       5.45981500e+01, 1.48413159e+02, 4.03428793e+02, 1.09663316e+03,\n",
       "       2.98095799e+03, 8.10308393e+03])"
      ]
     },
     "execution_count": 48,
     "metadata": {},
     "output_type": "execute_result"
    }
   ],
   "source": [
    "np.exp(arr)"
   ]
  },
  {
   "cell_type": "code",
   "execution_count": 49,
   "id": "a68b8049-a61e-4b66-a2d9-991aa8c20cb6",
   "metadata": {},
   "outputs": [
    {
     "data": {
      "text/plain": [
       "array([ 0.12849997,  0.83476973,  0.31425327, -0.98986966,  0.09767792,\n",
       "        0.08326504, -0.54368871,  1.27982753])"
      ]
     },
     "execution_count": 49,
     "metadata": {},
     "output_type": "execute_result"
    }
   ],
   "source": [
    "x = np.random.randn(8)\n",
    "y = np.random.randn(8)\n",
    "np.maximum(x, y)"
   ]
  },
  {
   "cell_type": "code",
   "execution_count": 50,
   "id": "45e0df43-17eb-4c8b-bc4c-fca2b61b4b09",
   "metadata": {},
   "outputs": [
    {
     "name": "stdout",
     "output_type": "stream",
     "text": [
      "[ -7.91468106  -5.06372924  -3.60479243   4.37455909   2.92383102\n",
      " -12.76334452  -3.47932152]\n",
      "[-0.91468106 -0.06372924 -0.60479243  0.37455909  0.92383102 -0.76334452\n",
      " -0.47932152]\n",
      "[ -7.  -5.  -3.   4.   2. -12.  -3.]\n"
     ]
    }
   ],
   "source": [
    "# While not common, a ufunc can return multiple arrays. modf is one example, a vectorized version of the built-in Python divmod; it returns the fractional and integral parts of a floating-point array\n",
    "arr = np.random.randn(7) * 5\n",
    "print(arr)\n",
    "remainder, whole_part = np.modf(arr)\n",
    "print(remainder)\n",
    "print(whole_part)"
   ]
  },
  {
   "cell_type": "code",
   "execution_count": 51,
   "id": "3b359d74-57d8-4715-9748-2d45dbd0cb10",
   "metadata": {},
   "outputs": [
    {
     "name": "stdout",
     "output_type": "stream",
     "text": [
      "[ -7.91468106  -5.06372924  -3.60479243   4.37455909   2.92383102\n",
      " -12.76334452  -3.47932152]\n"
     ]
    },
    {
     "name": "stderr",
     "output_type": "stream",
     "text": [
      "/tmp/ipykernel_22705/1663797801.py:3: RuntimeWarning: invalid value encountered in sqrt\n",
      "  np.sqrt(arr)\n"
     ]
    },
    {
     "data": {
      "text/plain": [
       "array([       nan,        nan,        nan, 2.09154467, 1.70992135,\n",
       "              nan,        nan])"
      ]
     },
     "execution_count": 51,
     "metadata": {},
     "output_type": "execute_result"
    }
   ],
   "source": [
    "#Ufuncs accept an optional out argument that allows them to operate in-place on arrays\n",
    "print(arr)\n",
    "np.sqrt(arr)"
   ]
  },
  {
   "cell_type": "code",
   "execution_count": 52,
   "id": "7c4854ce-b41d-4aa0-959b-5f804fd44312",
   "metadata": {},
   "outputs": [
    {
     "name": "stderr",
     "output_type": "stream",
     "text": [
      "/tmp/ipykernel_22705/269955669.py:1: RuntimeWarning: invalid value encountered in sqrt\n",
      "  np.sqrt(arr, arr)\n"
     ]
    },
    {
     "data": {
      "text/plain": [
       "array([       nan,        nan,        nan, 2.09154467, 1.70992135,\n",
       "              nan,        nan])"
      ]
     },
     "execution_count": 52,
     "metadata": {},
     "output_type": "execute_result"
    }
   ],
   "source": [
    "np.sqrt(arr, arr)"
   ]
  },
  {
   "cell_type": "code",
   "execution_count": 53,
   "id": "63013e0e-bbd8-4808-8f5a-076e8da38f9b",
   "metadata": {},
   "outputs": [
    {
     "data": {
      "text/plain": [
       "array([       nan,        nan,        nan, 2.09154467, 1.70992135,\n",
       "              nan,        nan])"
      ]
     },
     "execution_count": 53,
     "metadata": {},
     "output_type": "execute_result"
    }
   ],
   "source": [
    "arr"
   ]
  },
  {
   "cell_type": "markdown",
   "id": "d13bad83-3b70-451b-a769-0ab9e89d883a",
   "metadata": {},
   "source": [
    "## Mathematical and Statistical Methods in NumPy\n",
    "\n",
    "NumPy provides a **set of mathematical functions that compute statistics on an entire array or along a specified axis.**\n",
    "\n",
    "- These are available as **methods on the `ndarray` object** or as **top-level NumPy functions**.\n",
    "\n",
    "- Such operations are often called **aggregations (reductions)** as they reduce an array to a single value or summary values along an axis.\n",
    "\n",
    "---\n",
    "\n",
    "## Table: Common Mathematical and Statistical Methods\n",
    "\n",
    "| **Method** | **Description** |\n",
    "|------------|-----------------|\n",
    "| `sum` | Sum of all elements in the array or along an axis; zero-length arrays return 0 |\n",
    "| `mean` | Arithmetic mean; zero-length arrays return NaN |\n",
    "| `std`, `var` | Standard deviation and variance, respectively, with optional degrees of freedom adjustment (`ddof`, default denominator `n`) |\n",
    "| `min`, `max` | Minimum and maximum values in the array |\n",
    "| `argmin`, `argmax` | Indices of the minimum and maximum elements, respectively |\n",
    "| `cumsum` | Cumulative sum of elements, starting from 0 |\n",
    "| `cumprod` | Cumulative product of elements, starting from 1 |\n",
    "\n",
    "---\n",
    "\n"
   ]
  },
  {
   "cell_type": "code",
   "execution_count": 54,
   "id": "dc476559-b30c-46c6-839e-39f125a0a52a",
   "metadata": {},
   "outputs": [
    {
     "data": {
      "text/plain": [
       "array([[ 0.56169134, -1.91419319, -1.28497082,  0.57616855],\n",
       "       [ 0.84118541, -0.49722529,  0.94496615, -0.94069129],\n",
       "       [ 0.49032824,  1.38487464,  0.88954773,  1.8982164 ],\n",
       "       [-2.20457978, -0.1887958 ,  0.30625018, -1.13017121],\n",
       "       [-1.54906699, -0.38085592,  0.1943239 , -0.10847915]])"
      ]
     },
     "execution_count": 54,
     "metadata": {},
     "output_type": "execute_result"
    }
   ],
   "source": [
    "arr = np.random.randn(5, 4)\n",
    "arr"
   ]
  },
  {
   "cell_type": "code",
   "execution_count": 55,
   "id": "59bf7611-a683-4852-baef-538d59fbc337",
   "metadata": {},
   "outputs": [
    {
     "name": "stdout",
     "output_type": "stream",
     "text": [
      "mean: -0.1055738435785311\n",
      "sum: -2.111476871570622\n"
     ]
    }
   ],
   "source": [
    "print(f\"mean: {arr.mean()}\")\n",
    "print(f\"sum: {arr.sum()}\")\n"
   ]
  },
  {
   "cell_type": "code",
   "execution_count": 56,
   "id": "7425aa92-c69c-4ede-b4dc-d53cd7656cf9",
   "metadata": {},
   "outputs": [
    {
     "data": {
      "text/plain": [
       "array([-0.51532603,  0.08705875,  1.16574175, -0.80432415, -0.46101954])"
      ]
     },
     "execution_count": 56,
     "metadata": {},
     "output_type": "execute_result"
    }
   ],
   "source": [
    "#Functions like mean and sum take an optional axis argument that computes the statistic over the given axis, resulting in an array with one fewer dimension\n",
    "arr.mean(axis=1)\n",
    "#arr.mean(1) means “compute mean across the columns” where arr.sum(0) means “compute sum down the rows.”"
   ]
  },
  {
   "cell_type": "code",
   "execution_count": 57,
   "id": "750a5cd0-0ff2-4229-b913-596591b4efda",
   "metadata": {},
   "outputs": [
    {
     "name": "stdout",
     "output_type": "stream",
     "text": [
      "[[0 1 2]\n",
      " [3 4 5]\n",
      " [6 7 8]]\n",
      "[[ 0  1  2]\n",
      " [ 3  5  7]\n",
      " [ 9 12 15]]\n"
     ]
    }
   ],
   "source": [
    "#In multidimensional arrays, accumulation functions like cumsum return an array of the same size, but with the partial aggregates computed along the indicated axis according to each lower dimensional slice\n",
    "arr = np.array([[0, 1, 2], [3, 4, 5], [6, 7, 8]])\n",
    "print(arr)\n",
    "print(arr.cumsum(axis=0))"
   ]
  },
  {
   "cell_type": "markdown",
   "id": "7b0bc205-d014-4d8b-a6fc-32e610e72c44",
   "metadata": {},
   "source": [
    "## Methods on boolean arrays\n",
    "\n",
    "Boolean values are coerced to 1 (True) and 0 (False) in the preceding methods. Thus,\n",
    "sum is often used as a means of counting True values in a boolean array"
   ]
  },
  {
   "cell_type": "code",
   "execution_count": 58,
   "id": "c017614d-8276-485e-b878-5f0002b81ef8",
   "metadata": {},
   "outputs": [
    {
     "data": {
      "text/plain": [
       "np.int64(52)"
      ]
     },
     "execution_count": 58,
     "metadata": {},
     "output_type": "execute_result"
    }
   ],
   "source": [
    "arr = np.random.randn(100)\n",
    "(arr > 0).sum() # Number of positive values"
   ]
  },
  {
   "cell_type": "markdown",
   "id": "a763a4ac-cf32-400c-b285-fa5c4d6c5d63",
   "metadata": {},
   "source": [
    "There are two additional methods, any and all, useful especially for boolean arrays.\n",
    "any tests whether one or more values in an array is True, while all checks if every\n",
    "value is True"
   ]
  },
  {
   "cell_type": "code",
   "execution_count": 59,
   "id": "b6caf61f-8d7e-410a-91fd-8aff70660ff9",
   "metadata": {},
   "outputs": [
    {
     "name": "stdout",
     "output_type": "stream",
     "text": [
      "True\n",
      "False\n"
     ]
    }
   ],
   "source": [
    "bools = np.array([False, False, True, False])\n",
    "print(bools.any())\n",
    "print(bools.all())"
   ]
  },
  {
   "cell_type": "markdown",
   "id": "8b64df14-68eb-4f65-9af9-5762da0c6fcd",
   "metadata": {},
   "source": [
    "## Sorting\n",
    "\n",
    "Like Python’s built-in list type, NumPy arrays can be sorted in-place with the sort\n",
    "method"
   ]
  },
  {
   "cell_type": "code",
   "execution_count": 60,
   "id": "cb1c5b74-417c-4946-bc0a-e04c70266111",
   "metadata": {},
   "outputs": [
    {
     "data": {
      "text/plain": [
       "array([ 0.22808228, -0.41467204, -0.96388404, -0.07894934,  0.84011554,\n",
       "        0.35265082])"
      ]
     },
     "execution_count": 60,
     "metadata": {},
     "output_type": "execute_result"
    }
   ],
   "source": [
    "arr = np.random.randn(6)\n",
    "arr"
   ]
  },
  {
   "cell_type": "code",
   "execution_count": 61,
   "id": "c40ac603-0f7d-4a05-a7fd-4a718bb9d20a",
   "metadata": {},
   "outputs": [
    {
     "data": {
      "text/plain": [
       "array([-0.96388404, -0.41467204, -0.07894934,  0.22808228,  0.35265082,\n",
       "        0.84011554])"
      ]
     },
     "execution_count": 61,
     "metadata": {},
     "output_type": "execute_result"
    }
   ],
   "source": [
    "arr.sort()\n",
    "arr"
   ]
  },
  {
   "cell_type": "markdown",
   "id": "85108e72-0731-4c99-bed7-17af42498b76",
   "metadata": {},
   "source": [
    "You can sort each one-dimensional section of values in a multidimensional array in-\n",
    "place along an axis by passing the axis number to sort"
   ]
  },
  {
   "cell_type": "code",
   "execution_count": 62,
   "id": "ab1ea6ed-76ef-42ed-b1c2-c572fcac15c1",
   "metadata": {},
   "outputs": [
    {
     "data": {
      "text/plain": [
       "array([[ 1.0929133 , -0.67774606,  0.74963256],\n",
       "       [ 0.80389836,  1.14316611, -1.42635281],\n",
       "       [ 0.4945161 , -0.0798549 ,  0.44507322],\n",
       "       [-0.55522912,  0.08177985,  1.98555252],\n",
       "       [-1.40746421,  1.04776429,  1.27223235]])"
      ]
     },
     "execution_count": 62,
     "metadata": {},
     "output_type": "execute_result"
    }
   ],
   "source": [
    "arr = np.random.randn(5, 3)\n",
    "arr"
   ]
  },
  {
   "cell_type": "code",
   "execution_count": 63,
   "id": "7c5faa99-8cba-49e4-9dfc-d479f9077d1f",
   "metadata": {},
   "outputs": [],
   "source": [
    "arr.sort(1)"
   ]
  },
  {
   "cell_type": "markdown",
   "id": "a1816563-a2f0-47f4-b68f-687d82380d76",
   "metadata": {},
   "source": [
    "The top-level method np.sort returns a sorted copy of an array instead of modifying\n",
    "the array in-place."
   ]
  },
  {
   "cell_type": "markdown",
   "id": "d7f29084-45d5-4cc4-bdbd-41413090afaf",
   "metadata": {},
   "source": [
    "## Unique and Other Set Logic in NumPy\n",
    "\n",
    "NumPy provides **basic set operations for one-dimensional `ndarray`s**, enabling you to efficiently perform set-based computations during data analysis and preprocessing.\n",
    "\n",
    "---\n",
    "\n",
    "- A **commonly used function is `np.unique`**, which returns the **sorted unique values in an array**.\n",
    "- Another useful function is `np.in1d`, which **tests membership of the values in one array within another**, returning a boolean array.\n",
    "\n",
    "---\n",
    "\n",
    "## Table: Array Set Operations\n",
    "\n",
    "| **Function** | **Description** |\n",
    "|--------------|-----------------|\n",
    "| `unique(x)` | Compute the sorted, unique elements in `x`. |\n",
    "| `intersect1d(x, y)` | Compute the sorted, common elements in `x` and `y`. |\n",
    "| `union1d(x, y)` | Compute the sorted union of elements in `x` and `y`. |\n",
    "| `in1d(x, y)` | Return a boolean array indicating whether each element of `x` is contained in `y`. |\n",
    "| `setdiff1d(x, y)` | Compute the set difference: elements in `x` that are not in `y`. |\n",
    "| `setxor1d(x, y)` | Compute the set symmetric difference: elements that are in either `x` or `y`, but not both. |\n",
    "\n",
    "---\n",
    "\n",
    "### Why These Are Useful\n",
    "\n",
    " Enable **fast set operations on numerical or categorical data** while leveraging NumPy’s vectorization.  \n",
    "Useful for:\n",
    "- Removing duplicates (`unique`)\n",
    "- Finding common elements (`intersect1d`)\n",
    "- Checking membership (`in1d`)\n",
    "- Filtering or preparing datasets before merging or joining operations.\n",
    "\n",
    "Return **sorted results for consistency in downstream processing**.\n",
    "\n"
   ]
  },
  {
   "cell_type": "code",
   "execution_count": 64,
   "id": "7b87ef18-123b-4a84-a801-095017d3b698",
   "metadata": {},
   "outputs": [
    {
     "data": {
      "text/plain": [
       "array(['Bob', 'Joe', 'Will'], dtype='<U4')"
      ]
     },
     "execution_count": 64,
     "metadata": {},
     "output_type": "execute_result"
    }
   ],
   "source": [
    "names = np.array(['Bob', 'Joe', 'Will', 'Bob', 'Will', 'Joe', 'Joe'])\n",
    "np.unique(names)"
   ]
  },
  {
   "cell_type": "code",
   "execution_count": 65,
   "id": "2e8147e2-d925-4d24-8b7b-0accb4befad6",
   "metadata": {},
   "outputs": [
    {
     "data": {
      "text/plain": [
       "array([ True, False, False,  True,  True, False,  True])"
      ]
     },
     "execution_count": 65,
     "metadata": {},
     "output_type": "execute_result"
    }
   ],
   "source": [
    "values = np.array([6, 0, 0, 3, 2, 5, 6])\n",
    "np.isin(values, [2, 3, 6])\n",
    "#isin alternative for inld"
   ]
  },
  {
   "cell_type": "markdown",
   "id": "6aa791eb-f240-4d7d-8261-56fd3b3b3be6",
   "metadata": {},
   "source": [
    "## Linear Algebra in NumPy\n",
    "\n",
    "**Linear algebra** operations such as **matrix multiplication, decompositions, determinants, and square matrix operations** are essential in scientific computing, data analysis, and machine learning workflows.\n",
    "\n",
    "---\n",
    "\n",
    "### Key Points\n",
    "\n",
    "- In **NumPy**, multiplying two 2D arrays with `*` **performs element-wise multiplication**, *not* matrix multiplication (unlike MATLAB).\n",
    "- For **matrix multiplication**, use the `dot` function, available as:\n",
    "  - An **array method**: `arr.dot()`\n",
    "  - A **top-level function**: `np.dot()`\n",
    "\n",
    "- The `numpy.linalg` module provides **standard matrix decompositions and linear algebra operations** like:\n",
    "  - Inverses\n",
    "  - Determinants\n",
    "  - Eigenvalues and eigenvectors\n",
    "\n",
    "These are implemented under the hood using **industry-standard linear algebra libraries** (BLAS, LAPACK, Intel MKL depending on your NumPy build), ensuring performance comparable to MATLAB or R.\n",
    "\n",
    "---\n",
    "\n",
    "## Table: Commonly Used `numpy.linalg` Functions\n",
    "\n",
    "| **Function** | **Description** |\n",
    "|--------------|-----------------|\n",
    "| `diag` | Return the diagonal (or off-diagonal) elements of a square matrix as a 1D array, or convert a 1D array into a square matrix with zeros on the off-diagonal |\n",
    "| `dot` | Matrix multiplication |\n",
    "| `trace` | Compute the sum of the diagonal elements of a matrix |\n",
    "| `det` | Compute the determinant of a matrix |\n",
    "| `eig` | Compute the eigenvalues and eigenvectors of a square matrix |\n",
    "| `inv` | Compute the inverse of a square matrix |\n",
    "| `pinv` | Compute the Moore-Penrose pseudo-inverse of a matrix |\n",
    "| `qr` | Compute the QR decomposition of a matrix |\n",
    "| `svd` | Compute the Singular Value Decomposition (SVD) of a matrix |\n",
    "| `solve` | Solve the linear system `Ax = b` for `x`, where `A` is a square matrix |\n",
    "| `lstsq` | Compute the least-squares solution to `Ax = b` |\n",
    "\n",
    "---\n",
    "\n",
    "### Why This Is Useful\n",
    "\n",
    "Essential for:\n",
    "- Solving systems of linear equations\n",
    "- Computing projections in ML models\n",
    "- Dimensionality reduction (SVD, PCA)\n",
    "- Feature engineering and data transformations\n",
    "\n",
    "Allows leveraging **high-performance, vectorized, and compiled operations** within Python workflows without leaving the `NumPy` ecosystem.\n",
    "\n"
   ]
  },
  {
   "cell_type": "code",
   "execution_count": 66,
   "id": "03183ad5-da4b-4431-8a49-907c9f03a1c8",
   "metadata": {},
   "outputs": [],
   "source": [
    "x = np.array([[1., 2., 3.], [4., 5., 6.]])\n",
    "y = np.array([[6., 23.], [-1, 7], [8, 9]])"
   ]
  },
  {
   "cell_type": "code",
   "execution_count": 67,
   "id": "50d9344b-ca84-4bb4-ae4d-dfb78cbb5815",
   "metadata": {},
   "outputs": [
    {
     "data": {
      "text/plain": [
       "array([[ 28.,  64.],\n",
       "       [ 67., 181.]])"
      ]
     },
     "execution_count": 67,
     "metadata": {},
     "output_type": "execute_result"
    }
   ],
   "source": [
    "x.dot(y)"
   ]
  },
  {
   "cell_type": "code",
   "execution_count": 68,
   "id": "66cc7384-6cb6-4ab6-b45d-a0d80a7f69ed",
   "metadata": {},
   "outputs": [
    {
     "data": {
      "text/plain": [
       "array([[ 28.,  64.],\n",
       "       [ 67., 181.]])"
      ]
     },
     "execution_count": 68,
     "metadata": {},
     "output_type": "execute_result"
    }
   ],
   "source": [
    "#x.dot(y) is equivalent to np.dot(x, y):\n",
    "np.dot(x,y)"
   ]
  },
  {
   "cell_type": "code",
   "execution_count": 69,
   "id": "f2698956-23f6-4c19-adde-c4b78bee9082",
   "metadata": {},
   "outputs": [
    {
     "data": {
      "text/plain": [
       "array([ 6., 15.])"
      ]
     },
     "execution_count": 69,
     "metadata": {},
     "output_type": "execute_result"
    }
   ],
   "source": [
    "# A matrix product between a two-dimensional array and a suitably sized one-dimensional array results in a one-dimensional array:\n",
    "np.dot(x, np.ones(3))"
   ]
  },
  {
   "cell_type": "code",
   "execution_count": 70,
   "id": "21d62009-4a44-4fd0-99b0-af30380e51d4",
   "metadata": {},
   "outputs": [
    {
     "data": {
      "text/plain": [
       "array([[ 0.3652337 , -0.03393802, -1.28833521,  0.93636007, -1.32456083],\n",
       "       [-0.03393802,  3.96343405, -0.96820831, -0.9257532 , -0.4289053 ],\n",
       "       [-1.28833521, -0.96820831,  9.98836986, -2.74068956,  2.72406284],\n",
       "       [ 0.93636007, -0.9257532 , -2.74068956,  2.97376586, -3.24689362],\n",
       "       [-1.32456083, -0.4289053 ,  2.72406284, -3.24689362,  6.79066668]])"
      ]
     },
     "execution_count": 70,
     "metadata": {},
     "output_type": "execute_result"
    }
   ],
   "source": [
    "from numpy.linalg import inv, qr\n",
    "\n",
    "X = np.random.randn(5, 5)\n",
    "mat = X.T.dot(X) \n",
    "mat"
   ]
  },
  {
   "cell_type": "code",
   "execution_count": 71,
   "id": "536c397a-daa0-4494-a4cc-67acd211ca73",
   "metadata": {},
   "outputs": [
    {
     "data": {
      "text/plain": [
       "array([[ 66.72574866,  -0.15961615,   3.99718804, -10.30882862,\n",
       "          6.47264744],\n",
       "       [ -0.15961615,   0.3955531 ,   0.09349932,   0.44335906,\n",
       "          0.16833034],\n",
       "       [  3.99718804,   0.09349932,   0.40073207,  -0.37234818,\n",
       "          0.44679365],\n",
       "       [-10.30882862,   0.44335906,  -0.37234818,   2.87749999,\n",
       "         -0.4575803 ],\n",
       "       [  6.47264744,   0.16833034,   0.44679365,  -0.4575803 ,\n",
       "          1.02240395]])"
      ]
     },
     "execution_count": 71,
     "metadata": {},
     "output_type": "execute_result"
    }
   ],
   "source": [
    "inv(mat)"
   ]
  },
  {
   "cell_type": "code",
   "execution_count": 72,
   "id": "2f44aa04-04e8-4c51-aa7b-512890850b60",
   "metadata": {},
   "outputs": [
    {
     "name": "stdout",
     "output_type": "stream",
     "text": [
      "q: [[-0.17361427  0.02390002 -0.05170341  0.02816967  0.98276147]\n",
      " [ 0.01613248 -0.94774469 -0.1569106  -0.27612606  0.0255581 ]\n",
      " [ 0.61241166  0.17543772 -0.75673821 -0.13007246  0.06783802]\n",
      " [-0.44509986  0.26152509 -0.16174047 -0.83815504 -0.06947579]\n",
      " [ 0.62963155  0.04511134  0.61146801 -0.45115202  0.15523466]]\n",
      "r: [[-2.10370783 -0.38110962  9.26008446 -5.22389987  7.61210114]\n",
      " [ 0.         -4.18845112  2.04528698  1.050179    0.30993103]\n",
      " [ 0.          0.         -5.23108994 -0.29551787  2.75181119]\n",
      " [ 0.          0.          0.         -0.38914445 -0.61542882]\n",
      " [ 0.          0.          0.          0.          0.151833  ]]\n"
     ]
    }
   ],
   "source": [
    "q, r = qr(mat)\n",
    "print(f\"q: {q}\")\n",
    "print(f\"r: {r}\")"
   ]
  },
  {
   "cell_type": "markdown",
   "id": "216fa9a7-a22b-4738-a091-7fe611fde194",
   "metadata": {},
   "source": [
    "## Pseudorandom Number Generation in NumPy\n",
    "\n",
    "The `numpy.random` module **extends Python’s built-in `random` module** with functions for **efficiently generating entire arrays of sample values from various probability distributions.**\n",
    "\n",
    "---\n",
    "\n",
    "### Key Points\n",
    "\n",
    "- **Pseudorandom numbers** are generated **algorithmically with deterministic behavior** based on the **seed** of the random number generator.  \n",
    "- You can control reproducibility in experiments using `np.random.seed` to set the global random seed.\n",
    "\n",
    "- By default, **NumPy uses a global random state**. To **avoid global state** and ensure isolated reproducible streams of random numbers, you can use `numpy.random.RandomState` to create independent random number generators.\n",
    "\n",
    "---\n",
    "\n",
    "## Table: Commonly Used `numpy.random` Functions\n",
    "\n",
    "| **Function** | **Description** |\n",
    "|--------------|-----------------|\n",
    "| `seed` | Seed the random number generator for reproducibility |\n",
    "| `permutation` | Return a random permutation of a sequence, or a permuted range |\n",
    "| `shuffle` | Randomly permute a sequence in place |\n",
    "| `rand` | Draw samples from a uniform distribution (0, 1) |\n",
    "| `randint` | Draw random integers from a specified low-to-high range |\n",
    "| `randn` | Draw samples from a normal distribution with mean 0 and standard deviation 1 (MATLAB-like interface) |\n",
    "| `binomial` | Draw samples from a binomial distribution |\n",
    "| `normal` | Draw samples from a normal (Gaussian) distribution with specified mean and standard deviation |\n",
    "| `beta` | Draw samples from a beta distribution |\n",
    "| `chisquare` | Draw samples from a chi-square distribution |\n",
    "| `gamma` | Draw samples from a gamma distribution |\n",
    "\n",
    "---\n",
    "\n",
    "### Why This Is Useful\n",
    "\n",
    "Allows **vectorized, efficient generation of random samples** for:\n",
    "- Simulations\n",
    "- Testing algorithms\n",
    "- Bootstrapping\n",
    "- Random sampling in ML and statistics workflows\n",
    "\n",
    "Supports **drawing samples from a wide range of distributions** necessary for scientific and data analysis tasks.\n",
    "\n",
    "Ensures **reproducibility in experiments and projects** when seeds are controlled.\n"
   ]
  },
  {
   "cell_type": "code",
   "execution_count": 73,
   "id": "3fe263fc-0f53-4729-9a9c-2ec95979595a",
   "metadata": {},
   "outputs": [
    {
     "data": {
      "text/plain": [
       "array([[-4.79007831e-04,  3.58353175e-01,  1.35439207e+00,\n",
       "         6.03070657e-01],\n",
       "       [-3.98074224e-01, -1.27204097e+00,  1.04298365e-01,\n",
       "        -5.07912527e-01],\n",
       "       [-2.89084317e-01,  3.23228723e-01,  7.90831058e-01,\n",
       "         4.57049291e-02],\n",
       "       [-5.96354459e-02, -1.20295636e-01, -1.40315206e+00,\n",
       "        -1.65799435e+00]])"
      ]
     },
     "execution_count": 73,
     "metadata": {},
     "output_type": "execute_result"
    }
   ],
   "source": [
    "samples = np.random.normal(size=(4, 4))\n",
    "samples"
   ]
  },
  {
   "cell_type": "code",
   "execution_count": 74,
   "id": "838e6cc4-1f0e-4f52-ab78-19ffd3759b58",
   "metadata": {},
   "outputs": [],
   "source": [
    "#change NumPy’s random number generation seed using np.random.seed\n",
    "np.random.seed(1234)"
   ]
  },
  {
   "cell_type": "code",
   "execution_count": 75,
   "id": "384b56a1-d106-4ef2-835a-38ee2ea15cd0",
   "metadata": {},
   "outputs": [
    {
     "data": {
      "text/plain": [
       "array([ 0.47143516, -1.19097569,  1.43270697, -0.3126519 , -0.72058873,\n",
       "        0.88716294,  0.85958841, -0.6365235 ,  0.01569637, -2.24268495])"
      ]
     },
     "execution_count": 75,
     "metadata": {},
     "output_type": "execute_result"
    }
   ],
   "source": [
    "#To avoid global state, you can use numpy.random.RandomState to create a random number generator isolated from others\n",
    "rng = np.random.RandomState(1234)\n",
    "rng.randn(10)"
   ]
  },
  {
   "cell_type": "markdown",
   "id": "065a3acd-c10e-48f8-a058-4a1ac2cd27f2",
   "metadata": {},
   "source": [
    "Python’s built-in random module, by contrast, only samples one value at a time. As\n",
    "you can see from this benchmark, numpy.random is well over an order of magnitude\n",
    "faster for generating very large samples"
   ]
  },
  {
   "cell_type": "code",
   "execution_count": 76,
   "id": "7833a4f4-8066-4c05-9b9c-f9c7f71feb1d",
   "metadata": {},
   "outputs": [
    {
     "name": "stdout",
     "output_type": "stream",
     "text": [
      "875 ms ± 25.3 ms per loop (mean ± std. dev. of 7 runs, 1 loop each)\n"
     ]
    }
   ],
   "source": [
    "from random import normalvariate\n",
    "\n",
    "N = 1000000\n",
    "\n",
    "%timeit samples = [normalvariate(0, 1) for _ in range(N)]"
   ]
  },
  {
   "cell_type": "code",
   "execution_count": 77,
   "id": "b41906ab-1591-4387-911d-7bd08a7f5cd4",
   "metadata": {},
   "outputs": [
    {
     "name": "stdout",
     "output_type": "stream",
     "text": [
      "37.5 ms ± 1.14 ms per loop (mean ± std. dev. of 7 runs, 10 loops each)\n"
     ]
    }
   ],
   "source": [
    "%timeit np.random.normal(size=N)"
   ]
  },
  {
   "cell_type": "markdown",
   "id": "403b1eef-789a-48b5-8a89-ba4a8eacce11",
   "metadata": {},
   "source": [
    "# Tricky Questions On Numpy"
   ]
  },
  {
   "cell_type": "markdown",
   "id": "27fa3e3b-e6fd-4c8c-b6cd-8d2b8ebb66d8",
   "metadata": {},
   "source": [
    "## 1. Flatten without Copying Data\n",
    "\n",
    "**Question:**  \n",
    "How can you flatten a multi-dimensional NumPy array without copying data?\n",
    "\n",
    "**Answer:**  \n",
    "Use `ravel()`, which returns a flattened **view** if possible (while `flatten()` always returns a copy)."
   ]
  },
  {
   "cell_type": "code",
   "execution_count": 79,
   "id": "a7547568-78ad-48ed-859c-76e3a5eeddd2",
   "metadata": {},
   "outputs": [
    {
     "name": "stdout",
     "output_type": "stream",
     "text": [
      "Original Array:\n",
      " [[0 1 2]\n",
      " [3 4 5]\n",
      " [6 7 8]]\n",
      "Flattened View:\n",
      " [0 1 2 3 4 5 6 7 8]\n",
      "After modifying view:\n",
      " [[999   1   2]\n",
      " [  3   4   5]\n",
      " [  6   7   8]]\n"
     ]
    }
   ],
   "source": [
    "import numpy as np\n",
    "\n",
    "a = np.arange(9).reshape(3, 3)\n",
    "b = a.ravel()\n",
    "\n",
    "print(\"Original Array:\\n\", a)\n",
    "print(\"Flattened View:\\n\", b)\n",
    "\n",
    "# Modifying view\n",
    "b[0] = 999\n",
    "print(\"After modifying view:\\n\", a)"
   ]
  },
  {
   "cell_type": "markdown",
   "id": "63c24174-4570-4765-b7e4-aeaa9306f0f1",
   "metadata": {},
   "source": [
    "## 2. C_CONTIGUOUS vs F_CONTIGUOUS\n",
    "\n",
    "**Question:**  \n",
    "What is the difference between `C_CONTIGUOUS` and `F_CONTIGUOUS` in NumPy?\n",
    "\n",
    "**Answer:**  \n",
    "- `C_CONTIGUOUS` → row-major (C-style).\n",
    "- `F_CONTIGUOUS` → column-major (Fortran-style).\n",
    "- Affects traversal and performance in some operations.\n"
   ]
  },
  {
   "cell_type": "code",
   "execution_count": 80,
   "id": "1738b510-67de-4d07-91eb-21263fe802f1",
   "metadata": {},
   "outputs": [
    {
     "name": "stdout",
     "output_type": "stream",
     "text": [
      "Is C_CONTIGUOUS? False\n",
      "Is F_CONTIGUOUS? True\n"
     ]
    }
   ],
   "source": [
    "a = np.asfortranarray(np.arange(9).reshape(3, 3))\n",
    "\n",
    "print(\"Is C_CONTIGUOUS?\", a.flags['C_CONTIGUOUS'])\n",
    "print(\"Is F_CONTIGUOUS?\", a.flags['F_CONTIGUOUS'])"
   ]
  },
  {
   "cell_type": "markdown",
   "id": "6a321d70-589d-43a8-8051-241b614dfa18",
   "metadata": {},
   "source": [
    "## 3. Broadcasting Shapes\n",
    "\n",
    "**Question:**  \n",
    "How does broadcasting work for shapes `(3,1)` and `(1,4)`?\n",
    "\n",
    "**Answer:**  \n",
    "- `(3,1)` → broadcast to `(3,4)`\n",
    "- `(1,4)` → broadcast to `(3,4)`\n",
    "- Resulting shape is `(3,4)`."
   ]
  },
  {
   "cell_type": "code",
   "execution_count": 81,
   "id": "bcbdf1d4-e829-479f-8a56-874fcef8813f",
   "metadata": {},
   "outputs": [
    {
     "name": "stdout",
     "output_type": "stream",
     "text": [
      "Broadcasted shape: (3, 4)\n",
      "[[2. 2. 2. 2.]\n",
      " [2. 2. 2. 2.]\n",
      " [2. 2. 2. 2.]]\n"
     ]
    }
   ],
   "source": [
    "a = np.ones((3, 1))\n",
    "b = np.ones((1, 4))\n",
    "\n",
    "print(\"Broadcasted shape:\", (a + b).shape)\n",
    "print(a + b)"
   ]
  },
  {
   "cell_type": "markdown",
   "id": "eb054e52-fd24-4e66-b3a8-39202ab60b29",
   "metadata": {},
   "source": [
    "## 4. View vs Copy with Slicing\n",
    "\n",
    "**Question:**  \n",
    "Does slicing return a view or a copy in NumPy?\n",
    "\n",
    "**Answer:**  \n",
    "Slicing returns a **view** (modifying it affects the original array).\n"
   ]
  },
  {
   "cell_type": "code",
   "execution_count": 82,
   "id": "b909803a-ba4e-4de0-99d3-e81f9e1e34ef",
   "metadata": {},
   "outputs": [
    {
     "name": "stdout",
     "output_type": "stream",
     "text": [
      "Modified Original Array:\n",
      " [ 1 99  3  4]\n"
     ]
    }
   ],
   "source": [
    "a = np.array([1, 2, 3, 4])\n",
    "b = a[1:3]\n",
    "b[0] = 99\n",
    "\n",
    "print(\"Modified Original Array:\\n\", a)"
   ]
  },
  {
   "cell_type": "markdown",
   "id": "c93a6df0-90f1-40d5-8d45-bed44a9f7cf9",
   "metadata": {},
   "source": [
    "## 5️5. Masked Indexing Assignment\n",
    "\n",
    "**Question:**  \n",
    "Does `arr[mask] = value` modify the original array in-place?\n",
    "\n",
    "**Answer:**  \n",
    "Yes, it modifies the original array **in-place** at the masked locations."
   ]
  },
  {
   "cell_type": "code",
   "execution_count": 83,
   "id": "d9119f60-c40c-47bc-ad57-678c93e7be95",
   "metadata": {},
   "outputs": [
    {
     "name": "stdout",
     "output_type": "stream",
     "text": [
      "[ 1  2  3 99 99]\n"
     ]
    }
   ],
   "source": [
    "a = np.array([1, 2, 3, 4, 5])\n",
    "mask = a > 3\n",
    "a[mask] = 99\n",
    "print(a)"
   ]
  },
  {
   "cell_type": "markdown",
   "id": "ee9edd2e-097e-43c9-b815-3fa0b5555bd1",
   "metadata": {},
   "source": [
    "## 6. Stride Tricks and Sliding Window View\n",
    "\n",
    "**Question:**  \n",
    "What are strides, and how to use `sliding_window_view`?\n",
    "\n",
    "**Answer:**  \n",
    "Strides control how NumPy steps through memory.  \n",
    "`sliding_window_view` allows creating sliding windows **without copying data**.\n"
   ]
  },
  {
   "cell_type": "markdown",
   "id": "a44c8c4c-2c9f-43f9-b4fd-3542484692fd",
   "metadata": {},
   "source": [
    "from numpy.lib.stride_tricks import sliding_window_view\n",
    "\n",
    "a = np.arange(10)\n",
    "windows = sliding_window_view(a, window_shape=3)\n",
    "print(windows)"
   ]
  },
  {
   "cell_type": "markdown",
   "id": "976239a6-de62-4b66-9b74-1928a55f52f5",
   "metadata": {},
   "source": [
    "## 7. Structured Arrays\n",
    "\n",
    "**Question:**  \n",
    "What is a structured array in NumPy?\n",
    "\n",
    "**Answer:**  \n",
    "An array with fields of different data types, useful for tabular data."
   ]
  },
  {
   "cell_type": "code",
   "execution_count": 85,
   "id": "31901b8c-f23c-4011-adf4-fd243d2163a8",
   "metadata": {},
   "outputs": [
    {
     "name": "stdout",
     "output_type": "stream",
     "text": [
      "[(b'Alice', 25) (b'Bob', 30)]\n",
      "[b'Alice' b'Bob']\n"
     ]
    }
   ],
   "source": [
    "dt = np.dtype([('name', 'S10'), ('age', 'i4')])\n",
    "arr = np.array([('Alice', 25), ('Bob', 30)], dtype=dt)\n",
    "print(arr)\n",
    "print(arr['name'])"
   ]
  },
  {
   "cell_type": "markdown",
   "id": "ee74b5b8-2ca2-43c4-8a35-b4aa344e9b9e",
   "metadata": {},
   "source": [
    "## 8. np.dot vs np.matmul vs @\n",
    "\n",
    "**Question:**  \n",
    "Difference between `np.dot`, `np.matmul`, and `@`?\n",
    "\n",
    "**Answer:**  \n",
    "- 1D arrays: `np.dot` → inner product, `@` and `matmul` error.\n",
    "- 2D arrays: All perform matrix multiplication.\n",
    "- Higher dims: `matmul` and `@` support broadcasting, `dot` does not.\n"
   ]
  },
  {
   "cell_type": "code",
   "execution_count": 87,
   "id": "801ca55d-b45d-4e14-91e3-7dfa8f156879",
   "metadata": {},
   "outputs": [
    {
     "name": "stdout",
     "output_type": "stream",
     "text": [
      "[[19 22]\n",
      " [43 50]]\n",
      "[[19 22]\n",
      " [43 50]]\n",
      "[[19 22]\n",
      " [43 50]]\n"
     ]
    }
   ],
   "source": [
    "a = np.array([[1, 2], [3, 4]])\n",
    "b = np.array([[5, 6], [7, 8]])\n",
    "\n",
    "print(np.dot(a, b))\n",
    "print(np.matmul(a, b))\n",
    "print(a @ b)"
   ]
  },
  {
   "cell_type": "markdown",
   "id": "ffb0db5a-2057-4bd2-9903-2c37de704e18",
   "metadata": {},
   "source": [
    "## 9.Zero-Dimensional Arrays\n",
    "\n",
    "**Question:**  \n",
    "How to access the value in a 0-D NumPy array?\n",
    "\n",
    "**Answer:**  \n",
    "Use `.item()` or `arr[()]`."
   ]
  },
  {
   "cell_type": "code",
   "execution_count": 88,
   "id": "71f14753-3c4f-4213-93cc-aea45be66739",
   "metadata": {},
   "outputs": [
    {
     "name": "stdout",
     "output_type": "stream",
     "text": [
      "()\n",
      "42\n",
      "42\n"
     ]
    }
   ],
   "source": [
    "a = np.array(42)\n",
    "print(a.shape)\n",
    "print(a.item())\n",
    "print(a[()])\n"
   ]
  },
  {
   "cell_type": "markdown",
   "id": "9fe84ae0-a073-4b00-bdad-6e542c133ccd",
   "metadata": {},
   "source": [
    "## 10. Reverse Array with Negative Strides\n",
    "\n",
    "**Question:**  \n",
    "What does `a[::-1]` do in NumPy?\n",
    "\n",
    "**Answer:**  \n",
    "Reverses the array using **negative strides without copying**."
   ]
  },
  {
   "cell_type": "code",
   "execution_count": 89,
   "id": "7122dc71-14d3-453f-9c98-9ee2aa3762d3",
   "metadata": {},
   "outputs": [
    {
     "name": "stdout",
     "output_type": "stream",
     "text": [
      "[4 3 2 1 0]\n"
     ]
    }
   ],
   "source": [
    "a = np.arange(5)\n",
    "print(a[::-1])"
   ]
  },
  {
   "cell_type": "markdown",
   "id": "449e1d39-2673-4a67-a060-8c5ce69882d2",
   "metadata": {},
   "source": [
    "## 11. Boolean Indexing Shape Mismatch\n",
    "\n",
    "**Question:**  \n",
    "What happens if the boolean mask does not match the shape of the array?\n",
    "\n",
    "**Answer:**  \n",
    "Raises an `IndexError`."
   ]
  },
  {
   "cell_type": "code",
   "execution_count": 90,
   "id": "0ed2d31e-53b4-4e91-b171-a408e0939dad",
   "metadata": {},
   "outputs": [
    {
     "name": "stdout",
     "output_type": "stream",
     "text": [
      "boolean index did not match indexed array along axis 0; size of axis is 4 but size of corresponding boolean axis is 2\n"
     ]
    }
   ],
   "source": [
    "a = np.arange(4)\n",
    "mask = np.array([True, False])\n",
    "try:\n",
    "    print(a[mask])\n",
    "except Exception as e:\n",
    "    print(e)"
   ]
  },
  {
   "cell_type": "markdown",
   "id": "17a76727-3f32-4ef9-bdc1-1316b1df7a4f",
   "metadata": {},
   "source": [
    "##  12.NaN Comparisons\n",
    "\n",
    "**Question:**  \n",
    "Why does `np.nan == np.nan` return `False`?\n",
    "\n",
    "**Answer:**  \n",
    "By IEEE standard, `NaN` is not equal to itself."
   ]
  },
  {
   "cell_type": "code",
   "execution_count": 91,
   "id": "be632e18-6a27-4cf7-9515-3a7397e2ca9b",
   "metadata": {},
   "outputs": [
    {
     "name": "stdout",
     "output_type": "stream",
     "text": [
      "False\n",
      "True\n"
     ]
    }
   ],
   "source": [
    "import numpy as np\n",
    "\n",
    "print(np.nan == np.nan)\n",
    "print(np.isnan(np.nan))"
   ]
  },
  {
   "cell_type": "markdown",
   "id": "4772b99d-bddd-4342-b5e1-42e922103ae2",
   "metadata": {},
   "source": [
    "## 13. Memory Usage per Element\n",
    "\n",
    "**Question:**  \n",
    "How to check memory usage per element?\n",
    "\n",
    "**Answer:**  \n",
    "Using `.itemsize`.\n"
   ]
  },
  {
   "cell_type": "code",
   "execution_count": 93,
   "id": "2f500915-5386-4ba6-82bb-f4b710d2fe92",
   "metadata": {},
   "outputs": [
    {
     "name": "stdout",
     "output_type": "stream",
     "text": [
      "4 bytes per element\n"
     ]
    }
   ],
   "source": [
    "a = np.array([1, 2, 3], dtype=np.int32)\n",
    "print(a.itemsize, \"bytes per element\")"
   ]
  },
  {
   "cell_type": "markdown",
   "id": "1de18349-5583-4a1d-b13d-caa0becdbddc",
   "metadata": {},
   "source": [
    "## 14. Fancy Indexing vs Slicing\n",
    "\n",
    "**Question:**  \n",
    "Does fancy indexing return a view or copy?\n",
    "\n",
    "**Answer:**  \n",
    "Fancy indexing returns a **copy**, slicing returns a **view**."
   ]
  },
  {
   "cell_type": "code",
   "execution_count": 94,
   "id": "55bc0e64-4eac-48a0-98e5-9c60727d87b1",
   "metadata": {},
   "outputs": [
    {
     "name": "stdout",
     "output_type": "stream",
     "text": [
      "Original array (unchanged): [0 1 2 3 4]\n"
     ]
    }
   ],
   "source": [
    "a = np.arange(5)\n",
    "b = a[[0, 2, 4]]\n",
    "b[0] = 99\n",
    "print(\"Original array (unchanged):\", a)"
   ]
  },
  {
   "cell_type": "markdown",
   "id": "fd3ef356-fdb6-4452-90dc-5845153dccc3",
   "metadata": {},
   "source": [
    "## 15. Conditional Replacement\n",
    "\n",
    "**Question:**  \n",
    "How to replace all negative values with zero?\n",
    "\n",
    "**Answer:**  \n",
    "Using:\n",
    "```python\n",
    "arr[arr < 0] = 0\n",
    "```\n",
    "or:\n",
    "```python\n",
    "np.clip(arr, 0, None, out=arr)\n",
    "```\n"
   ]
  },
  {
   "cell_type": "code",
   "execution_count": 95,
   "id": "630c3313-919f-4620-9d90-e36b6a12c62f",
   "metadata": {},
   "outputs": [
    {
     "name": "stdout",
     "output_type": "stream",
     "text": [
      "[0 5 0 7]\n"
     ]
    }
   ],
   "source": [
    "a = np.array([-3, 5, -1, 7])\n",
    "a[a < 0] = 0\n",
    "print(a)"
   ]
  },
  {
   "cell_type": "markdown",
   "id": "54cc98b4-c6cb-4ded-9024-998838de427e",
   "metadata": {},
   "source": [
    "## 16. np.argmax with Axis\n",
    "\n",
    "**Question:**  \n",
    "How does `np.argmax` work with `axis`?\n",
    "\n",
    "**Answer:**  \n",
    "Returns indices of max values along the specified axis."
   ]
  },
  {
   "cell_type": "code",
   "execution_count": 97,
   "id": "3a71b0ea-e289-4258-a047-e8f0584d778a",
   "metadata": {},
   "outputs": [
    {
     "name": "stdout",
     "output_type": "stream",
     "text": [
      "[1 0 1]\n",
      "[1 2]\n"
     ]
    }
   ],
   "source": [
    "a = np.array([[1, 5, 2], [7, 3, 9]])\n",
    "print(np.argmax(a, axis=0))  # Max indices along each column\n",
    "print(np.argmax(a, axis=1))  # Max indices along each row"
   ]
  },
  {
   "cell_type": "markdown",
   "id": "dc5b42bf-0eff-47e9-8437-a5f1ad900e8a",
   "metadata": {},
   "source": [
    "## 17. Transpose and Memory\n",
    "\n",
    "**Question:**  \n",
    "Does `arr.T` create a copy?\n",
    "\n",
    "**Answer:**  \n",
    "No, it returns a **view** by modifying strides."
   ]
  },
  {
   "cell_type": "code",
   "execution_count": 98,
   "id": "34b28b2e-ce71-4666-8eb5-c240139f40cf",
   "metadata": {},
   "outputs": [
    {
     "name": "stdout",
     "output_type": "stream",
     "text": [
      "[[99  2]\n",
      " [ 3  4]]\n"
     ]
    }
   ],
   "source": [
    "a = np.array([[1, 2], [3, 4]])\n",
    "b = a.T\n",
    "b[0, 0] = 99\n",
    "print(a)"
   ]
  },
  {
   "cell_type": "markdown",
   "id": "75d1a9bc-5404-45b4-a999-941c4972f2db",
   "metadata": {},
   "source": [
    "## 18. Check if All Elements are Non-zero\n",
    "\n",
    "**Question:**  \n",
    "How to check if all elements in an array are non-zero?\n",
    "\n",
    "**Answer:**  \n",
    "Using `np.all(arr)`."
   ]
  },
  {
   "cell_type": "code",
   "execution_count": 99,
   "id": "081d5366-663d-4fc0-94c5-84c6fe645cbd",
   "metadata": {},
   "outputs": [
    {
     "name": "stdout",
     "output_type": "stream",
     "text": [
      "True\n",
      "False\n"
     ]
    }
   ],
   "source": [
    "a = np.array([1, 2, 3])\n",
    "print(np.all(a))\n",
    "\n",
    "b = np.array([1, 0, 3])\n",
    "print(np.all(b))"
   ]
  },
  {
   "cell_type": "markdown",
   "id": "c6eaa2eb-0f9d-4c64-8a9b-37a21dedaf63",
   "metadata": {},
   "source": [
    "## 19. astype Copies\n",
    "\n",
    "**Question:**  \n",
    "Does `astype` create a copy?\n",
    "\n",
    "**Answer:**  \n",
    "Yes, it **always creates a copy** even if dtype is the same."
   ]
  },
  {
   "cell_type": "code",
   "execution_count": 100,
   "id": "79c5dd4d-0a01-480e-a3ca-7dde38235435",
   "metadata": {},
   "outputs": [
    {
     "name": "stdout",
     "output_type": "stream",
     "text": [
      "False\n"
     ]
    }
   ],
   "source": [
    "a = np.array([1, 2, 3])\n",
    "b = a.astype(np.int32)\n",
    "print(a is b)"
   ]
  },
  {
   "cell_type": "markdown",
   "id": "ff563f2c-338a-4fa9-9b6e-904efe581834",
   "metadata": {},
   "source": [
    "## 20. Using np.where for Conditional Replacement\n",
    "\n",
    "**Question:**  \n",
    "How to use `np.where` for conditional replacement?\n",
    "\n",
    "**Answer:**  \n",
    "`np.where(condition, x, y)` returns `x` where condition is `True`, else `y`."
   ]
  },
  {
   "cell_type": "code",
   "execution_count": 101,
   "id": "c523ed21-70f2-438d-8899-079b6d22f21e",
   "metadata": {},
   "outputs": [
    {
     "name": "stdout",
     "output_type": "stream",
     "text": [
      "[0 2 0 4]\n"
     ]
    }
   ],
   "source": [
    "a = np.array([-1, 2, -3, 4])\n",
    "b = np.where(a < 0, 0, a)\n",
    "print(b)"
   ]
  }
 ],
 "metadata": {
  "kernelspec": {
   "display_name": "Python 3 (ipykernel)",
   "language": "python",
   "name": "python3"
  },
  "language_info": {
   "codemirror_mode": {
    "name": "ipython",
    "version": 3
   },
   "file_extension": ".py",
   "mimetype": "text/x-python",
   "name": "python",
   "nbconvert_exporter": "python",
   "pygments_lexer": "ipython3",
   "version": "3.13.5"
  }
 },
 "nbformat": 4,
 "nbformat_minor": 5
}
