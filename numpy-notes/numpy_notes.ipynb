{
 "cells": [
  {
   "cell_type": "markdown",
   "id": "031807a1-85c0-47e6-b1d3-f70c203d13f5",
   "metadata": {},
   "source": [
    "# NumPy - Numerical Python\n",
    "\n",
    "- **Foundational package for numerical computing in Python**  \n",
    "- It is widely used because of its following capabilities:\n",
    "\n",
    "  - `ndarray` is an **efficient multidimensional array** for storing and manipulating numerical data.\n",
    "  - Enables **faster mathematical operations** on entire arrays without writing explicit loops.\n",
    "  - Supports **linear algebra, random number generation, and Fourier transform capabilities**.\n",
    "  - Provides a **C API** for connecting NumPy with libraries written in C, C++, or FORTRAN.\n"
   ]
  },
  {
   "cell_type": "markdown",
   "id": "dfa9f4fe-a5b9-49f4-9d15-98fcb311b32a",
   "metadata": {},
   "source": [
    "## Why NumPy is Efficient for Large Array Data\n",
    "\n",
    "- **NumPy is majorly used for its efficient handling of large amounts of array data.**\n",
    "- It provides this efficiency because:\n",
    "  - NumPy stores data internally in **contiguous memory blocks**, unlike other Python data structures.\n",
    "  - The **NumPy library is written in C**, allowing it to use memory directly without type checks or other overhead.\n",
    "  - Its operations perform **complex computations on entire arrays without the need for Python `for` loops.**\n",
    "  - It **uses less memory** compared to other Python sequences.\n",
    "    \n",
    "Example on **how NumPy performs these optimizations will be demonstrated with a small example** in the next section.\n"
   ]
  },
  {
   "cell_type": "code",
   "execution_count": 147,
   "id": "010ecf40-290d-48ee-b412-26e725434b9d",
   "metadata": {},
   "outputs": [
    {
     "name": "stdout",
     "output_type": "stream",
     "text": [
      "Time take to multiply entire array with 2: \n",
      "CPU times: user 36.5 ms, sys: 1.74 ms, total: 38.2 ms\n",
      "Wall time: 37.2 ms\n",
      "Time take to multiply entire list with 2: \n",
      "CPU times: user 584 ms, sys: 195 ms, total: 780 ms\n",
      "Wall time: 793 ms\n"
     ]
    }
   ],
   "source": [
    "import numpy as np\n",
    "\n",
    "my_arr = np.arange(1000000)\n",
    "my_list = list(range(1000000))\n",
    "\n",
    "print(\"Time take to multiply entire array with 2: \")\n",
    "%time for _ in range(10): my_arr2 = my_arr * 2\n",
    "\n",
    "print(\"Time take to multiply entire list with 2: \")\n",
    "%time for _ in range(10): my_list2 = [x * 2 for x in my_list]"
   ]
  },
  {
   "cell_type": "markdown",
   "id": "8b643caf-e8e4-4ab2-870c-6a6796d94491",
   "metadata": {},
   "source": [
    "## The NumPy `ndarray`: A Multidimensional Array Object\n",
    "\n",
    "One of the **key features of NumPy** is its **N-dimensional array object (`ndarray`)**, which is a **fast and flexible container for large datasets in Python**.\n",
    "\n",
    "- An `ndarray` is a **generic multidimensional container for homogeneous data**:\n",
    "  - All elements in the array must be of the **same data type**.\n",
    "  \n",
    "- **Every array has:**\n",
    "  - **`shape`**: A tuple indicating the **size of each dimension** of the array.\n",
    "  - **`dtype`**: An object describing the **data type of the array**.\n"
   ]
  },
  {
   "cell_type": "code",
   "execution_count": 148,
   "id": "2460b859-f256-4962-bf0d-7e130dc6bec8",
   "metadata": {},
   "outputs": [
    {
     "name": "stdout",
     "output_type": "stream",
     "text": [
      "[[ 0.41614759  1.04464707  0.91801743]\n",
      " [-0.64024061  0.13203198 -0.02440347]]\n",
      "Shape: (2, 3)\n",
      "Datatype: float64\n"
     ]
    },
    {
     "data": {
      "text/plain": [
       "(None,)"
      ]
     },
     "execution_count": 148,
     "metadata": {},
     "output_type": "execute_result"
    }
   ],
   "source": [
    "#Simple demonstration of numpy\n",
    "\n",
    "import numpy as np\n",
    "\n",
    "data = np.random.randn(2,3) #This will create a random array of dimension 2*3\n",
    "print(data)\n",
    "\n",
    "#Print the shape\n",
    "print(f\"Shape: {data.shape}\")\n",
    "\n",
    "#Print the datatype\n",
    "print(f\"Datatype: {data.dtype}\"),"
   ]
  },
  {
   "cell_type": "markdown",
   "id": "c0925770-6a13-4303-9b84-adfba9663acd",
   "metadata": {},
   "source": [
    "## Creating `ndarray`s\n",
    "\n",
    "There are many ways to create `ndarray`s in NumPy:\n",
    "\n",
    "1. **Using the `array` function**  \n",
    "   - Pass a **list or any sequence-like object** (including another array) to generate a new `ndarray`.\n",
    "   - **Note:** Nested sequences (like a list of equal-length lists) will be converted into a **multidimensional array**.\n",
    "\n",
    "2. **Arrays of zeros and ones**  \n",
    "   - Use `np.zeros(shape)` to create an array filled with **zeros**.\n",
    "   - Use `np.ones(shape)` to create an array filled with **ones**.\n",
    "\n",
    "3. **Creating an empty array**  \n",
    "   - Use `np.empty(shape)` to create an array that **may contain zeros or garbage values**, depending on the state of the memory.\n",
    "\n",
    "4. **Using `arange`**  \n",
    "   - `np.arange` is an **array-valued version of the built-in Python `range` function**.\n",
    "\n",
    "**Note:**  \n",
    "The **number of dimensions** of an array can be found using the **`ndim` attribute**.\n"
   ]
  },
  {
   "cell_type": "code",
   "execution_count": 149,
   "id": "85669697-e362-436f-af29-eb782e00972d",
   "metadata": {},
   "outputs": [
    {
     "name": "stdout",
     "output_type": "stream",
     "text": [
      "Array 1: [1 2 3 4 5]\n",
      "Multidimensional array: [[3 4 5]\n",
      " [2 3 4]]\n",
      "Number of dimensions: 2\n",
      "Array 2: [[0. 0. 0.]\n",
      " [0. 0. 0.]]\n",
      "Array 2: [[1. 1. 1.]\n",
      " [1. 1. 1.]]\n",
      "Array 3: [[1. 1. 1.]\n",
      " [1. 1. 1.]]\n",
      "Array 4: [ 0  1  2  3  4  5  6  7  8  9 10 11 12 13 14]\n"
     ]
    }
   ],
   "source": [
    "#Method 1\n",
    "list_data = [1,2,3,4,5]\n",
    "arr1 = np.array(list_data)\n",
    "print(f\"Array 1: {arr1}\")\n",
    "\n",
    "#Multidimensional array\n",
    "multidim_arr = np.array([[3,4,5],[2,3,4]])\n",
    "print(f\"Multidimensional array: {multidim_arr}\")\n",
    "print(f\"Number of dimensions: {multidim_arr.ndim}\")\n",
    "\n",
    "#Method 2\n",
    "arr2 = np.zeros((2,3))    #Here remember we have to pass tuple of dimension\n",
    "print(f\"Array 2: {arr2}\")\n",
    "arr2 = np.ones((2,3))\n",
    "print(f\"Array 2: {arr2}\")\n",
    "\n",
    "#Method 3\n",
    "arr3 = np.empty((2,3))\n",
    "print(f\"Array 3: {arr3}\")\n",
    "\n",
    "#Method 4\n",
    "arr4 = np.arange(15)\n",
    "print(f\"Array 4: {arr4}\")"
   ]
  },
  {
   "cell_type": "markdown",
   "id": "10b8653a-f72d-46a1-add1-0bd6e2752c87",
   "metadata": {},
   "source": [
    "## Array Creation Functions in NumPy\n",
    "\n",
    "| **Name**        | **Syntax**                                | **Description**                                                                                                                                 |\n",
    "|-----------------|-------------------------------------------|-------------------------------------------------------------------------------------------------------------------------------------------------|\n",
    "| `array`         | `np.array(data, dtype=None)`             | Converts input data (list, tuple, array, or other sequence) to an `ndarray` by inferring or explicitly specifying `dtype`; copies data by default. |\n",
    "| `asarray`       | `np.asarray(data, dtype=None)`           | Converts input to `ndarray`, **does not copy** if the input is already an `ndarray`.                                                            |\n",
    "| `arange`        | `np.arange(start, stop, step)`           | Like the built-in `range` but returns an `ndarray` instead of a list.                                                                          |\n",
    "| `ones`, `ones_like` | `np.ones(shape, dtype=None)`, `np.ones_like(a)` | Produces an array of all 1s with the given shape and dtype; `ones_like` creates a ones array of the **same shape and dtype as another array**.  |\n",
    "| `zeros`, `zeros_like` | `np.zeros(shape, dtype=None)`, `np.zeros_like(a)` | Like `ones` and `ones_like` but producing arrays of 0s instead.                                                                                |\n",
    "| `empty`, `empty_like` | `np.empty(shape, dtype=None)`, `np.empty_like(a)` | Creates new arrays by allocating memory without populating values (may contain garbage values).                                                |\n",
    "| `full`, `full_like`   | `np.full(shape, fill_value, dtype=None)`, `np.full_like(a, fill_value)` | Produces an array of the given shape and dtype with all values set to the indicated “fill value”; `full_like` uses another array’s shape and dtype. |\n",
    "| `eye`, `identity`     | `np.eye(N)`, `np.identity(N)`       | Creates a square N × N **identity matrix** (1s on the diagonal, 0s elsewhere).                                                                 |\n"
   ]
  },
  {
   "cell_type": "markdown",
   "id": "e8f261ff-07fa-42c7-b0b5-d8ded17d4a1b",
   "metadata": {},
   "source": [
    "## Data Types of NumPy `ndarray`s\n",
    "\n",
    "NumPy provides a **rich set of data types (`dtype`)** for efficient and precise storage of numerical and other data within `ndarray`s. Choosing the right `dtype` helps in:\n",
    "\n",
    "- **Memory optimization** when working with large datasets  \n",
    "- **Ensuring compatibility** with C and FORTRAN libraries  \n",
    "- **Precision control** in numerical computations\n",
    "\n",
    "---\n",
    "\n",
    "### Table: Common NumPy Data Types\n",
    "\n",
    "| **Type** | **Type Code** | **Description** |\n",
    "|----------|---------------|-----------------|\n",
    "| `int8`, `uint8` | `i1`, `u1` | Signed and unsigned 8-bit (1 byte) integer types |\n",
    "| `int16`, `uint16` | `i2`, `u2` | Signed and unsigned 16-bit integer types |\n",
    "| `int32`, `uint32` | `i4`, `u4` | Signed and unsigned 32-bit integer types |\n",
    "| `int64`, `uint64` | `i8`, `u8` | Signed and unsigned 64-bit integer types |\n",
    "| `float16` | `f2` | Half-precision floating point |\n",
    "| `float32` | `f4` or `f` | Standard single-precision floating point (compatible with C `float`) |\n",
    "| `float64` | `f8` or `d` | Standard double-precision floating point (compatible with C `double` and Python `float`) |\n",
    "| `float128` | `f16` or `g` | Extended-precision floating point |\n",
    "| `complex64`, `complex128`, `complex256` | `c8`, `c16`, `c32` | Complex numbers represented by two 32, 64, or 128-bit floats respectively |\n",
    "| `bool` | `?` | Boolean type storing `True` and `False` values |\n",
    "| `object` | `O` | Python object type; elements can be any Python object |\n",
    "| `string_` | `S` | Fixed-length ASCII string type (1 byte per character); e.g., `'S10'` for 10-character strings |\n",
    "| `unicode_` | `U` | Fixed-length Unicode string type; platform-dependent byte size; e.g., `'U10'` for 10-character Unicode strings |\n",
    "\n",
    "---\n",
    "\n",
    "### Additional Notes\n",
    "\n",
    "✅ The **`dtype` attribute** of an `ndarray` shows the data type of its elements:\n",
    "```python\n",
    "import numpy as np\n",
    "arr = np.array([1, 2, 3], dtype=np.int32)\n",
    "print(arr.dtype)  # Output: int32\n"
   ]
  },
  {
   "cell_type": "code",
   "execution_count": 150,
   "id": "d32e7898-49d6-4fb9-a99f-9b6fe34c1fe2",
   "metadata": {},
   "outputs": [
    {
     "name": "stdout",
     "output_type": "stream",
     "text": [
      "float64\n",
      "int32\n"
     ]
    }
   ],
   "source": [
    "arr1 = np.array([1,2,3,4], dtype= np.float64)\n",
    "print(arr1.dtype)\n",
    "arr2 = np.array([1,2,3,4], dtype= np.int32)\n",
    "print(arr2.dtype)"
   ]
  },
  {
   "cell_type": "markdown",
   "id": "20e8848b-f190-4163-99d7-0218d3c31341",
   "metadata": {},
   "source": [
    "## Type Casting with `astype` in NumPy\n",
    "\n",
    "You can **explicitly convert (cast) an array from one `dtype` to another** using the **`astype` method** of `ndarray`.\n",
    "\n",
    "### Key Points:\n",
    "\n",
    "- If you **cast floating-point numbers to an integer `dtype`**, the **decimal part will be truncated** (not rounded).  \n",
    "- If you have an **array of strings representing numbers**, you can use `astype` to convert them to **numeric form** for computations.\n",
    "\n",
    "### Note:\n",
    "- Caution on numpy.string_ Type\n",
    "- The numpy.string_ type has a fixed size and may truncate input strings without warning.\n",
    "- For handling non-numeric or text data, it is often better to use pandas, which provides more intuitive behavior for variable-length string data.\n",
    "\n",
    "**Calling astype always creates a new array (a copy of the data), even if the new dtype is the same as the old dtype.**"
   ]
  },
  {
   "cell_type": "code",
   "execution_count": 151,
   "id": "13172331-fb31-4cfd-aa8a-848ce4bee518",
   "metadata": {},
   "outputs": [
    {
     "name": "stdout",
     "output_type": "stream",
     "text": [
      "[ 3  1 -2]\n",
      "[1.5 2.3 3.7]\n"
     ]
    }
   ],
   "source": [
    "import numpy as np\n",
    "\n",
    "# Floating-point to integer (decimal part truncated)\n",
    "arr_float = np.array([3.7, 1.2, -2.8])\n",
    "arr_int = arr_float.astype(np.int32)\n",
    "print(arr_int)\n",
    "\n",
    "# Strings representing numbers to numeric\n",
    "arr_str = np.array(['1.5', '2.3', '3.7'])\n",
    "arr_float_from_str = arr_str.astype(np.float64)\n",
    "print(arr_float_from_str)"
   ]
  },
  {
   "cell_type": "markdown",
   "id": "b8185bb7-4d5d-4781-91a2-697460182456",
   "metadata": {},
   "source": [
    "## Vectorization and Broadcasting in NumPy\n",
    "\n",
    "Arrays are important in NumPy because they **enable you to express batch operations on data without writing explicit `for` loops.** This makes your code:\n",
    "\n",
    "- Faster  \n",
    "- Cleaner  \n",
    "- Closer to mathematical notation\n",
    "\n",
    "---\n",
    "\n",
    "### Vectorization\n",
    "\n",
    "**Vectorization** refers to **performing operations on entire arrays without explicit loops**.\n",
    "\n",
    "Any **arithmetic operations between equal-size arrays apply the operation element-wise.**\n",
    "\n",
    "### Broadcasting\n",
    "\n",
    "**Broadcasting** refers to **performing operations on arrays of different shapes and sizes by stretching the smaller array across the larger one automatically to perform element-wise operations**.\n",
    "\n",
    "This allows:\n",
    "\n",
    "- Operations between differently shaped arrays without making unnecessary copies.\n",
    "\n",
    "- Efficient memory and computation for operations like adding a scalar or row/column to an entire matrix.\n"
   ]
  },
  {
   "cell_type": "code",
   "execution_count": 152,
   "id": "d8301fbf-392c-4cf3-ad59-5c5a7a458796",
   "metadata": {},
   "outputs": [
    {
     "data": {
      "text/plain": [
       "array([[1, 2, 3],\n",
       "       [4, 5, 6]])"
      ]
     },
     "execution_count": 152,
     "metadata": {},
     "output_type": "execute_result"
    }
   ],
   "source": [
    "arr = np.array([[1,2,3], [4,5,6]])\n",
    "arr"
   ]
  },
  {
   "cell_type": "code",
   "execution_count": 153,
   "id": "ce572a4c-2afe-4903-8401-15f06001826c",
   "metadata": {},
   "outputs": [
    {
     "data": {
      "text/plain": [
       "array([[ 1,  4,  9],\n",
       "       [16, 25, 36]])"
      ]
     },
     "execution_count": 153,
     "metadata": {},
     "output_type": "execute_result"
    }
   ],
   "source": [
    "arr * arr"
   ]
  },
  {
   "cell_type": "code",
   "execution_count": 154,
   "id": "fd7aec70-368f-47de-bd76-7561368997d6",
   "metadata": {},
   "outputs": [
    {
     "data": {
      "text/plain": [
       "array([[ 2,  4,  6],\n",
       "       [ 8, 10, 12]])"
      ]
     },
     "execution_count": 154,
     "metadata": {},
     "output_type": "execute_result"
    }
   ],
   "source": [
    "arr + arr"
   ]
  },
  {
   "cell_type": "code",
   "execution_count": 155,
   "id": "6e2a3cd5-a52d-4f26-860d-ddef5b39e9ae",
   "metadata": {},
   "outputs": [
    {
     "data": {
      "text/plain": [
       "array([[0, 0, 0],\n",
       "       [0, 0, 0]])"
      ]
     },
     "execution_count": 155,
     "metadata": {},
     "output_type": "execute_result"
    }
   ],
   "source": [
    "arr - arr"
   ]
  },
  {
   "cell_type": "code",
   "execution_count": 156,
   "id": "dcda008f-3e6b-43ff-80d6-8a5504df6b81",
   "metadata": {},
   "outputs": [
    {
     "data": {
      "text/plain": [
       "array([[1.        , 0.5       , 0.33333333],\n",
       "       [0.25      , 0.2       , 0.16666667]])"
      ]
     },
     "execution_count": 156,
     "metadata": {},
     "output_type": "execute_result"
    }
   ],
   "source": [
    "1/ arr"
   ]
  },
  {
   "cell_type": "code",
   "execution_count": 157,
   "id": "ca3a4941-48af-4aa9-bfc7-09100dcefcd5",
   "metadata": {},
   "outputs": [
    {
     "data": {
      "text/plain": [
       "array([[1.        , 1.41421356, 1.73205081],\n",
       "       [2.        , 2.23606798, 2.44948974]])"
      ]
     },
     "execution_count": 157,
     "metadata": {},
     "output_type": "execute_result"
    }
   ],
   "source": [
    "arr ** 0.5"
   ]
  },
  {
   "cell_type": "code",
   "execution_count": 158,
   "id": "ffc542b4-a8be-4d91-93ee-e634e8a5a2e0",
   "metadata": {},
   "outputs": [
    {
     "data": {
      "text/plain": [
       "array([[False, False, False],\n",
       "       [ True,  True,  True]])"
      ]
     },
     "execution_count": 158,
     "metadata": {},
     "output_type": "execute_result"
    }
   ],
   "source": [
    "arr > 3"
   ]
  },
  {
   "cell_type": "markdown",
   "id": "844327c5-a623-459f-8305-fdd2d92e00db",
   "metadata": {},
   "source": [
    "## Basic Indexing and Slicing in NumPy\n",
    "\n",
    "NumPy provides **powerful and intuitive indexing and slicing capabilities** for working with arrays efficiently.\n",
    "\n",
    "---\n",
    "\n",
    "### Assigning Values to Slices\n",
    "\n",
    "- If you assign a **scalar value to a slice**, the value is **propagated (broadcasted) to the entire selection**.\n",
    "\n",
    "**Example:**\n",
    "```python\n",
    "arr[5:8] = 12\n"
   ]
  },
  {
   "cell_type": "code",
   "execution_count": 159,
   "id": "4179708b-4cb7-4448-9842-ea7638b23a42",
   "metadata": {},
   "outputs": [
    {
     "data": {
      "text/plain": [
       "array([0, 1, 2, 3, 4, 5, 6, 7, 8, 9])"
      ]
     },
     "execution_count": 159,
     "metadata": {},
     "output_type": "execute_result"
    }
   ],
   "source": [
    "arr = np.arange(10)\n",
    "arr"
   ]
  },
  {
   "cell_type": "code",
   "execution_count": 160,
   "id": "db7af2eb-6ff7-471f-a1b9-f348353b4366",
   "metadata": {},
   "outputs": [
    {
     "name": "stdout",
     "output_type": "stream",
     "text": [
      "5\n"
     ]
    }
   ],
   "source": [
    "print(arr[5])"
   ]
  },
  {
   "cell_type": "code",
   "execution_count": 161,
   "id": "218a3912-2cda-4885-bd19-ef505c5348ab",
   "metadata": {},
   "outputs": [
    {
     "name": "stdout",
     "output_type": "stream",
     "text": [
      "[4 5 6]\n"
     ]
    }
   ],
   "source": [
    "#slice indexing\n",
    "print(arr[4:7])"
   ]
  },
  {
   "cell_type": "code",
   "execution_count": 162,
   "id": "0e1ac874-b3a5-4384-9618-405951bfa892",
   "metadata": {},
   "outputs": [
    {
     "name": "stdout",
     "output_type": "stream",
     "text": [
      "[ 0  1  2 12 12 12  6  7  8  9]\n"
     ]
    }
   ],
   "source": [
    "#assining value to slice\n",
    "arr[3:6] = 12\n",
    "print(arr)"
   ]
  },
  {
   "cell_type": "markdown",
   "id": "fcdcbac7-caf1-45ea-a5be-c906b3208cd5",
   "metadata": {},
   "source": [
    "## Difference Between NumPy Views and Python List Copies\n",
    "\n",
    "Understanding how **slicing behaves in NumPy arrays vs. Python lists** is essential for efficient data manipulation.\n",
    "\n",
    "---\n",
    "\n",
    "### Python Lists: Slicing Creates Copies\n",
    "\n",
    "- When you slice a Python list, it **creates a new independent copy** of the data.\n",
    "\n",
    "- Modifying the slice **does *not* affect the original list.**\n",
    "\n"
   ]
  },
  {
   "cell_type": "code",
   "execution_count": 163,
   "id": "9d69bd53-8297-45f3-986a-ee05075e6757",
   "metadata": {},
   "outputs": [
    {
     "name": "stdout",
     "output_type": "stream",
     "text": [
      "[1, 2, 3, 4, 5]\n",
      "[99, 3, 4]\n"
     ]
    }
   ],
   "source": [
    "lst = [1, 2, 3, 4, 5]\n",
    "sub_lst = lst[1:4]\n",
    "sub_lst[0] = 99\n",
    "\n",
    "print(lst)       # [1, 2, 3, 4, 5]\n",
    "print(sub_lst)   # [99, 3, 4]"
   ]
  },
  {
   "cell_type": "markdown",
   "id": "be395092-a273-4c7f-b6f4-7eb32d57c623",
   "metadata": {},
   "source": [
    "### NumPy Arrays: Slicing Creates Views\n",
    "\n",
    "- When you slice a NumPy array, it **creates a view on the same data**, not a copy.\n",
    "\n",
    "- Modifying the *slice also modifies* the original array.\n",
    "\n",
    "- NumPy’s behavior is more memory-efficient when working with large datasets, allowing you to modify subarrays without duplicating data.\n",
    "\n",
    "!! Be cautious: Changes to a slice in NumPy will affect the original array unless you explicitly create a copy using arr.copy()."
   ]
  },
  {
   "cell_type": "code",
   "execution_count": 164,
   "id": "0a296c43-d7e7-47b7-858f-91ecaf82fe18",
   "metadata": {},
   "outputs": [
    {
     "name": "stdout",
     "output_type": "stream",
     "text": [
      "[ 1 99  3  4  5]\n",
      "[99  3  4]\n"
     ]
    }
   ],
   "source": [
    "arr = np.array([1, 2, 3, 4, 5])\n",
    "sub_arr = arr[1:4]\n",
    "sub_arr[0] = 99\n",
    "\n",
    "print(arr)       \n",
    "print(sub_arr) "
   ]
  },
  {
   "cell_type": "code",
   "execution_count": 165,
   "id": "07731e6c-b7dc-4696-9eb3-5edd7cf6e13d",
   "metadata": {},
   "outputs": [
    {
     "name": "stdout",
     "output_type": "stream",
     "text": [
      "[1 2 3 4 5]\n",
      "[99  3  4]\n"
     ]
    }
   ],
   "source": [
    "#Creating copy in numpy\n",
    "arr = np.array([1,2,3,4,5])\n",
    "sub_arr = arr[1:4].copy()\n",
    "sub_arr[0] = 99\n",
    "\n",
    "print(arr)       \n",
    "print(sub_arr)   # [99, 3, 4"
   ]
  },
  {
   "cell_type": "markdown",
   "id": "99788771-cc00-4bbd-8fb6-3bdbc047f1f3",
   "metadata": {},
   "source": [
    "### Indexing in higher dimensions\n",
    "\n",
    "- With higher dimensional arrays, you have many more options. In a two-dimensional array, the elements at each index are no longer scalars but rather one-dimensional arrays.\n",
    "- Thus, individual elements can be accessed recursively. But that is a bit too much\n",
    "work, so you can pass a comma-separated list of indices to select individual elements."
   ]
  },
  {
   "cell_type": "code",
   "execution_count": 166,
   "id": "1fbe147f-286b-4d03-bb47-c69bb917bbff",
   "metadata": {},
   "outputs": [
    {
     "data": {
      "text/plain": [
       "array([[1, 2, 3, 4],\n",
       "       [2, 3, 4, 5],\n",
       "       [2, 3, 4, 5]])"
      ]
     },
     "execution_count": 166,
     "metadata": {},
     "output_type": "execute_result"
    }
   ],
   "source": [
    "arr = np.array([[1,2,3,4],[2,3,4,5],[2,3,4,5]])\n",
    "arr"
   ]
  },
  {
   "cell_type": "code",
   "execution_count": 167,
   "id": "b080396b-799b-4498-924e-9313da208775",
   "metadata": {},
   "outputs": [
    {
     "data": {
      "text/plain": [
       "array([2, 3, 4, 5])"
      ]
     },
     "execution_count": 167,
     "metadata": {},
     "output_type": "execute_result"
    }
   ],
   "source": [
    "arr[2]"
   ]
  },
  {
   "cell_type": "code",
   "execution_count": 168,
   "id": "ec4b0ee8-c3c9-4ca8-a834-ad9b3a498023",
   "metadata": {},
   "outputs": [
    {
     "data": {
      "text/plain": [
       "np.int64(5)"
      ]
     },
     "execution_count": 168,
     "metadata": {},
     "output_type": "execute_result"
    }
   ],
   "source": [
    "arr[2][3]"
   ]
  },
  {
   "cell_type": "code",
   "execution_count": 169,
   "id": "93dcb8cc-449b-420a-940c-8c148351245e",
   "metadata": {},
   "outputs": [
    {
     "data": {
      "text/plain": [
       "array([[[ 1,  2,  3],\n",
       "        [ 4,  5,  6]],\n",
       "\n",
       "       [[ 7,  8,  9],\n",
       "        [10, 11, 12]]])"
      ]
     },
     "execution_count": 169,
     "metadata": {},
     "output_type": "execute_result"
    }
   ],
   "source": [
    "arr3d = np.array([[[1, 2, 3], [4, 5, 6]], [[7, 8, 9], [10, 11, 12]]])\n",
    "arr3d"
   ]
  },
  {
   "cell_type": "code",
   "execution_count": 170,
   "id": "cdd2250e-7540-415a-993f-6bddc08008d1",
   "metadata": {},
   "outputs": [
    {
     "data": {
      "text/plain": [
       "array([4, 5, 6])"
      ]
     },
     "execution_count": 170,
     "metadata": {},
     "output_type": "execute_result"
    }
   ],
   "source": [
    "# Although arr3d[0][1] produces same result, it is efficient as it not invloves creating intermidiate array\n",
    "arr3d[0,1] "
   ]
  },
  {
   "cell_type": "code",
   "execution_count": 171,
   "id": "77d3467f-69a0-4914-b158-e2e472168a02",
   "metadata": {},
   "outputs": [
    {
     "name": "stdout",
     "output_type": "stream",
     "text": [
      "[[1 2 3]\n",
      " [2 3 4]]\n",
      "[[ 7  8  9]\n",
      " [10 22 12]]\n"
     ]
    }
   ],
   "source": [
    "# Slicing to next level\n",
    "arr = np.array([[1,2,3],[2,3,4],[7,8,9],[10,22,12]])\n",
    "#This is same like select first two rows\n",
    "print(arr[:2])\n",
    "#This is same like select last two rows\n",
    "print(arr[2:])"
   ]
  },
  {
   "cell_type": "code",
   "execution_count": 172,
   "id": "f5f6b210-1e02-46de-9248-00cb29102296",
   "metadata": {},
   "outputs": [
    {
     "name": "stdout",
     "output_type": "stream",
     "text": [
      "[[2 3]\n",
      " [3 4]]\n"
     ]
    }
   ],
   "source": [
    "#By mixing integer indexes and slices, you get lower dimensional slices.\n",
    "print(arr[:2, 1:])"
   ]
  },
  {
   "cell_type": "code",
   "execution_count": 173,
   "id": "296154a8-661d-4c5d-b434-d49539f9cc93",
   "metadata": {},
   "outputs": [
    {
     "name": "stdout",
     "output_type": "stream",
     "text": [
      "[3 4]\n"
     ]
    }
   ],
   "source": [
    "print(arr[:2, 2])"
   ]
  },
  {
   "cell_type": "markdown",
   "id": "795c3f93-484d-48c9-a5c6-f30c3ffbca89",
   "metadata": {},
   "source": [
    "## Boolean Indexing"
   ]
  },
  {
   "cell_type": "code",
   "execution_count": 174,
   "id": "0bc9c254-f444-4bf7-abc2-717464d43fa0",
   "metadata": {},
   "outputs": [
    {
     "data": {
      "text/plain": [
       "array(['Bob', 'Joe', 'Will', 'Bob', 'Will', 'Joe', 'Joe'], dtype='<U4')"
      ]
     },
     "execution_count": 174,
     "metadata": {},
     "output_type": "execute_result"
    }
   ],
   "source": [
    "names = np.array(['Bob', 'Joe', 'Will', 'Bob', 'Will', 'Joe', 'Joe'])\n",
    "names"
   ]
  },
  {
   "cell_type": "code",
   "execution_count": 175,
   "id": "776b49c5-f654-4949-866f-964577c43734",
   "metadata": {},
   "outputs": [
    {
     "data": {
      "text/plain": [
       "array([[-0.54844146,  0.43761871, -1.39334733, -0.46107168],\n",
       "       [-0.8498428 ,  0.59494876,  0.20095365, -1.39487768],\n",
       "       [ 0.13052791, -1.14942274,  0.0722437 ,  0.26903894],\n",
       "       [ 0.57163389, -0.67413549,  0.31526407,  0.09251931],\n",
       "       [ 0.43821504, -1.53276221, -0.29043153,  1.46371155],\n",
       "       [-0.05983495, -0.2596732 , -0.69907021, -1.21143647],\n",
       "       [ 0.20186408, -0.96529642,  0.05285871,  0.86097947]])"
      ]
     },
     "execution_count": 175,
     "metadata": {},
     "output_type": "execute_result"
    }
   ],
   "source": [
    "data = np.random.randn(7, 4)\n",
    "data"
   ]
  },
  {
   "cell_type": "code",
   "execution_count": 176,
   "id": "1db8d23c-95fb-4f60-8901-5b1d4e81f4c1",
   "metadata": {},
   "outputs": [
    {
     "data": {
      "text/plain": [
       "array([ True, False, False,  True, False, False, False])"
      ]
     },
     "execution_count": 176,
     "metadata": {},
     "output_type": "execute_result"
    }
   ],
   "source": [
    "names == 'Bob'"
   ]
  },
  {
   "cell_type": "code",
   "execution_count": 177,
   "id": "e485b85b-a2e5-4266-937e-9778d2aa5da6",
   "metadata": {},
   "outputs": [
    {
     "data": {
      "text/plain": [
       "array([[-0.54844146,  0.43761871, -1.39334733, -0.46107168],\n",
       "       [ 0.57163389, -0.67413549,  0.31526407,  0.09251931]])"
      ]
     },
     "execution_count": 177,
     "metadata": {},
     "output_type": "execute_result"
    }
   ],
   "source": [
    "data[names=='Bob']"
   ]
  },
  {
   "cell_type": "code",
   "execution_count": 178,
   "id": "432799c1-07a5-463e-8a1c-1a47aa843312",
   "metadata": {},
   "outputs": [
    {
     "data": {
      "text/plain": [
       "array([[-0.8498428 ,  0.59494876,  0.20095365, -1.39487768],\n",
       "       [ 0.13052791, -1.14942274,  0.0722437 ,  0.26903894],\n",
       "       [ 0.43821504, -1.53276221, -0.29043153,  1.46371155],\n",
       "       [-0.05983495, -0.2596732 , -0.69907021, -1.21143647],\n",
       "       [ 0.20186408, -0.96529642,  0.05285871,  0.86097947]])"
      ]
     },
     "execution_count": 178,
     "metadata": {},
     "output_type": "execute_result"
    }
   ],
   "source": [
    "data[~(names=='Bob')]"
   ]
  },
  {
   "cell_type": "code",
   "execution_count": 179,
   "id": "d1ba6bae-4682-454a-8aaa-0422596436b4",
   "metadata": {},
   "outputs": [
    {
     "data": {
      "text/plain": [
       "array([[-0.54844146,  0.43761871, -1.39334733, -0.46107168],\n",
       "       [ 0.13052791, -1.14942274,  0.0722437 ,  0.26903894],\n",
       "       [ 0.57163389, -0.67413549,  0.31526407,  0.09251931],\n",
       "       [ 0.43821504, -1.53276221, -0.29043153,  1.46371155]])"
      ]
     },
     "execution_count": 179,
     "metadata": {},
     "output_type": "execute_result"
    }
   ],
   "source": [
    "#In numpy we use | and &, not normal and, or\n",
    "mask = (names == 'Bob') | (names == 'Will')\n",
    "data[mask]"
   ]
  },
  {
   "cell_type": "code",
   "execution_count": 180,
   "id": "858a6b50-1476-49d8-85f5-74b236944de5",
   "metadata": {},
   "outputs": [
    {
     "data": {
      "text/plain": [
       "array([[0.        , 0.43761871, 0.        , 0.        ],\n",
       "       [0.        , 0.59494876, 0.20095365, 0.        ],\n",
       "       [0.13052791, 0.        , 0.0722437 , 0.26903894],\n",
       "       [0.57163389, 0.        , 0.31526407, 0.09251931],\n",
       "       [0.43821504, 0.        , 0.        , 1.46371155],\n",
       "       [0.        , 0.        , 0.        , 0.        ],\n",
       "       [0.20186408, 0.        , 0.05285871, 0.86097947]])"
      ]
     },
     "execution_count": 180,
     "metadata": {},
     "output_type": "execute_result"
    }
   ],
   "source": [
    "#To set all of the negative values in data to 0\n",
    "data[data<0] = 0\n",
    "data"
   ]
  },
  {
   "cell_type": "markdown",
   "id": "8ad84a0a-1fe2-4d27-9b0f-cdba7e629d30",
   "metadata": {},
   "source": [
    "## Fancy Indexing\n",
    "\n",
    "Fancy indexing is a term adopted by NumPy to describe indexing using integer arrays."
   ]
  },
  {
   "cell_type": "code",
   "execution_count": 181,
   "id": "0abdad1c-0ccd-40ea-9b58-16b1d33d346d",
   "metadata": {},
   "outputs": [
    {
     "data": {
      "text/plain": [
       "array([[0., 0., 0., 0.],\n",
       "       [1., 1., 1., 1.],\n",
       "       [2., 2., 2., 2.],\n",
       "       [3., 3., 3., 3.],\n",
       "       [4., 4., 4., 4.],\n",
       "       [5., 5., 5., 5.],\n",
       "       [6., 6., 6., 6.],\n",
       "       [7., 7., 7., 7.]])"
      ]
     },
     "execution_count": 181,
     "metadata": {},
     "output_type": "execute_result"
    }
   ],
   "source": [
    "arr = np.empty((8, 4))\n",
    "for i in range(8):\n",
    "    arr[i] = i\n",
    "arr"
   ]
  },
  {
   "cell_type": "code",
   "execution_count": 182,
   "id": "766222e3-80b0-4db6-8be5-8d6b8c2a073f",
   "metadata": {},
   "outputs": [
    {
     "data": {
      "text/plain": [
       "array([[4., 4., 4., 4.],\n",
       "       [3., 3., 3., 3.],\n",
       "       [0., 0., 0., 0.],\n",
       "       [6., 6., 6., 6.]])"
      ]
     },
     "execution_count": 182,
     "metadata": {},
     "output_type": "execute_result"
    }
   ],
   "source": [
    "#To select out a subset of the rows in a particular order, you can simply pass a list or ndarray of integers specifying the desired order\n",
    "arr[[4, 3, 0, 6]]"
   ]
  },
  {
   "cell_type": "code",
   "execution_count": 183,
   "id": "cbb1f2cb-1671-4895-a600-748daa7f85ff",
   "metadata": {},
   "outputs": [
    {
     "data": {
      "text/plain": [
       "array([[5., 5., 5., 5.],\n",
       "       [3., 3., 3., 3.],\n",
       "       [1., 1., 1., 1.]])"
      ]
     },
     "execution_count": 183,
     "metadata": {},
     "output_type": "execute_result"
    }
   ],
   "source": [
    "#Using negative indices selects rows from the end\n",
    "arr[[-3, -5, -7]]"
   ]
  },
  {
   "cell_type": "code",
   "execution_count": 184,
   "id": "f62a869d-a5d5-4a8c-a4dc-45edf9b37b38",
   "metadata": {},
   "outputs": [
    {
     "data": {
      "text/plain": [
       "array([[ 0,  1,  2,  3],\n",
       "       [ 4,  5,  6,  7],\n",
       "       [ 8,  9, 10, 11],\n",
       "       [12, 13, 14, 15],\n",
       "       [16, 17, 18, 19],\n",
       "       [20, 21, 22, 23],\n",
       "       [24, 25, 26, 27],\n",
       "       [28, 29, 30, 31]])"
      ]
     },
     "execution_count": 184,
     "metadata": {},
     "output_type": "execute_result"
    }
   ],
   "source": [
    "#Passing multiple index arrays does something slightly different\n",
    "#it selects a one-dimensional array of elements corresponding to each tuple of indices\n",
    "arr = np.arange(32).reshape((8, 4))\n",
    "arr"
   ]
  },
  {
   "cell_type": "code",
   "execution_count": 185,
   "id": "099134c5-66e7-4bdc-9402-6d089f4ca69b",
   "metadata": {},
   "outputs": [
    {
     "data": {
      "text/plain": [
       "array([ 4, 23, 29, 10])"
      ]
     },
     "execution_count": 185,
     "metadata": {},
     "output_type": "execute_result"
    }
   ],
   "source": [
    "arr[[1, 5, 7, 2], [0, 3, 1, 2]]\n",
    "#Here the elements (1, 0), (5, 3), (7, 1), and (2, 2) were selected"
   ]
  },
  {
   "cell_type": "code",
   "execution_count": 186,
   "id": "bae12bb4-b474-4f90-a823-a2b68bb62215",
   "metadata": {},
   "outputs": [
    {
     "data": {
      "text/plain": [
       "array([[ 4,  7,  5,  6],\n",
       "       [20, 23, 21, 22],\n",
       "       [28, 31, 29, 30],\n",
       "       [ 8, 11,  9, 10]])"
      ]
     },
     "execution_count": 186,
     "metadata": {},
     "output_type": "execute_result"
    }
   ],
   "source": [
    "#The behavior of fancy indexing in this case is a bit different from what some users might have expected\n",
    "arr[[1, 5, 7, 2]][:, [0, 3, 1, 2]]"
   ]
  },
  {
   "cell_type": "markdown",
   "id": "1c69e7ae-76b5-448f-8e4f-00ab20c29d26",
   "metadata": {},
   "source": [
    "## Transposing Arrays and Swapping Axes\n",
    "\n",
    "### Transposing Arrays\n",
    "\n",
    "- **Transposing** is a **special form of reshaping** in NumPy that **returns a *view* on the underlying data without copying anything**.\n",
    "\n",
    "- This allows you to **rearrange the axes of an array efficiently for numerical computations** without additional memory overhead.\n",
    "\n",
    "---\n",
    "\n",
    "### Methods to Transpose\n",
    "\n",
    "1. **Using the `transpose` method**\n",
    "2.  **Using the special `.T` attribute**\n",
    "\n",
    "- Both methods swap the axes of the array to produce the transposed view.\n",
    "\n",
    "**Transposing and swapping axes are essential when**:\n",
    "\n",
    "- Performing matrix operations.\n",
    "\n",
    "- Adjusting axes to match expected input shapes for functions.\n",
    "\n",
    "- Rearranging data layouts without copying, ensuring efficient memory usage."
   ]
  },
  {
   "cell_type": "code",
   "execution_count": 187,
   "id": "02a1e68e-4cfd-4921-aad7-8bc2777a3431",
   "metadata": {},
   "outputs": [
    {
     "data": {
      "text/plain": [
       "array([[ 0,  1,  2,  3,  4],\n",
       "       [ 5,  6,  7,  8,  9],\n",
       "       [10, 11, 12, 13, 14]])"
      ]
     },
     "execution_count": 187,
     "metadata": {},
     "output_type": "execute_result"
    }
   ],
   "source": [
    "arr = np.arange(15).reshape((3, 5))\n",
    "arr"
   ]
  },
  {
   "cell_type": "code",
   "execution_count": 188,
   "id": "deecf8e4-edee-47dd-9f63-d9961a3f5a18",
   "metadata": {},
   "outputs": [
    {
     "data": {
      "text/plain": [
       "array([[ 0,  5, 10],\n",
       "       [ 1,  6, 11],\n",
       "       [ 2,  7, 12],\n",
       "       [ 3,  8, 13],\n",
       "       [ 4,  9, 14]])"
      ]
     },
     "execution_count": 188,
     "metadata": {},
     "output_type": "execute_result"
    }
   ],
   "source": [
    "arr.T"
   ]
  },
  {
   "cell_type": "code",
   "execution_count": 189,
   "id": "b930bd6f-0140-418d-9bbf-705d84e6e6aa",
   "metadata": {},
   "outputs": [
    {
     "data": {
      "text/plain": [
       "array([[ 0,  5, 10],\n",
       "       [ 1,  6, 11],\n",
       "       [ 2,  7, 12],\n",
       "       [ 3,  8, 13],\n",
       "       [ 4,  9, 14]])"
      ]
     },
     "execution_count": 189,
     "metadata": {},
     "output_type": "execute_result"
    }
   ],
   "source": [
    "arr.transpose()"
   ]
  },
  {
   "cell_type": "code",
   "execution_count": 190,
   "id": "379db9ff-a43d-4a03-a479-77beab37bec3",
   "metadata": {},
   "outputs": [
    {
     "data": {
      "text/plain": [
       "array([[[ 0,  1,  2,  3],\n",
       "        [ 8,  9, 10, 11]],\n",
       "\n",
       "       [[ 4,  5,  6,  7],\n",
       "        [12, 13, 14, 15]]])"
      ]
     },
     "execution_count": 190,
     "metadata": {},
     "output_type": "execute_result"
    }
   ],
   "source": [
    "# For higher dimensional arrays, transpose will accept a tuple of axis numbers to per‐ mute the axes\n",
    "arr = np.arange(16).reshape((2, 2, 4))\n",
    "arr.transpose((1, 0, 2))\n",
    "# Here, the axes have been reordered with the second axis first, the first axis second,and the last axis unchanged."
   ]
  },
  {
   "cell_type": "code",
   "execution_count": 191,
   "id": "37d80628-dfd0-4792-b627-a26b1a8d6569",
   "metadata": {},
   "outputs": [
    {
     "data": {
      "text/plain": [
       "array([[[ 0,  4],\n",
       "        [ 1,  5],\n",
       "        [ 2,  6],\n",
       "        [ 3,  7]],\n",
       "\n",
       "       [[ 8, 12],\n",
       "        [ 9, 13],\n",
       "        [10, 14],\n",
       "        [11, 15]]])"
      ]
     },
     "execution_count": 191,
     "metadata": {},
     "output_type": "execute_result"
    }
   ],
   "source": [
    "# Simple transposing with .T is a special case of swapping axes\n",
    "# ndarray has the method swapaxes, which takes a pair of axis numbers and switches the indicated axes to rearrange the data\n",
    "arr.swapaxes(1, 2)\n",
    "#swapaxes similarly returns a view on the data without making a copy."
   ]
  },
  {
   "cell_type": "markdown",
   "id": "9396723b-f2c4-4ee4-aaf1-99ececec1c3f",
   "metadata": {},
   "source": [
    "## Universal Functions (ufuncs): Fast Element-Wise Array Functions\n",
    "\n",
    "A **universal function (ufunc)** in NumPy is a **function that performs fast, element-wise operations on `ndarray` data.**\n",
    "\n",
    "You can think of ufuncs as **fast, vectorized wrappers around functions that take one or more scalar inputs and produce one or more scalar outputs.**\n",
    "\n",
    "Ufuncs help in:\n",
    "- Writing cleaner, loop-free numerical code  \n",
    "- Utilizing optimized, compiled C backend for speed  \n",
    "- Expressing element-wise operations naturally\n",
    "\n",
    "---\n",
    "\n",
    "## Table: Unary Universal Functions\n",
    "\n",
    "| **Function** | **Description** |\n",
    "|--------------|-----------------|\n",
    "| `abs`, `fabs` | Compute the absolute value element-wise for integer, float, or complex values |\n",
    "| `sqrt` | Compute the square root of each element (`arr ** 0.5`) |\n",
    "| `square` | Compute the square of each element (`arr ** 2`) |\n",
    "| `exp` | Compute the exponent *e^x* of each element |\n",
    "| `log`, `log10`, `log2`, `log1p` | Natural log, log base 10, log base 2, log(1 + x) |\n",
    "| `sign` | Compute the sign of each element: 1 (positive), 0 (zero), -1 (negative) |\n",
    "| `ceil` | Compute the ceiling (smallest integer >= element) |\n",
    "| `floor` | Compute the floor (largest integer <= element) |\n",
    "| `rint` | Round to nearest integer, preserving dtype |\n",
    "| `modf` | Return fractional and integral parts of each element as separate arrays |\n",
    "| `isnan` | Boolean array indicating whether each value is NaN |\n",
    "| `isfinite`, `isinf` | Boolean array indicating whether each value is finite or infinite |\n",
    "| `cos`, `cosh`, `sin`, `sinh`, `tan`, `tanh` | Regular and hyperbolic trigonometric functions |\n",
    "| `arccos`, `arccosh`, `arcsin`, `arcsinh`, `arctan`, `arctanh` | Inverse trigonometric functions |\n",
    "| `logical_not` | Compute truth value of `not x` element-wise (equivalent to `~arr`) |\n",
    "\n",
    "---\n",
    "\n",
    "## Table: Binary Universal Functions\n",
    "\n",
    "| **Function** | **Description** |\n",
    "|--------------|-----------------|\n",
    "| `add` | Element-wise addition |\n",
    "| `subtract` | Element-wise subtraction (first - second) |\n",
    "| `multiply` | Element-wise multiplication |\n",
    "| `divide`, `floor_divide` | Element-wise division or floor division (truncating remainder) |\n",
    "| `power` | Raise elements in first array to powers in second array |\n",
    "| `maximum`, `fmax` | Element-wise maximum (`fmax` ignores NaN) |\n",
    "| `minimum`, `fmin` | Element-wise minimum (`fmin` ignores NaN) |\n",
    "| `mod` | Element-wise modulus (remainder after division) |\n",
    "| `copysign` | Copy sign of values in second array to first array |\n",
    "| `greater`, `greater_equal`, `less`, `less_equal`, `equal`, `not_equal` | Element-wise comparison, returning boolean arrays (equivalent to `>`, `>=`, `<`, `<=`, `==`, `!=`) |\n",
    "| `logical_and`, `logical_or`, `logical_xor` | Compute element-wise logical operations |\n",
    "\n",
    "---\n"
   ]
  },
  {
   "cell_type": "code",
   "execution_count": 192,
   "id": "208087f6-53f0-4309-be1a-748ee965274d",
   "metadata": {},
   "outputs": [
    {
     "data": {
      "text/plain": [
       "array([0.        , 1.        , 1.41421356, 1.73205081, 2.        ,\n",
       "       2.23606798, 2.44948974, 2.64575131, 2.82842712, 3.        ])"
      ]
     },
     "execution_count": 192,
     "metadata": {},
     "output_type": "execute_result"
    }
   ],
   "source": [
    "arr = np.arange(10)\n",
    "np.sqrt(arr)"
   ]
  },
  {
   "cell_type": "code",
   "execution_count": 193,
   "id": "5592b562-d51b-4d0a-82ec-c7818a101c0d",
   "metadata": {},
   "outputs": [
    {
     "data": {
      "text/plain": [
       "array([1.00000000e+00, 2.71828183e+00, 7.38905610e+00, 2.00855369e+01,\n",
       "       5.45981500e+01, 1.48413159e+02, 4.03428793e+02, 1.09663316e+03,\n",
       "       2.98095799e+03, 8.10308393e+03])"
      ]
     },
     "execution_count": 193,
     "metadata": {},
     "output_type": "execute_result"
    }
   ],
   "source": [
    "np.exp(arr)"
   ]
  },
  {
   "cell_type": "code",
   "execution_count": 194,
   "id": "a68b8049-a61e-4b66-a2d9-991aa8c20cb6",
   "metadata": {},
   "outputs": [
    {
     "data": {
      "text/plain": [
       "array([-0.78972361,  1.51707125, -0.5428394 ,  0.86580022,  0.95569736,\n",
       "        1.42942444,  1.35413732,  0.48958956])"
      ]
     },
     "execution_count": 194,
     "metadata": {},
     "output_type": "execute_result"
    }
   ],
   "source": [
    "x = np.random.randn(8)\n",
    "y = np.random.randn(8)\n",
    "np.maximum(x, y)"
   ]
  },
  {
   "cell_type": "code",
   "execution_count": 195,
   "id": "45e0df43-17eb-4c8b-bc4c-fca2b61b4b09",
   "metadata": {},
   "outputs": [
    {
     "name": "stdout",
     "output_type": "stream",
     "text": [
      "[ 7.38145434 -2.96853581 10.34431209  8.3075847  -3.46183637  4.04742104\n",
      " -0.10736045]\n",
      "[ 0.38145434 -0.96853581  0.34431209  0.3075847  -0.46183637  0.04742104\n",
      " -0.10736045]\n",
      "[ 7. -2. 10.  8. -3.  4. -0.]\n"
     ]
    }
   ],
   "source": [
    "# While not common, a ufunc can return multiple arrays. modf is one example, a vectorized version of the built-in Python divmod; it returns the fractional and integral parts of a floating-point array\n",
    "arr = np.random.randn(7) * 5\n",
    "print(arr)\n",
    "remainder, whole_part = np.modf(arr)\n",
    "print(remainder)\n",
    "print(whole_part)"
   ]
  },
  {
   "cell_type": "code",
   "execution_count": 196,
   "id": "3b359d74-57d8-4715-9748-2d45dbd0cb10",
   "metadata": {},
   "outputs": [
    {
     "name": "stdout",
     "output_type": "stream",
     "text": [
      "[ 7.38145434 -2.96853581 10.34431209  8.3075847  -3.46183637  4.04742104\n",
      " -0.10736045]\n"
     ]
    },
    {
     "name": "stderr",
     "output_type": "stream",
     "text": [
      "/tmp/ipykernel_5808/1663797801.py:3: RuntimeWarning: invalid value encountered in sqrt\n",
      "  np.sqrt(arr)\n"
     ]
    },
    {
     "data": {
      "text/plain": [
       "array([2.7168832 ,        nan, 3.21625747, 2.8822881 ,        nan,\n",
       "       2.01182033,        nan])"
      ]
     },
     "execution_count": 196,
     "metadata": {},
     "output_type": "execute_result"
    }
   ],
   "source": [
    "#Ufuncs accept an optional out argument that allows them to operate in-place on arrays\n",
    "print(arr)\n",
    "np.sqrt(arr)"
   ]
  },
  {
   "cell_type": "code",
   "execution_count": 197,
   "id": "7c4854ce-b41d-4aa0-959b-5f804fd44312",
   "metadata": {},
   "outputs": [
    {
     "name": "stderr",
     "output_type": "stream",
     "text": [
      "/tmp/ipykernel_5808/269955669.py:1: RuntimeWarning: invalid value encountered in sqrt\n",
      "  np.sqrt(arr, arr)\n"
     ]
    },
    {
     "data": {
      "text/plain": [
       "array([2.7168832 ,        nan, 3.21625747, 2.8822881 ,        nan,\n",
       "       2.01182033,        nan])"
      ]
     },
     "execution_count": 197,
     "metadata": {},
     "output_type": "execute_result"
    }
   ],
   "source": [
    "np.sqrt(arr, arr)"
   ]
  },
  {
   "cell_type": "code",
   "execution_count": 198,
   "id": "63013e0e-bbd8-4808-8f5a-076e8da38f9b",
   "metadata": {},
   "outputs": [
    {
     "data": {
      "text/plain": [
       "array([2.7168832 ,        nan, 3.21625747, 2.8822881 ,        nan,\n",
       "       2.01182033,        nan])"
      ]
     },
     "execution_count": 198,
     "metadata": {},
     "output_type": "execute_result"
    }
   ],
   "source": [
    "arr"
   ]
  },
  {
   "cell_type": "markdown",
   "id": "d13bad83-3b70-451b-a769-0ab9e89d883a",
   "metadata": {},
   "source": [
    "## Mathematical and Statistical Methods in NumPy\n",
    "\n",
    "NumPy provides a **set of mathematical functions that compute statistics on an entire array or along a specified axis.**\n",
    "\n",
    "- These are available as **methods on the `ndarray` object** or as **top-level NumPy functions**.\n",
    "\n",
    "- Such operations are often called **aggregations (reductions)** as they reduce an array to a single value or summary values along an axis.\n",
    "\n",
    "---\n",
    "\n",
    "## Table: Common Mathematical and Statistical Methods\n",
    "\n",
    "| **Method** | **Description** |\n",
    "|------------|-----------------|\n",
    "| `sum` | Sum of all elements in the array or along an axis; zero-length arrays return 0 |\n",
    "| `mean` | Arithmetic mean; zero-length arrays return NaN |\n",
    "| `std`, `var` | Standard deviation and variance, respectively, with optional degrees of freedom adjustment (`ddof`, default denominator `n`) |\n",
    "| `min`, `max` | Minimum and maximum values in the array |\n",
    "| `argmin`, `argmax` | Indices of the minimum and maximum elements, respectively |\n",
    "| `cumsum` | Cumulative sum of elements, starting from 0 |\n",
    "| `cumprod` | Cumulative product of elements, starting from 1 |\n",
    "\n",
    "---\n",
    "\n"
   ]
  },
  {
   "cell_type": "code",
   "execution_count": 199,
   "id": "dc476559-b30c-46c6-839e-39f125a0a52a",
   "metadata": {},
   "outputs": [
    {
     "data": {
      "text/plain": [
       "array([[ 1.41768574,  0.78430228,  1.37152651,  0.2935222 ],\n",
       "       [-0.03897089, -1.60616327,  1.56199599, -0.39639614],\n",
       "       [ 0.69697138,  0.59874788,  0.89707955,  0.26367773],\n",
       "       [ 0.66706307, -2.29233604,  0.78473126, -0.20021012],\n",
       "       [-0.99227801,  0.19743072, -1.07821106, -0.43374261]])"
      ]
     },
     "execution_count": 199,
     "metadata": {},
     "output_type": "execute_result"
    }
   ],
   "source": [
    "arr = np.random.randn(5, 4)\n",
    "arr"
   ]
  },
  {
   "cell_type": "code",
   "execution_count": 200,
   "id": "59bf7611-a683-4852-baef-538d59fbc337",
   "metadata": {},
   "outputs": [
    {
     "name": "stdout",
     "output_type": "stream",
     "text": [
      "mean: 0.12482130837034651\n",
      "sum: 2.49642616740693\n"
     ]
    }
   ],
   "source": [
    "print(f\"mean: {arr.mean()}\")\n",
    "print(f\"sum: {arr.sum()}\")\n"
   ]
  },
  {
   "cell_type": "code",
   "execution_count": 201,
   "id": "7425aa92-c69c-4ede-b4dc-d53cd7656cf9",
   "metadata": {},
   "outputs": [
    {
     "data": {
      "text/plain": [
       "array([ 0.96675918, -0.11988358,  0.61411914, -0.26018796, -0.57670024])"
      ]
     },
     "execution_count": 201,
     "metadata": {},
     "output_type": "execute_result"
    }
   ],
   "source": [
    "#Functions like mean and sum take an optional axis argument that computes the statistic over the given axis, resulting in an array with one fewer dimension\n",
    "arr.mean(axis=1)\n",
    "#arr.mean(1) means “compute mean across the columns” where arr.sum(0) means “compute sum down the rows.”"
   ]
  },
  {
   "cell_type": "code",
   "execution_count": 202,
   "id": "750a5cd0-0ff2-4229-b913-596591b4efda",
   "metadata": {},
   "outputs": [
    {
     "name": "stdout",
     "output_type": "stream",
     "text": [
      "[[0 1 2]\n",
      " [3 4 5]\n",
      " [6 7 8]]\n",
      "[[ 0  1  2]\n",
      " [ 3  5  7]\n",
      " [ 9 12 15]]\n"
     ]
    }
   ],
   "source": [
    "#In multidimensional arrays, accumulation functions like cumsum return an array of the same size, but with the partial aggregates computed along the indicated axis according to each lower dimensional slice\n",
    "arr = np.array([[0, 1, 2], [3, 4, 5], [6, 7, 8]])\n",
    "print(arr)\n",
    "print(arr.cumsum(axis=0))"
   ]
  },
  {
   "cell_type": "markdown",
   "id": "7b0bc205-d014-4d8b-a6fc-32e610e72c44",
   "metadata": {},
   "source": [
    "## Methods on boolean arrays\n",
    "\n",
    "Boolean values are coerced to 1 (True) and 0 (False) in the preceding methods. Thus,\n",
    "sum is often used as a means of counting True values in a boolean array"
   ]
  },
  {
   "cell_type": "code",
   "execution_count": 203,
   "id": "c017614d-8276-485e-b878-5f0002b81ef8",
   "metadata": {},
   "outputs": [
    {
     "data": {
      "text/plain": [
       "np.int64(54)"
      ]
     },
     "execution_count": 203,
     "metadata": {},
     "output_type": "execute_result"
    }
   ],
   "source": [
    "arr = np.random.randn(100)\n",
    "(arr > 0).sum() # Number of positive values"
   ]
  },
  {
   "cell_type": "markdown",
   "id": "a763a4ac-cf32-400c-b285-fa5c4d6c5d63",
   "metadata": {},
   "source": [
    "There are two additional methods, any and all, useful especially for boolean arrays.\n",
    "any tests whether one or more values in an array is True, while all checks if every\n",
    "value is True"
   ]
  },
  {
   "cell_type": "code",
   "execution_count": 204,
   "id": "b6caf61f-8d7e-410a-91fd-8aff70660ff9",
   "metadata": {},
   "outputs": [
    {
     "name": "stdout",
     "output_type": "stream",
     "text": [
      "True\n",
      "False\n"
     ]
    }
   ],
   "source": [
    "bools = np.array([False, False, True, False])\n",
    "print(bools.any())\n",
    "print(bools.all())"
   ]
  },
  {
   "cell_type": "markdown",
   "id": "8b64df14-68eb-4f65-9af9-5762da0c6fcd",
   "metadata": {},
   "source": [
    "## Sorting\n",
    "\n",
    "Like Python’s built-in list type, NumPy arrays can be sorted in-place with the sort\n",
    "method"
   ]
  },
  {
   "cell_type": "code",
   "execution_count": 205,
   "id": "cb1c5b74-417c-4946-bc0a-e04c70266111",
   "metadata": {},
   "outputs": [
    {
     "data": {
      "text/plain": [
       "array([-1.04228527,  0.80799005, -0.292811  ,  0.42653431, -0.79028227,\n",
       "       -0.48068298])"
      ]
     },
     "execution_count": 205,
     "metadata": {},
     "output_type": "execute_result"
    }
   ],
   "source": [
    "arr = np.random.randn(6)\n",
    "arr"
   ]
  },
  {
   "cell_type": "code",
   "execution_count": 206,
   "id": "c40ac603-0f7d-4a05-a7fd-4a718bb9d20a",
   "metadata": {},
   "outputs": [
    {
     "data": {
      "text/plain": [
       "array([-1.04228527, -0.79028227, -0.48068298, -0.292811  ,  0.42653431,\n",
       "        0.80799005])"
      ]
     },
     "execution_count": 206,
     "metadata": {},
     "output_type": "execute_result"
    }
   ],
   "source": [
    "arr.sort()\n",
    "arr"
   ]
  },
  {
   "cell_type": "markdown",
   "id": "85108e72-0731-4c99-bed7-17af42498b76",
   "metadata": {},
   "source": [
    "You can sort each one-dimensional section of values in a multidimensional array in-\n",
    "place along an axis by passing the axis number to sort"
   ]
  },
  {
   "cell_type": "code",
   "execution_count": 207,
   "id": "ab1ea6ed-76ef-42ed-b1c2-c572fcac15c1",
   "metadata": {},
   "outputs": [
    {
     "data": {
      "text/plain": [
       "array([[ 0.08754167, -0.48740714,  0.41253123],\n",
       "       [ 0.69398157,  0.43263518, -0.79141755],\n",
       "       [ 1.15051988, -0.16079907,  1.51123358],\n",
       "       [-0.33823317, -0.1327509 , -0.02333186],\n",
       "       [-0.96690997, -1.79332624, -0.01227651]])"
      ]
     },
     "execution_count": 207,
     "metadata": {},
     "output_type": "execute_result"
    }
   ],
   "source": [
    "arr = np.random.randn(5, 3)\n",
    "arr"
   ]
  },
  {
   "cell_type": "code",
   "execution_count": 208,
   "id": "7c5faa99-8cba-49e4-9dfc-d479f9077d1f",
   "metadata": {},
   "outputs": [],
   "source": [
    "arr.sort(1)"
   ]
  },
  {
   "cell_type": "markdown",
   "id": "a1816563-a2f0-47f4-b68f-687d82380d76",
   "metadata": {},
   "source": [
    "The top-level method np.sort returns a sorted copy of an array instead of modifying\n",
    "the array in-place."
   ]
  },
  {
   "cell_type": "markdown",
   "id": "d7f29084-45d5-4cc4-bdbd-41413090afaf",
   "metadata": {},
   "source": [
    "## Unique and Other Set Logic in NumPy\n",
    "\n",
    "NumPy provides **basic set operations for one-dimensional `ndarray`s**, enabling you to efficiently perform set-based computations during data analysis and preprocessing.\n",
    "\n",
    "---\n",
    "\n",
    "- A **commonly used function is `np.unique`**, which returns the **sorted unique values in an array**.\n",
    "- Another useful function is `np.in1d`, which **tests membership of the values in one array within another**, returning a boolean array.\n",
    "\n",
    "---\n",
    "\n",
    "## Table: Array Set Operations\n",
    "\n",
    "| **Function** | **Description** |\n",
    "|--------------|-----------------|\n",
    "| `unique(x)` | Compute the sorted, unique elements in `x`. |\n",
    "| `intersect1d(x, y)` | Compute the sorted, common elements in `x` and `y`. |\n",
    "| `union1d(x, y)` | Compute the sorted union of elements in `x` and `y`. |\n",
    "| `in1d(x, y)` | Return a boolean array indicating whether each element of `x` is contained in `y`. |\n",
    "| `setdiff1d(x, y)` | Compute the set difference: elements in `x` that are not in `y`. |\n",
    "| `setxor1d(x, y)` | Compute the set symmetric difference: elements that are in either `x` or `y`, but not both. |\n",
    "\n",
    "---\n",
    "\n",
    "### Why These Are Useful\n",
    "\n",
    " Enable **fast set operations on numerical or categorical data** while leveraging NumPy’s vectorization.  \n",
    "Useful for:\n",
    "- Removing duplicates (`unique`)\n",
    "- Finding common elements (`intersect1d`)\n",
    "- Checking membership (`in1d`)\n",
    "- Filtering or preparing datasets before merging or joining operations.\n",
    "\n",
    "Return **sorted results for consistency in downstream processing**.\n",
    "\n"
   ]
  },
  {
   "cell_type": "code",
   "execution_count": 209,
   "id": "7b87ef18-123b-4a84-a801-095017d3b698",
   "metadata": {},
   "outputs": [
    {
     "data": {
      "text/plain": [
       "array(['Bob', 'Joe', 'Will'], dtype='<U4')"
      ]
     },
     "execution_count": 209,
     "metadata": {},
     "output_type": "execute_result"
    }
   ],
   "source": [
    "names = np.array(['Bob', 'Joe', 'Will', 'Bob', 'Will', 'Joe', 'Joe'])\n",
    "np.unique(names)"
   ]
  },
  {
   "cell_type": "code",
   "execution_count": 211,
   "id": "2e8147e2-d925-4d24-8b7b-0accb4befad6",
   "metadata": {},
   "outputs": [
    {
     "data": {
      "text/plain": [
       "array([ True, False, False,  True,  True, False,  True])"
      ]
     },
     "execution_count": 211,
     "metadata": {},
     "output_type": "execute_result"
    }
   ],
   "source": [
    "values = np.array([6, 0, 0, 3, 2, 5, 6])\n",
    "np.isin(values, [2, 3, 6])\n",
    "#isin alternative for inld"
   ]
  },
  {
   "cell_type": "markdown",
   "id": "6aa791eb-f240-4d7d-8261-56fd3b3b3be6",
   "metadata": {},
   "source": [
    "## Linear Algebra in NumPy\n",
    "\n",
    "**Linear algebra** operations such as **matrix multiplication, decompositions, determinants, and square matrix operations** are essential in scientific computing, data analysis, and machine learning workflows.\n",
    "\n",
    "---\n",
    "\n",
    "### Key Points\n",
    "\n",
    "- In **NumPy**, multiplying two 2D arrays with `*` **performs element-wise multiplication**, *not* matrix multiplication (unlike MATLAB).\n",
    "- For **matrix multiplication**, use the `dot` function, available as:\n",
    "  - An **array method**: `arr.dot()`\n",
    "  - A **top-level function**: `np.dot()`\n",
    "\n",
    "- The `numpy.linalg` module provides **standard matrix decompositions and linear algebra operations** like:\n",
    "  - Inverses\n",
    "  - Determinants\n",
    "  - Eigenvalues and eigenvectors\n",
    "\n",
    "✅ These are implemented under the hood using **industry-standard linear algebra libraries** (BLAS, LAPACK, Intel MKL depending on your NumPy build), ensuring performance comparable to MATLAB or R.\n",
    "\n",
    "---\n",
    "\n",
    "## Table: Commonly Used `numpy.linalg` Functions\n",
    "\n",
    "| **Function** | **Description** |\n",
    "|--------------|-----------------|\n",
    "| `diag` | Return the diagonal (or off-diagonal) elements of a square matrix as a 1D array, or convert a 1D array into a square matrix with zeros on the off-diagonal |\n",
    "| `dot` | Matrix multiplication |\n",
    "| `trace` | Compute the sum of the diagonal elements of a matrix |\n",
    "| `det` | Compute the determinant of a matrix |\n",
    "| `eig` | Compute the eigenvalues and eigenvectors of a square matrix |\n",
    "| `inv` | Compute the inverse of a square matrix |\n",
    "| `pinv` | Compute the Moore-Penrose pseudo-inverse of a matrix |\n",
    "| `qr` | Compute the QR decomposition of a matrix |\n",
    "| `svd` | Compute the Singular Value Decomposition (SVD) of a matrix |\n",
    "| `solve` | Solve the linear system `Ax = b` for `x`, where `A` is a square matrix |\n",
    "| `lstsq` | Compute the least-squares solution to `Ax = b` |\n",
    "\n",
    "---\n",
    "\n",
    "### Why This Is Useful\n",
    "\n",
    "✅ Essential for:\n",
    "- Solving systems of linear equations\n",
    "- Computing projections in ML models\n",
    "- Dimensionality reduction (SVD, PCA)\n",
    "- Feature engineering and data transformations\n",
    "\n",
    "✅ Allows leveraging **high-performance, vectorized, and compiled operations** within Python workflows without leaving the `NumPy` ecosystem.\n",
    "\n"
   ]
  }
 ],
 "metadata": {
  "kernelspec": {
   "display_name": "Python 3 (ipykernel)",
   "language": "python",
   "name": "python3"
  },
  "language_info": {
   "codemirror_mode": {
    "name": "ipython",
    "version": 3
   },
   "file_extension": ".py",
   "mimetype": "text/x-python",
   "name": "python",
   "nbconvert_exporter": "python",
   "pygments_lexer": "ipython3",
   "version": "3.13.5"
  }
 },
 "nbformat": 4,
 "nbformat_minor": 5
}
