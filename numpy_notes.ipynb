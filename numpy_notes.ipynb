{
 "cells": [
  {
   "cell_type": "markdown",
   "id": "031807a1-85c0-47e6-b1d3-f70c203d13f5",
   "metadata": {},
   "source": [
    "# NumPy - Numerical Python\n",
    "\n",
    "- **Foundational package for numerical computing in Python**  \n",
    "- It is widely used because of its following capabilities:\n",
    "\n",
    "  - `ndarray` is an **efficient multidimensional array** for storing and manipulating numerical data.\n",
    "  - Enables **faster mathematical operations** on entire arrays without writing explicit loops.\n",
    "  - Supports **linear algebra, random number generation, and Fourier transform capabilities**.\n",
    "  - Provides a **C API** for connecting NumPy with libraries written in C, C++, or FORTRAN.\n"
   ]
  },
  {
   "cell_type": "markdown",
   "id": "dfa9f4fe-a5b9-49f4-9d15-98fcb311b32a",
   "metadata": {},
   "source": [
    "## Why NumPy is Efficient for Large Array Data\n",
    "\n",
    "- **NumPy is majorly used for its efficient handling of large amounts of array data.**\n",
    "- It provides this efficiency because:\n",
    "  - NumPy stores data internally in **contiguous memory blocks**, unlike other Python data structures.\n",
    "  - The **NumPy library is written in C**, allowing it to use memory directly without type checks or other overhead.\n",
    "  - Its operations perform **complex computations on entire arrays without the need for Python `for` loops.**\n",
    "  - It **uses less memory** compared to other Python sequences.\n",
    "    \n",
    "Example on **how NumPy performs these optimizations will be demonstrated with a small example** in the next section.\n"
   ]
  },
  {
   "cell_type": "code",
   "execution_count": 5,
   "id": "5f7b0cb3-4377-48a5-8471-8796b3749567",
   "metadata": {},
   "outputs": [
    {
     "name": "stdout",
     "output_type": "stream",
     "text": [
      "Requirement already satisfied: numpy in /home/sumanthd032/jupyter_env/lib64/python3.13/site-packages (2.3.1)\n",
      "Note: you may need to restart the kernel to use updated packages.\n"
     ]
    }
   ],
   "source": [
    "pip install numpy"
   ]
  },
  {
   "cell_type": "code",
   "execution_count": 7,
   "id": "010ecf40-290d-48ee-b412-26e725434b9d",
   "metadata": {},
   "outputs": [
    {
     "name": "stdout",
     "output_type": "stream",
     "text": [
      "Time take to multiply entire array with 2: \n",
      "CPU times: user 23.9 ms, sys: 240 μs, total: 24.2 ms\n",
      "Wall time: 24.8 ms\n",
      "Time take to multiply entire list with 2: \n",
      "CPU times: user 428 ms, sys: 165 ms, total: 593 ms\n",
      "Wall time: 599 ms\n"
     ]
    }
   ],
   "source": [
    "import numpy as np\n",
    "\n",
    "my_arr = np.arange(1000000)\n",
    "my_list = list(range(1000000))\n",
    "\n",
    "print(\"Time take to multiply entire array with 2: \")\n",
    "%time for _ in range(10): my_arr2 = my_arr * 2\n",
    "\n",
    "print(\"Time take to multiply entire list with 2: \")\n",
    "%time for _ in range(10): my_list2 = [x * 2 for x in my_list]"
   ]
  },
  {
   "cell_type": "markdown",
   "id": "8b643caf-e8e4-4ab2-870c-6a6796d94491",
   "metadata": {},
   "source": [
    "## The NumPy `ndarray`: A Multidimensional Array Object\n",
    "\n",
    "One of the **key features of NumPy** is its **N-dimensional array object (`ndarray`)**, which is a **fast and flexible container for large datasets in Python**.\n",
    "\n",
    "- An `ndarray` is a **generic multidimensional container for homogeneous data**:\n",
    "  - All elements in the array must be of the **same data type**.\n",
    "  \n",
    "- **Every array has:**\n",
    "  - **`shape`**: A tuple indicating the **size of each dimension** of the array.\n",
    "  - **`dtype`**: An object describing the **data type of the array**.\n"
   ]
  },
  {
   "cell_type": "code",
   "execution_count": 3,
   "id": "2460b859-f256-4962-bf0d-7e130dc6bec8",
   "metadata": {},
   "outputs": [
    {
     "name": "stdout",
     "output_type": "stream",
     "text": [
      "[[ 0.06589305 -1.80080723 -1.28296313]\n",
      " [ 0.56619579  0.62240807  0.73046752]]\n",
      "Shape: (2, 3)\n",
      "Datatype: float64\n"
     ]
    },
    {
     "data": {
      "text/plain": [
       "(None,)"
      ]
     },
     "execution_count": 3,
     "metadata": {},
     "output_type": "execute_result"
    }
   ],
   "source": [
    "#Simple demonstration of numpy\n",
    "\n",
    "import numpy as np\n",
    "\n",
    "data = np.random.randn(2,3) #This will create a random array of dimension 2*3\n",
    "print(data)\n",
    "\n",
    "#Print the shape\n",
    "print(f\"Shape: {data.shape}\")\n",
    "\n",
    "#Print the datatype\n",
    "print(f\"Datatype: {data.dtype}\"),"
   ]
  },
  {
   "cell_type": "markdown",
   "id": "c0925770-6a13-4303-9b84-adfba9663acd",
   "metadata": {},
   "source": [
    "## Creating `ndarray`s\n",
    "\n",
    "There are many ways to create `ndarray`s in NumPy:\n",
    "\n",
    "1. **Using the `array` function**  \n",
    "   - Pass a **list or any sequence-like object** (including another array) to generate a new `ndarray`.\n",
    "   - **Note:** Nested sequences (like a list of equal-length lists) will be converted into a **multidimensional array**.\n",
    "\n",
    "2. **Arrays of zeros and ones**  \n",
    "   - Use `np.zeros(shape)` to create an array filled with **zeros**.\n",
    "   - Use `np.ones(shape)` to create an array filled with **ones**.\n",
    "\n",
    "3. **Creating an empty array**  \n",
    "   - Use `np.empty(shape)` to create an array that **may contain zeros or garbage values**, depending on the state of the memory.\n",
    "\n",
    "4. **Using `arange`**  \n",
    "   - `np.arange` is an **array-valued version of the built-in Python `range` function**.\n",
    "\n",
    "**Note:**  \n",
    "The **number of dimensions** of an array can be found using the **`ndim` attribute**.\n"
   ]
  },
  {
   "cell_type": "code",
   "execution_count": 4,
   "id": "85669697-e362-436f-af29-eb782e00972d",
   "metadata": {},
   "outputs": [
    {
     "name": "stdout",
     "output_type": "stream",
     "text": [
      "Array 1: [1 2 3 4 5]\n",
      "Multidimensional array: [[3 4 5]\n",
      " [2 3 4]]\n",
      "Number of dimensions: 2\n",
      "Array 2: [[0. 0. 0.]\n",
      " [0. 0. 0.]]\n",
      "Array 2: [[1. 1. 1.]\n",
      " [1. 1. 1.]]\n",
      "Array 3: [[1. 1. 1.]\n",
      " [1. 1. 1.]]\n",
      "Array 4: [ 0  1  2  3  4  5  6  7  8  9 10 11 12 13 14]\n"
     ]
    }
   ],
   "source": [
    "#Method 1\n",
    "list_data = [1,2,3,4,5]\n",
    "arr1 = np.array(list_data)\n",
    "print(f\"Array 1: {arr1}\")\n",
    "\n",
    "#Multidimensional array\n",
    "multidim_arr = np.array([[3,4,5],[2,3,4]])\n",
    "print(f\"Multidimensional array: {multidim_arr}\")\n",
    "print(f\"Number of dimensions: {multidim_arr.ndim}\")\n",
    "\n",
    "#Method 2\n",
    "arr2 = np.zeros((2,3))    #Here remember we have to pass tuple of dimension\n",
    "print(f\"Array 2: {arr2}\")\n",
    "arr2 = np.ones((2,3))\n",
    "print(f\"Array 2: {arr2}\")\n",
    "\n",
    "#Method 3\n",
    "arr3 = np.empty((2,3))\n",
    "print(f\"Array 3: {arr3}\")\n",
    "\n",
    "#Method 4\n",
    "arr4 = np.arange(15)\n",
    "print(f\"Array 4: {arr4}\")"
   ]
  },
  {
   "cell_type": "markdown",
   "id": "10b8653a-f72d-46a1-add1-0bd6e2752c87",
   "metadata": {},
   "source": [
    "## Array Creation Functions in NumPy\n",
    "\n",
    "| **Name**        | **Syntax**                                | **Description**                                                                                                                                 |\n",
    "|-----------------|-------------------------------------------|-------------------------------------------------------------------------------------------------------------------------------------------------|\n",
    "| `array`         | `np.array(data, dtype=None)`             | Converts input data (list, tuple, array, or other sequence) to an `ndarray` by inferring or explicitly specifying `dtype`; copies data by default. |\n",
    "| `asarray`       | `np.asarray(data, dtype=None)`           | Converts input to `ndarray`, **does not copy** if the input is already an `ndarray`.                                                            |\n",
    "| `arange`        | `np.arange(start, stop, step)`           | Like the built-in `range` but returns an `ndarray` instead of a list.                                                                          |\n",
    "| `ones`, `ones_like` | `np.ones(shape, dtype=None)`, `np.ones_like(a)` | Produces an array of all 1s with the given shape and dtype; `ones_like` creates a ones array of the **same shape and dtype as another array**.  |\n",
    "| `zeros`, `zeros_like` | `np.zeros(shape, dtype=None)`, `np.zeros_like(a)` | Like `ones` and `ones_like` but producing arrays of 0s instead.                                                                                |\n",
    "| `empty`, `empty_like` | `np.empty(shape, dtype=None)`, `np.empty_like(a)` | Creates new arrays by allocating memory without populating values (may contain garbage values).                                                |\n",
    "| `full`, `full_like`   | `np.full(shape, fill_value, dtype=None)`, `np.full_like(a, fill_value)` | Produces an array of the given shape and dtype with all values set to the indicated “fill value”; `full_like` uses another array’s shape and dtype. |\n",
    "| `eye`, `identity`     | `np.eye(N)`, `np.identity(N)`       | Creates a square N × N **identity matrix** (1s on the diagonal, 0s elsewhere).                                                                 |\n"
   ]
  }
 ],
 "metadata": {
  "kernelspec": {
   "display_name": "Python 3 (ipykernel)",
   "language": "python",
   "name": "python3"
  },
  "language_info": {
   "codemirror_mode": {
    "name": "ipython",
    "version": 3
   },
   "file_extension": ".py",
   "mimetype": "text/x-python",
   "name": "python",
   "nbconvert_exporter": "python",
   "pygments_lexer": "ipython3",
   "version": "3.13.5"
  }
 },
 "nbformat": 4,
 "nbformat_minor": 5
}
